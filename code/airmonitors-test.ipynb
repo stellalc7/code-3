{
 "cells": [
  {
   "cell_type": "code",
   "execution_count": 3,
   "metadata": {
    "collapsed": true
   },
   "outputs": [],
   "source": [
    "from ggplot import *\n",
    "%matplotlib inline\n",
    "import pandas as pd"
   ]
  },
  {
   "cell_type": "code",
   "execution_count": 13,
   "metadata": {
    "collapsed": false
   },
   "outputs": [
    {
     "name": "stderr",
     "output_type": "stream",
     "text": [
      "/Users/stella/anaconda/lib/python3.5/site-packages/IPython/core/interactiveshell.py:2717: DtypeWarning: Columns (2,3,4,5,6,7,8,9,10,11,12,13,14,15,16,17,18,19,20,21,22,23,24,25,26,27,28,29,30,31,32,33,34,35,36,37,38) have mixed types. Specify dtype option on import or set low_memory=False.\n",
      "  interactivity=interactivity, compiler=compiler, result=result)\n"
     ]
    }
   ],
   "source": [
    "urban=pd.read_csv('/Users/stella/Desktop/Pagesor A_29 June to 02 Oct 2017_UTC0.csv',delimiter=',',encoding='latin-1')\n",
    "urban=urban[['Alarm','Data','pegasor a','pegasor a.1','pegasor a.2','pegasor a.19','pegasor a.20','pegasor a.21','pegasor a.37','pegasor a.38','pegasor a.39']]\n",
    "urban.columns=['alarm','data','ldsa-1','pn-1','pm25-1','ldsa-2','pn-2','pm25-2','ldsa-3','pn-3','pm25-3']"
   ]
  },
  {
   "cell_type": "code",
   "execution_count": 27,
   "metadata": {
    "collapsed": false,
    "scrolled": true
   },
   "outputs": [
    {
     "data": {
      "text/html": [
       "<div>\n",
       "<table border=\"1\" class=\"dataframe\">\n",
       "  <thead>\n",
       "    <tr style=\"text-align: right;\">\n",
       "      <th></th>\n",
       "      <th>alarm</th>\n",
       "      <th>data</th>\n",
       "      <th>ldsa-1</th>\n",
       "      <th>pn-1</th>\n",
       "      <th>pm25-1</th>\n",
       "      <th>ldsa-2</th>\n",
       "      <th>pn-2</th>\n",
       "      <th>pm25-2</th>\n",
       "      <th>ldsa-3</th>\n",
       "      <th>pn-3</th>\n",
       "      <th>pm25-3</th>\n",
       "    </tr>\n",
       "  </thead>\n",
       "  <tbody>\n",
       "    <tr>\n",
       "      <th>7</th>\n",
       "      <td>29/06/2017</td>\n",
       "      <td>00:01</td>\n",
       "      <td>30.47</td>\n",
       "      <td>176784.55</td>\n",
       "      <td>1.21</td>\n",
       "      <td>0.00</td>\n",
       "      <td>0.00</td>\n",
       "      <td>0.00</td>\n",
       "      <td>34.04</td>\n",
       "      <td>194934.49</td>\n",
       "      <td>1.34</td>\n",
       "    </tr>\n",
       "    <tr>\n",
       "      <th>8</th>\n",
       "      <td>29/06/2017</td>\n",
       "      <td>00:02</td>\n",
       "      <td>30.47</td>\n",
       "      <td>176784.55</td>\n",
       "      <td>1.21</td>\n",
       "      <td>0.00</td>\n",
       "      <td>0.00</td>\n",
       "      <td>0.00</td>\n",
       "      <td>34.04</td>\n",
       "      <td>194934.49</td>\n",
       "      <td>1.34</td>\n",
       "    </tr>\n",
       "    <tr>\n",
       "      <th>9</th>\n",
       "      <td>29/06/2017</td>\n",
       "      <td>00:03</td>\n",
       "      <td>30.47</td>\n",
       "      <td>176784.55</td>\n",
       "      <td>1.21</td>\n",
       "      <td>0.00</td>\n",
       "      <td>0.00</td>\n",
       "      <td>0.00</td>\n",
       "      <td>33.93</td>\n",
       "      <td>194266.39</td>\n",
       "      <td>1.33</td>\n",
       "    </tr>\n",
       "    <tr>\n",
       "      <th>10</th>\n",
       "      <td>29/06/2017</td>\n",
       "      <td>00:04</td>\n",
       "      <td>30.47</td>\n",
       "      <td>176784.55</td>\n",
       "      <td>1.21</td>\n",
       "      <td>0.00</td>\n",
       "      <td>0.00</td>\n",
       "      <td>0.00</td>\n",
       "      <td>33.93</td>\n",
       "      <td>194266.39</td>\n",
       "      <td>1.33</td>\n",
       "    </tr>\n",
       "    <tr>\n",
       "      <th>11</th>\n",
       "      <td>29/06/2017</td>\n",
       "      <td>00:05</td>\n",
       "      <td>30.47</td>\n",
       "      <td>176784.55</td>\n",
       "      <td>1.21</td>\n",
       "      <td>0.00</td>\n",
       "      <td>0.00</td>\n",
       "      <td>0.00</td>\n",
       "      <td>35.71</td>\n",
       "      <td>204585.48</td>\n",
       "      <td>1.40</td>\n",
       "    </tr>\n",
       "  </tbody>\n",
       "</table>\n",
       "</div>"
      ],
      "text/plain": [
       "         alarm   data ldsa-1       pn-1 pm25-1 ldsa-2  pn-2 pm25-2 ldsa-3  \\\n",
       "7   29/06/2017  00:01  30.47  176784.55   1.21   0.00  0.00   0.00  34.04   \n",
       "8   29/06/2017  00:02  30.47  176784.55   1.21   0.00  0.00   0.00  34.04   \n",
       "9   29/06/2017  00:03  30.47  176784.55   1.21   0.00  0.00   0.00  33.93   \n",
       "10  29/06/2017  00:04  30.47  176784.55   1.21   0.00  0.00   0.00  33.93   \n",
       "11  29/06/2017  00:05  30.47  176784.55   1.21   0.00  0.00   0.00  35.71   \n",
       "\n",
       "         pn-3 pm25-3  \n",
       "7   194934.49   1.34  \n",
       "8   194934.49   1.34  \n",
       "9   194266.39   1.33  \n",
       "10  194266.39   1.33  \n",
       "11  204585.48   1.40  "
      ]
     },
     "execution_count": 27,
     "metadata": {},
     "output_type": "execute_result"
    }
   ],
   "source": [
    "urban[7:].head()"
   ]
  },
  {
   "cell_type": "code",
   "execution_count": null,
   "metadata": {
    "collapsed": true
   },
   "outputs": [],
   "source": []
  }
 ],
 "metadata": {
  "anaconda-cloud": {},
  "kernelspec": {
   "display_name": "Python [conda root]",
   "language": "python",
   "name": "conda-root-py"
  },
  "language_info": {
   "codemirror_mode": {
    "name": "ipython",
    "version": 3
   },
   "file_extension": ".py",
   "mimetype": "text/x-python",
   "name": "python",
   "nbconvert_exporter": "python",
   "pygments_lexer": "ipython3",
   "version": "3.5.2"
  }
 },
 "nbformat": 4,
 "nbformat_minor": 1
}
