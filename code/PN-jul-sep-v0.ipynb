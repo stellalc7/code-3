{
 "cells": [
  {
   "cell_type": "code",
   "execution_count": 227,
   "metadata": {
    "collapsed": false
   },
   "outputs": [],
   "source": [
    "import pandas as pd\n",
    "import numpy as np\n",
    "from __future__ import division\n",
    "import calendar\n",
    "import time\n",
    "import datetime\n",
    "from datetime import date, timedelta\n",
    "import matplotlib.pyplot as plt\n",
    "%matplotlib inline\n",
    "import seaborn as sns\n",
    "from scipy import stats\n",
    "from dateutil.parser import parse\n",
    "from pandas.tslib import Timestamp\n",
    "colorz=sns.color_palette(\"husl\", 8)\n",
    "#sns.palplot(sns.color_palette(\"husl\", 8))\n",
    "import matplotlib.dates as mdates"
   ]
  },
  {
   "cell_type": "code",
   "execution_count": 44,
   "metadata": {
    "collapsed": true
   },
   "outputs": [],
   "source": [
    "path='/Users/stella/Desktop/'\n",
    "date_0=datetime.date(2017,4,14)\n",
    "date_1=datetime.date(2017,7,1)"
   ]
  },
  {
   "cell_type": "code",
   "execution_count": 48,
   "metadata": {
    "collapsed": false
   },
   "outputs": [
    {
     "name": "stderr",
     "output_type": "stream",
     "text": [
      "/Users/stella/anaconda/lib/python3.5/site-packages/pandas/core/indexing.py:132: SettingWithCopyWarning: \n",
      "A value is trying to be set on a copy of a slice from a DataFrame\n",
      "\n",
      "See the caveats in the documentation: http://pandas.pydata.org/pandas-docs/stable/indexing.html#indexing-view-versus-copy\n",
      "  self._setitem_with_indexer(indexer, value)\n"
     ]
    }
   ],
   "source": [
    "# PEGASOR INDOOR AND OUTDOOR DATA\n",
    "i_ldsa=pd.read_excel(path+'data-2/realeco_sn0135-ldsa_2017-01-23t181000_2017-07-01t181000.xlsx')\n",
    "i_ldsa=i_ldsa.set_index('time')\n",
    "i_pn=pd.read_excel(path+'data-2/realeco_sn0135-pm25_2017-01-19t181600_2017-07-01t181600.xlsx')\n",
    "i_pn=i_pn.set_index('time')\n",
    "i_pm25=pd.read_excel(path+'data-2/realeco_sn0135-pn_2017-01-25t183900_2017-07-01t183900.xlsx')\n",
    "i_pm25=i_pm25.set_index('time')\n",
    "\n",
    "i_df=(i_ldsa.join(i_pn)).join(i_pm25).dropna()\n",
    "i_df.columns=['i-ldsa','i-pm25','i-pn']\n",
    "\n",
    "urban=pd.read_csv(path+'data-2/1329_PEGASOR A_20170712185105-2.csv',delimiter=',')\n",
    "urban['DateTime']=urban['DateTime'].apply(lambda x: parse(x))\n",
    "urban.columns=['time','ldsa-1','pn-1','pm25-1','ldsa-2','pn-2','pm25-2']\n",
    "urban['pn-1'].loc[:80034]=urban['pn-1'].loc[:80034]*6\n",
    "urban['pn-2'].loc[:80033]=urban['pn-2'].loc[:80033]*6\n",
    "urban=urban.set_index('time')\n",
    "\n",
    "pegasor=i_df.join(urban).reset_index()\n",
    "\n",
    "pegasor=pegasor[(pegasor['time']>date_0) & (pegasor['time']<date_1)]\n",
    "pegasor=pegasor[pegasor>0].dropna().reset_index()\n",
    "pegasor=pegasor.reset_index()\n",
    "del pegasor['index']\n",
    "del pegasor['level_0']\n",
    "\n",
    "pegasor['ldsa-1/2']=pegasor['ldsa-1']/pegasor['ldsa-2']\n",
    "pegasor['ldsa-2/1']=pegasor['ldsa-2']/pegasor['ldsa-1']\n",
    "\n",
    "pegasor=pegasor[pegasor['ldsa-2/1']<5]\n",
    "pegasor=pegasor[pegasor['ldsa-1/2']<5].reset_index()\n",
    "del pegasor['index'], pegasor['ldsa-1/2'], pegasor['ldsa-2/1']\n",
    "\n",
    "times=pd.DatetimeIndex(pegasor.time)\n",
    "peg_grouped=pegasor.groupby([times.month, times.day, times.hour]).mean().reset_index()\n",
    "peg_grouped=peg_grouped.rename(columns={'level_0':'month','level_1':'day','level_2':'hour'})\n",
    "peg_grouped['year']=2017\n",
    "peg_grouped['date']=pd.to_datetime(peg_grouped[['year','month','day','hour']])\n",
    "del peg_grouped['year'], peg_grouped['month'], peg_grouped['day'], peg_grouped['hour']"
   ]
  },
  {
   "cell_type": "code",
   "execution_count": null,
   "metadata": {
    "collapsed": true
   },
   "outputs": [],
   "source": []
  },
  {
   "cell_type": "code",
   "execution_count": 49,
   "metadata": {
    "collapsed": false
   },
   "outputs": [],
   "source": [
    "#april         3783\n",
    "apr_3783=pd.read_excel(path+'queens-data/Queens Data Logger TSI 3783 Ultrafine February to April.xls')[1:-8]\n",
    "apr_3783['Date&Time']=apr_3783['Date&Time'].apply(lambda x: datetime.datetime.strptime(x, '%m/%d/%Y %I:%M %p'))\n",
    "\n",
    "#may-june      3783\n",
    "may_jun_3783=pd.read_csv(path+'queens-data/TEOM_TSI 3783_May-June_2017.csv')[:-8]\n",
    "may_jun_3783 = may_jun_3783.rename(columns=may_jun_3783.iloc[1])\n",
    "may_jun_3783 = may_jun_3783[3:]\n",
    "may_jun_3783=may_jun_3783[['Date&Time','UF Aggregated Conc.']]\n",
    "may_jun_3783['Date&Time']=may_jun_3783['Date&Time'].apply(lambda x: datetime.datetime.strptime(x, '%m/%d/%Y %I:%M %p'))\n",
    "\n",
    "tsi_3783=pd.concat([apr_3783,may_jun_3783])\n",
    "\n",
    "tsi_3783['UF Aggregated Conc.']=pd.to_numeric(tsi_3783['UF Aggregated Conc.'], errors='coerce')\n",
    "tsi_3783=tsi_3783[(tsi_3783['Date&Time']>date_0) & (tsi_3783['Date&Time']<date_1)]\n",
    "tsi_3783=tsi_3783.reset_index()\n",
    "del tsi_3783['index']\n",
    "\n",
    "tsi_3783.columns=['time','TNC (#/cm3)']\n",
    "\n",
    "tsi_3783=tsi_3783[tsi_3783['TNC (#/cm3)']>5]\n",
    "\n",
    "times=pd.DatetimeIndex(tsi_3783.time)\n",
    "tsi_3783_grouped=tsi_3783.groupby([times.month, times.day, times.hour]).mean().reset_index()\n",
    "tsi_3783_grouped=tsi_3783_grouped.rename(columns={'level_0':'month','level_1':'day','level_2':'hour'})\n",
    "tsi_3783_grouped['year']=2017\n",
    "tsi_3783_grouped['date']=pd.to_datetime(tsi_3783_grouped[['year','month','day','hour']])\n",
    "del tsi_3783_grouped['year'], tsi_3783_grouped['month'], tsi_3783_grouped['day'], tsi_3783_grouped['hour']"
   ]
  },
  {
   "cell_type": "code",
   "execution_count": 50,
   "metadata": {
    "collapsed": true
   },
   "outputs": [],
   "source": [
    "#april         3031\n",
    "apr_3031=pd.read_csv(path+'queens-data/TSI 3031 Particle Counter_20170413-april.TXT',delimiter='\\t',skiprows=4)\n",
    "apr_3031=apr_3031.reset_index()\n",
    "apr_3031.columns=apr_3031.iloc[0]\n",
    "apr_3031=apr_3031.iloc[1:].reset_index()\n",
    "apr_3031['start']=apr_3031['start'].apply(lambda x: parse(x))\n",
    "apr_3031['end']=apr_3031['end'].apply(lambda x: parse(x))\n",
    "apr_3031=apr_3031[['start','end','ch1','ch2','ch3','ch4','ch5','ch6']]\n",
    "\n",
    "#may-june      3031\n",
    "may_jun_3031=pd.read_csv(path+'queens-data/TSI 3031_20170501.TXT',delimiter='\\t',skiprows=4)\n",
    "may_jun_3031=may_jun_3031.reset_index()\n",
    "may_jun_3031.columns=may_jun_3031.iloc[0]\n",
    "may_jun_3031=may_jun_3031.iloc[1:].reset_index()\n",
    "may_jun_3031['start']=may_jun_3031['start'].apply(lambda x: parse(x))\n",
    "may_jun_3031['end']=may_jun_3031['end'].apply(lambda x: parse(x))\n",
    "may_jun_3031=may_jun_3031[['start','end','ch1','ch2','ch3','ch4','ch5','ch6']]\n",
    "\n",
    "tsi_3031=pd.concat([apr_3031,may_jun_3031])\n",
    "\n",
    "tsi_3031=tsi_3031[(tsi_3031['start']>date_0) & (tsi_3031['start']<date_1)]\n",
    "tsi_3031[['ch1','ch2','ch3','ch4','ch5','ch6']] = tsi_3031[['ch1','ch2','ch3','ch4','ch5','ch6']].apply(pd.to_numeric)\n",
    "tsi_3031=tsi_3031[tsi_3031.ch1>0]\n",
    "tsi_3031=tsi_3031.reset_index()\n",
    "del tsi_3031['index']\n",
    "\n",
    "times=pd.DatetimeIndex(tsi_3031.start)\n",
    "tsi_3031_grouped=tsi_3031.groupby([times.month, times.day, times.hour]).mean().reset_index()\n",
    "tsi_3031_grouped=tsi_3031_grouped.rename(columns={'level_0':'month','level_1':'day','level_2':'hour'})\n",
    "tsi_3031_grouped['year']=2017\n",
    "tsi_3031_grouped['date']=pd.to_datetime(tsi_3031_grouped[['year','month','day','hour']])\n",
    "del tsi_3031_grouped['year'], tsi_3031_grouped['month'], tsi_3031_grouped['day'], tsi_3031_grouped['hour']"
   ]
  },
  {
   "cell_type": "code",
   "execution_count": 51,
   "metadata": {
    "collapsed": false
   },
   "outputs": [],
   "source": [
    "tsi_3783_grouped=tsi_3783_grouped.set_index('date')\n",
    "tsi_3031_grouped=tsi_3031_grouped.set_index('date')\n",
    "peg_grouped=peg_grouped.set_index('date')\n",
    "\n",
    "df=tsi_3783_grouped.join(tsi_3031_grouped).join(peg_grouped).dropna().reset_index()\n",
    "df['smps-sum']=df['ch1']+df['ch2']+df['ch3']+df['ch4']+df['ch5']+df['ch6']\n",
    "\n",
    "df_apr=df[df.date<datetime.date(2017,5,1)]\n",
    "df_may=df[(df.date>=datetime.date(2017,5,1)) & (df.date<datetime.date(2017,6,1))]\n",
    "df_jun=df[(df.date>=datetime.date(2017,6,1)) & (df.date<datetime.date(2017,7,1))]"
   ]
  },
  {
   "cell_type": "code",
   "execution_count": null,
   "metadata": {
    "collapsed": true
   },
   "outputs": [],
   "source": []
  },
  {
   "cell_type": "code",
   "execution_count": null,
   "metadata": {
    "collapsed": true
   },
   "outputs": [],
   "source": []
  },
  {
   "cell_type": "code",
   "execution_count": null,
   "metadata": {
    "collapsed": true
   },
   "outputs": [],
   "source": []
  },
  {
   "cell_type": "code",
   "execution_count": null,
   "metadata": {
    "collapsed": true
   },
   "outputs": [],
   "source": []
  },
  {
   "cell_type": "markdown",
   "metadata": {},
   "source": [
    "# JUL - SEP"
   ]
  },
  {
   "cell_type": "code",
   "execution_count": 52,
   "metadata": {
    "collapsed": true
   },
   "outputs": [],
   "source": [
    "path2='/Users/stella/Desktop/CHTechUSA Data_2017_1002/'"
   ]
  },
  {
   "cell_type": "code",
   "execution_count": 53,
   "metadata": {
    "collapsed": false
   },
   "outputs": [],
   "source": [
    "df1=pd.read_csv(path2+'Data Logger Download.csv')\n",
    "df1=df1[['Date&Time','PM2.5_FEM_MC','PM10_MC','UF Aggregated Conc.']][1:132480].reset_index()\n",
    "del df1['index']\n",
    "df1['Date&Time']=df1['Date&Time'].apply(lambda x: datetime.datetime.strptime(x, '%m/%d/%Y %I:%M %p'))\n",
    "df1.columns=['time','PM2.5 (ug/m3)','PM10 (ug/m3)','TNC (#/cm3)']\n",
    "df1['PM2.5 (ug/m3)']=pd.to_numeric(df1['PM2.5 (ug/m3)'], errors='coerce')\n",
    "df1['PM10 (ug/m3)']=pd.to_numeric(df1['PM10 (ug/m3)'], errors='coerce')\n",
    "df1['TNC (#/cm3)']=pd.to_numeric(df1['TNC (#/cm3)'], errors='coerce')\n",
    "\n",
    "times=pd.DatetimeIndex(df1.time)\n",
    "df1_grouped=df1.groupby([times.month, times.day]).mean().reset_index()\n",
    "df1_grouped=df1_grouped.rename(columns={'level_0':'month','level_1':'day'})\n",
    "df1_grouped['year']=2017\n",
    "df1_grouped['date']=pd.to_datetime(df1_grouped[['year','month','day']])\n",
    "del df1_grouped['year'], df1_grouped['month'], df1_grouped['day']"
   ]
  },
  {
   "cell_type": "code",
   "execution_count": 54,
   "metadata": {
    "collapsed": false
   },
   "outputs": [],
   "source": [
    "df2=pd.read_csv(path2+'TEOM-1405DF_A225741308_2017-10-2_13-0-27.csv')\n",
    "df2 = df2.rename(columns=df2.iloc[2])[3:].reset_index()\n",
    "del df2['index']\n",
    "df2 = df2[['Time Stamp','PM-2.5 FEM MC','PM-10 1-Hr MC']]\n",
    "df2.columns=['time','PM2.5-teom (ug/m3)','PM10-teom (ug/m3)']\n",
    "df2['time']=df2['time'].apply(lambda x: parse(x))\n",
    "df2['PM2.5-teom (ug/m3)']=pd.to_numeric(df2['PM2.5-teom (ug/m3)'], errors='coerce')\n",
    "df2['PM10-teom (ug/m3)']=pd.to_numeric(df2['PM10-teom (ug/m3)'], errors='coerce')\n",
    "\n",
    "times=pd.DatetimeIndex(df2.time)\n",
    "df2_grouped=df2.groupby([times.month, times.day, times.hour]).mean().reset_index()\n",
    "df2_grouped=df2_grouped.rename(columns={'level_0':'month','level_1':'day'})\n",
    "df2_grouped['year']=2017\n",
    "df2_grouped['date']=pd.to_datetime(df2_grouped[['year','month','day']])\n",
    "del df2_grouped['year'], df2_grouped['month'], df2_grouped['day']"
   ]
  },
  {
   "cell_type": "code",
   "execution_count": 55,
   "metadata": {
    "collapsed": false
   },
   "outputs": [],
   "source": [
    "df3=pd.read_csv(path2+'TSI3031_20170701.TXT',delimiter='\\t')\n",
    "df3=df3[['start','end','ch1','ch2','ch3','ch4','ch5','ch6']]\n",
    "df3['start']=df3['start'].apply(lambda x: parse(x))\n",
    "df3['end']=df3['end'].apply(lambda x: parse(x))\n",
    "\n",
    "times=pd.DatetimeIndex(df3.start)\n",
    "df3_grouped=df3.groupby([times.month, times.day, times.hour]).mean().reset_index()\n",
    "df3_grouped=df3_grouped.rename(columns={'level_0':'month','level_1':'day'})\n",
    "df3_grouped['year']=2017 \n",
    "df3_grouped['date']=pd.to_datetime(df3_grouped[['year','month','day']])\n",
    "del df3_grouped['year'], df3_grouped['month'], df3_grouped['day']"
   ]
  },
  {
   "cell_type": "code",
   "execution_count": 56,
   "metadata": {
    "collapsed": false
   },
   "outputs": [],
   "source": [
    "df=df1_grouped.set_index('date').join(df3_grouped.set_index('date')).reset_index()"
   ]
  },
  {
   "cell_type": "code",
   "execution_count": null,
   "metadata": {
    "collapsed": true
   },
   "outputs": [],
   "source": []
  },
  {
   "cell_type": "code",
   "execution_count": null,
   "metadata": {
    "collapsed": true
   },
   "outputs": [],
   "source": []
  },
  {
   "cell_type": "code",
   "execution_count": 57,
   "metadata": {
    "collapsed": true
   },
   "outputs": [],
   "source": [
    "# PEGASOR INDOOR SN-135 FROM REALECO\n",
    "ildsa=pd.read_excel(path2+'realeco_sn0135-ldsa_2017-06-30t144100_2017-07-14t144100.xlsx')\n",
    "ipm=pd.read_excel(path2+'realeco_sn0135-pm25_2017-06-30t145200_2017-07-14t145200.xlsx')\n",
    "ipn=pd.read_excel(path2+'realeco_sn0135-pn_2017-06-30t145300_2017-07-14t145300.xlsx')\n",
    "idf=ildsa.set_index('time').join(ipm.set_index('time')).join(ipn.set_index('time')).dropna().reset_index()\n",
    "idf['time']=idf['time']-datetime.timedelta(hours=1)          # TIME ADJUSTED -1 HOUR\n",
    "\n",
    "idf=idf[(idf['time']>=datetime.date(2017,7,1)) & (idf['time']<=datetime.date(2017,7,14))].reset_index()\n",
    "del idf['index']"
   ]
  },
  {
   "cell_type": "code",
   "execution_count": 58,
   "metadata": {
    "collapsed": false
   },
   "outputs": [
    {
     "data": {
      "text/plain": [
       "Index(['date', 'PM2.5 (ug/m3)', 'PM10 (ug/m3)', 'TNC (#/cm3)', 'level_2',\n",
       "       'ch1', 'ch2', 'ch3', 'ch4', 'ch5', 'ch6'],\n",
       "      dtype='object')"
      ]
     },
     "execution_count": 58,
     "metadata": {},
     "output_type": "execute_result"
    }
   ],
   "source": [
    "df.columns"
   ]
  },
  {
   "cell_type": "code",
   "execution_count": 59,
   "metadata": {
    "collapsed": true
   },
   "outputs": [],
   "source": [
    "df=df[df['PM2.5 (ug/m3)']>0].reset_index()\n",
    "del df['index']"
   ]
  },
  {
   "cell_type": "code",
   "execution_count": 60,
   "metadata": {
    "collapsed": false
   },
   "outputs": [],
   "source": [
    "df=df1_grouped.set_index('date').join(df3_grouped.set_index('date')).reset_index()"
   ]
  },
  {
   "cell_type": "code",
   "execution_count": null,
   "metadata": {
    "collapsed": true
   },
   "outputs": [],
   "source": []
  },
  {
   "cell_type": "code",
   "execution_count": null,
   "metadata": {
    "collapsed": true
   },
   "outputs": [],
   "source": []
  },
  {
   "cell_type": "code",
   "execution_count": 64,
   "metadata": {
    "collapsed": false
   },
   "outputs": [],
   "source": [
    "times=pd.DatetimeIndex(df1.time)\n",
    "df1_hr=df1.groupby([times.month, times.day, times.hour]).mean().reset_index()\n",
    "df1_hr=df1_hr.rename(columns={'level_0':'month','level_1':'day','level_2':'hour'})\n",
    "df1_hr['year']=2017\n",
    "df1_hr['date']=pd.to_datetime(df1_hr[['year','month','day','hour']])\n",
    "del df1_hr['year'], df1_hr['month'], df1_hr['day'], df1_hr['hour']"
   ]
  },
  {
   "cell_type": "code",
   "execution_count": 65,
   "metadata": {
    "collapsed": false
   },
   "outputs": [],
   "source": [
    "df1_hr=df1_hr[df1_hr.date<datetime.date(2017,8,1)]        #teom, 3783 JULY"
   ]
  },
  {
   "cell_type": "code",
   "execution_count": null,
   "metadata": {
    "collapsed": true
   },
   "outputs": [],
   "source": []
  },
  {
   "cell_type": "code",
   "execution_count": 66,
   "metadata": {
    "collapsed": true
   },
   "outputs": [],
   "source": [
    "times=pd.DatetimeIndex(df3.start)\n",
    "df3_hr=df3.groupby([times.month, times.day, times.hour]).mean().reset_index()\n",
    "df3_hr=df3_hr.rename(columns={'level_0':'month','level_1':'day','level_2':'hour'})\n",
    "df3_hr['year']=2017\n",
    "df3_hr['date']=pd.to_datetime(df3_hr[['year','month','day','hour']])\n",
    "del df3_hr['year'], df3_hr['month'], df3_hr['day'], df3_hr['hour']"
   ]
  },
  {
   "cell_type": "code",
   "execution_count": 67,
   "metadata": {
    "collapsed": false
   },
   "outputs": [],
   "source": [
    "df3_hr=df3_hr[df3_hr.date<datetime.date(2017,8,1)]       #smps JULY"
   ]
  },
  {
   "cell_type": "code",
   "execution_count": null,
   "metadata": {
    "collapsed": true
   },
   "outputs": [],
   "source": []
  },
  {
   "cell_type": "code",
   "execution_count": null,
   "metadata": {
    "collapsed": true
   },
   "outputs": [],
   "source": []
  },
  {
   "cell_type": "code",
   "execution_count": 320,
   "metadata": {
    "collapsed": false
   },
   "outputs": [
    {
     "name": "stderr",
     "output_type": "stream",
     "text": [
      "/Users/stella/anaconda/lib/python3.5/site-packages/IPython/core/interactiveshell.py:2717: DtypeWarning: Columns (2,3,4,5,6,7,8,9,10,11,12,13,14,15,16,17,18,19,20,21,22,23,24,25,26,27,28,29,30,31,32,33,34,35,36,37,38) have mixed types. Specify dtype option on import or set low_memory=False.\n",
      "  interactivity=interactivity, compiler=compiler, result=result)\n"
     ]
    }
   ],
   "source": [
    "urban=pd.read_csv('/Users/stella/Desktop/CHTechUSA Data_2017_1002/Pagesor A_29 June to 02 Oct 2017_UTC0.csv',delimiter=',',encoding='latin-1')\n",
    "urban=urban[['Alarm','Data','pegasor a','pegasor a.1','pegasor a.2','pegasor a.19','pegasor a.20','pegasor a.21','pegasor a.37','pegasor a.38','pegasor a.39']]\n",
    "urban.columns=['alarm','data','ldsa-1','pn-1','pm25-1','ldsa-2','pn-2','pm25-2','ldsa-3','pn-3','pm25-3']"
   ]
  },
  {
   "cell_type": "code",
   "execution_count": 321,
   "metadata": {
    "collapsed": false
   },
   "outputs": [],
   "source": [
    "urban=urban[7:].reset_index()"
   ]
  },
  {
   "cell_type": "code",
   "execution_count": 322,
   "metadata": {
    "collapsed": false
   },
   "outputs": [
    {
     "data": {
      "text/html": [
       "<div>\n",
       "<table border=\"1\" class=\"dataframe\">\n",
       "  <thead>\n",
       "    <tr style=\"text-align: right;\">\n",
       "      <th></th>\n",
       "      <th>index</th>\n",
       "      <th>alarm</th>\n",
       "      <th>data</th>\n",
       "      <th>ldsa-1</th>\n",
       "      <th>pn-1</th>\n",
       "      <th>pm25-1</th>\n",
       "      <th>ldsa-2</th>\n",
       "      <th>pn-2</th>\n",
       "      <th>pm25-2</th>\n",
       "      <th>ldsa-3</th>\n",
       "      <th>pn-3</th>\n",
       "      <th>pm25-3</th>\n",
       "    </tr>\n",
       "  </thead>\n",
       "  <tbody>\n",
       "    <tr>\n",
       "      <th>0</th>\n",
       "      <td>7</td>\n",
       "      <td>29/06/2017</td>\n",
       "      <td>00:01</td>\n",
       "      <td>30.47</td>\n",
       "      <td>176784.55</td>\n",
       "      <td>1.21</td>\n",
       "      <td>0.00</td>\n",
       "      <td>0.00</td>\n",
       "      <td>0.00</td>\n",
       "      <td>34.04</td>\n",
       "      <td>194934.49</td>\n",
       "      <td>1.34</td>\n",
       "    </tr>\n",
       "    <tr>\n",
       "      <th>1</th>\n",
       "      <td>8</td>\n",
       "      <td>29/06/2017</td>\n",
       "      <td>00:02</td>\n",
       "      <td>30.47</td>\n",
       "      <td>176784.55</td>\n",
       "      <td>1.21</td>\n",
       "      <td>0.00</td>\n",
       "      <td>0.00</td>\n",
       "      <td>0.00</td>\n",
       "      <td>34.04</td>\n",
       "      <td>194934.49</td>\n",
       "      <td>1.34</td>\n",
       "    </tr>\n",
       "    <tr>\n",
       "      <th>2</th>\n",
       "      <td>9</td>\n",
       "      <td>29/06/2017</td>\n",
       "      <td>00:03</td>\n",
       "      <td>30.47</td>\n",
       "      <td>176784.55</td>\n",
       "      <td>1.21</td>\n",
       "      <td>0.00</td>\n",
       "      <td>0.00</td>\n",
       "      <td>0.00</td>\n",
       "      <td>33.93</td>\n",
       "      <td>194266.39</td>\n",
       "      <td>1.33</td>\n",
       "    </tr>\n",
       "    <tr>\n",
       "      <th>3</th>\n",
       "      <td>10</td>\n",
       "      <td>29/06/2017</td>\n",
       "      <td>00:04</td>\n",
       "      <td>30.47</td>\n",
       "      <td>176784.55</td>\n",
       "      <td>1.21</td>\n",
       "      <td>0.00</td>\n",
       "      <td>0.00</td>\n",
       "      <td>0.00</td>\n",
       "      <td>33.93</td>\n",
       "      <td>194266.39</td>\n",
       "      <td>1.33</td>\n",
       "    </tr>\n",
       "    <tr>\n",
       "      <th>4</th>\n",
       "      <td>11</td>\n",
       "      <td>29/06/2017</td>\n",
       "      <td>00:05</td>\n",
       "      <td>30.47</td>\n",
       "      <td>176784.55</td>\n",
       "      <td>1.21</td>\n",
       "      <td>0.00</td>\n",
       "      <td>0.00</td>\n",
       "      <td>0.00</td>\n",
       "      <td>35.71</td>\n",
       "      <td>204585.48</td>\n",
       "      <td>1.40</td>\n",
       "    </tr>\n",
       "  </tbody>\n",
       "</table>\n",
       "</div>"
      ],
      "text/plain": [
       "   index       alarm   data ldsa-1       pn-1 pm25-1 ldsa-2  pn-2 pm25-2  \\\n",
       "0      7  29/06/2017  00:01  30.47  176784.55   1.21   0.00  0.00   0.00   \n",
       "1      8  29/06/2017  00:02  30.47  176784.55   1.21   0.00  0.00   0.00   \n",
       "2      9  29/06/2017  00:03  30.47  176784.55   1.21   0.00  0.00   0.00   \n",
       "3     10  29/06/2017  00:04  30.47  176784.55   1.21   0.00  0.00   0.00   \n",
       "4     11  29/06/2017  00:05  30.47  176784.55   1.21   0.00  0.00   0.00   \n",
       "\n",
       "  ldsa-3       pn-3 pm25-3  \n",
       "0  34.04  194934.49   1.34  \n",
       "1  34.04  194934.49   1.34  \n",
       "2  33.93  194266.39   1.33  \n",
       "3  33.93  194266.39   1.33  \n",
       "4  35.71  204585.48   1.40  "
      ]
     },
     "execution_count": 322,
     "metadata": {},
     "output_type": "execute_result"
    }
   ],
   "source": [
    "urban.head()"
   ]
  },
  {
   "cell_type": "code",
   "execution_count": 324,
   "metadata": {
    "collapsed": false
   },
   "outputs": [],
   "source": [
    "urban['alarm']=urban['alarm'].apply(lambda x: datetime.datetime.strptime(x,'%d/%m/%Y'))"
   ]
  },
  {
   "cell_type": "code",
   "execution_count": 325,
   "metadata": {
    "collapsed": false
   },
   "outputs": [
    {
     "name": "stderr",
     "output_type": "stream",
     "text": [
      "/Users/stella/anaconda/lib/python3.5/site-packages/ipykernel/__main__.py:1: SettingWithCopyWarning: \n",
      "A value is trying to be set on a copy of a slice from a DataFrame\n",
      "\n",
      "See the caveats in the documentation: http://pandas.pydata.org/pandas-docs/stable/indexing.html#indexing-view-versus-copy\n",
      "  if __name__ == '__main__':\n",
      "/Users/stella/anaconda/lib/python3.5/site-packages/ipykernel/__main__.py:2: SettingWithCopyWarning: \n",
      "A value is trying to be set on a copy of a slice from a DataFrame\n",
      "\n",
      "See the caveats in the documentation: http://pandas.pydata.org/pandas-docs/stable/indexing.html#indexing-view-versus-copy\n",
      "  from ipykernel import kernelapp as app\n"
     ]
    }
   ],
   "source": [
    "urban['alarm'][urban['data']=='24:00']=urban['alarm'][urban['data']=='24:00']+timedelta(1)\n",
    "urban['data'][urban['data']=='24:00']='00:00'"
   ]
  },
  {
   "cell_type": "code",
   "execution_count": null,
   "metadata": {
    "collapsed": true
   },
   "outputs": [],
   "source": [
    "urban['datetime']=urban['alarm']+' '+urban['data']\n",
    "urban['datetime'].apply(lambda x: datetime.datetime.strptime(x,'%d/%m/%Y %H:%M'))\n",
    "#del urban['alarm'],urban['data']"
   ]
  },
  {
   "cell_type": "code",
   "execution_count": 331,
   "metadata": {
    "collapsed": false
   },
   "outputs": [
    {
     "data": {
      "text/plain": [
       "time.struct_time(tm_year=1900, tm_mon=1, tm_mday=1, tm_hour=0, tm_min=1, tm_sec=0, tm_wday=0, tm_yday=1, tm_isdst=-1)"
      ]
     },
     "execution_count": 331,
     "metadata": {},
     "output_type": "execute_result"
    }
   ],
   "source": [
    "time.strptime(urban['data'][0],'%H:%M')"
   ]
  },
  {
   "cell_type": "code",
   "execution_count": null,
   "metadata": {
    "collapsed": false
   },
   "outputs": [],
   "source": [
    "urban['alarm']"
   ]
  },
  {
   "cell_type": "code",
   "execution_count": 336,
   "metadata": {
    "collapsed": false
   },
   "outputs": [
    {
     "data": {
      "text/html": [
       "<div>\n",
       "<table border=\"1\" class=\"dataframe\">\n",
       "  <thead>\n",
       "    <tr style=\"text-align: right;\">\n",
       "      <th></th>\n",
       "      <th>index</th>\n",
       "      <th>alarm</th>\n",
       "      <th>data</th>\n",
       "      <th>ldsa-1</th>\n",
       "      <th>pn-1</th>\n",
       "      <th>pm25-1</th>\n",
       "      <th>ldsa-2</th>\n",
       "      <th>pn-2</th>\n",
       "      <th>pm25-2</th>\n",
       "      <th>ldsa-3</th>\n",
       "      <th>pn-3</th>\n",
       "      <th>pm25-3</th>\n",
       "    </tr>\n",
       "  </thead>\n",
       "  <tbody>\n",
       "    <tr>\n",
       "      <th>0</th>\n",
       "      <td>7</td>\n",
       "      <td>2017-06-29</td>\n",
       "      <td>00:01</td>\n",
       "      <td>30.47</td>\n",
       "      <td>176784.55</td>\n",
       "      <td>1.21</td>\n",
       "      <td>0.00</td>\n",
       "      <td>0.00</td>\n",
       "      <td>0.00</td>\n",
       "      <td>34.04</td>\n",
       "      <td>194934.49</td>\n",
       "      <td>1.34</td>\n",
       "    </tr>\n",
       "    <tr>\n",
       "      <th>1</th>\n",
       "      <td>8</td>\n",
       "      <td>2017-06-29</td>\n",
       "      <td>00:02</td>\n",
       "      <td>30.47</td>\n",
       "      <td>176784.55</td>\n",
       "      <td>1.21</td>\n",
       "      <td>0.00</td>\n",
       "      <td>0.00</td>\n",
       "      <td>0.00</td>\n",
       "      <td>34.04</td>\n",
       "      <td>194934.49</td>\n",
       "      <td>1.34</td>\n",
       "    </tr>\n",
       "    <tr>\n",
       "      <th>2</th>\n",
       "      <td>9</td>\n",
       "      <td>2017-06-29</td>\n",
       "      <td>00:03</td>\n",
       "      <td>30.47</td>\n",
       "      <td>176784.55</td>\n",
       "      <td>1.21</td>\n",
       "      <td>0.00</td>\n",
       "      <td>0.00</td>\n",
       "      <td>0.00</td>\n",
       "      <td>33.93</td>\n",
       "      <td>194266.39</td>\n",
       "      <td>1.33</td>\n",
       "    </tr>\n",
       "    <tr>\n",
       "      <th>3</th>\n",
       "      <td>10</td>\n",
       "      <td>2017-06-29</td>\n",
       "      <td>00:04</td>\n",
       "      <td>30.47</td>\n",
       "      <td>176784.55</td>\n",
       "      <td>1.21</td>\n",
       "      <td>0.00</td>\n",
       "      <td>0.00</td>\n",
       "      <td>0.00</td>\n",
       "      <td>33.93</td>\n",
       "      <td>194266.39</td>\n",
       "      <td>1.33</td>\n",
       "    </tr>\n",
       "    <tr>\n",
       "      <th>4</th>\n",
       "      <td>11</td>\n",
       "      <td>2017-06-29</td>\n",
       "      <td>00:05</td>\n",
       "      <td>30.47</td>\n",
       "      <td>176784.55</td>\n",
       "      <td>1.21</td>\n",
       "      <td>0.00</td>\n",
       "      <td>0.00</td>\n",
       "      <td>0.00</td>\n",
       "      <td>35.71</td>\n",
       "      <td>204585.48</td>\n",
       "      <td>1.40</td>\n",
       "    </tr>\n",
       "  </tbody>\n",
       "</table>\n",
       "</div>"
      ],
      "text/plain": [
       "   index      alarm   data ldsa-1       pn-1 pm25-1 ldsa-2  pn-2 pm25-2  \\\n",
       "0      7 2017-06-29  00:01  30.47  176784.55   1.21   0.00  0.00   0.00   \n",
       "1      8 2017-06-29  00:02  30.47  176784.55   1.21   0.00  0.00   0.00   \n",
       "2      9 2017-06-29  00:03  30.47  176784.55   1.21   0.00  0.00   0.00   \n",
       "3     10 2017-06-29  00:04  30.47  176784.55   1.21   0.00  0.00   0.00   \n",
       "4     11 2017-06-29  00:05  30.47  176784.55   1.21   0.00  0.00   0.00   \n",
       "\n",
       "  ldsa-3       pn-3 pm25-3  \n",
       "0  34.04  194934.49   1.34  \n",
       "1  34.04  194934.49   1.34  \n",
       "2  33.93  194266.39   1.33  \n",
       "3  33.93  194266.39   1.33  \n",
       "4  35.71  204585.48   1.40  "
      ]
     },
     "execution_count": 336,
     "metadata": {},
     "output_type": "execute_result"
    }
   ],
   "source": [
    "urban.head()"
   ]
  },
  {
   "cell_type": "code",
   "execution_count": 332,
   "metadata": {
    "collapsed": false
   },
   "outputs": [
    {
     "data": {
      "text/plain": [
       "0           (1900, 1, 1, 0, 1, 0, 0, 1, -1)\n",
       "1           (1900, 1, 1, 0, 2, 0, 0, 1, -1)\n",
       "2           (1900, 1, 1, 0, 3, 0, 0, 1, -1)\n",
       "3           (1900, 1, 1, 0, 4, 0, 0, 1, -1)\n",
       "4           (1900, 1, 1, 0, 5, 0, 0, 1, -1)\n",
       "5           (1900, 1, 1, 0, 6, 0, 0, 1, -1)\n",
       "6           (1900, 1, 1, 0, 7, 0, 0, 1, -1)\n",
       "7           (1900, 1, 1, 0, 8, 0, 0, 1, -1)\n",
       "8           (1900, 1, 1, 0, 9, 0, 0, 1, -1)\n",
       "9          (1900, 1, 1, 0, 10, 0, 0, 1, -1)\n",
       "10         (1900, 1, 1, 0, 11, 0, 0, 1, -1)\n",
       "11         (1900, 1, 1, 0, 12, 0, 0, 1, -1)\n",
       "12         (1900, 1, 1, 0, 13, 0, 0, 1, -1)\n",
       "13         (1900, 1, 1, 0, 14, 0, 0, 1, -1)\n",
       "14         (1900, 1, 1, 0, 15, 0, 0, 1, -1)\n",
       "15         (1900, 1, 1, 0, 16, 0, 0, 1, -1)\n",
       "16         (1900, 1, 1, 0, 17, 0, 0, 1, -1)\n",
       "17         (1900, 1, 1, 0, 18, 0, 0, 1, -1)\n",
       "18         (1900, 1, 1, 0, 19, 0, 0, 1, -1)\n",
       "19         (1900, 1, 1, 0, 20, 0, 0, 1, -1)\n",
       "20         (1900, 1, 1, 0, 21, 0, 0, 1, -1)\n",
       "21         (1900, 1, 1, 0, 22, 0, 0, 1, -1)\n",
       "22         (1900, 1, 1, 0, 23, 0, 0, 1, -1)\n",
       "23         (1900, 1, 1, 0, 24, 0, 0, 1, -1)\n",
       "24         (1900, 1, 1, 0, 25, 0, 0, 1, -1)\n",
       "25         (1900, 1, 1, 0, 26, 0, 0, 1, -1)\n",
       "26         (1900, 1, 1, 0, 27, 0, 0, 1, -1)\n",
       "27         (1900, 1, 1, 0, 28, 0, 0, 1, -1)\n",
       "28         (1900, 1, 1, 0, 29, 0, 0, 1, -1)\n",
       "29         (1900, 1, 1, 0, 30, 0, 0, 1, -1)\n",
       "                        ...                \n",
       "136770    (1900, 1, 1, 23, 31, 0, 0, 1, -1)\n",
       "136771    (1900, 1, 1, 23, 32, 0, 0, 1, -1)\n",
       "136772    (1900, 1, 1, 23, 33, 0, 0, 1, -1)\n",
       "136773    (1900, 1, 1, 23, 34, 0, 0, 1, -1)\n",
       "136774    (1900, 1, 1, 23, 35, 0, 0, 1, -1)\n",
       "136775    (1900, 1, 1, 23, 36, 0, 0, 1, -1)\n",
       "136776    (1900, 1, 1, 23, 37, 0, 0, 1, -1)\n",
       "136777    (1900, 1, 1, 23, 38, 0, 0, 1, -1)\n",
       "136778    (1900, 1, 1, 23, 39, 0, 0, 1, -1)\n",
       "136779    (1900, 1, 1, 23, 40, 0, 0, 1, -1)\n",
       "136780    (1900, 1, 1, 23, 41, 0, 0, 1, -1)\n",
       "136781    (1900, 1, 1, 23, 42, 0, 0, 1, -1)\n",
       "136782    (1900, 1, 1, 23, 43, 0, 0, 1, -1)\n",
       "136783    (1900, 1, 1, 23, 44, 0, 0, 1, -1)\n",
       "136784    (1900, 1, 1, 23, 45, 0, 0, 1, -1)\n",
       "136785    (1900, 1, 1, 23, 46, 0, 0, 1, -1)\n",
       "136786    (1900, 1, 1, 23, 47, 0, 0, 1, -1)\n",
       "136787    (1900, 1, 1, 23, 48, 0, 0, 1, -1)\n",
       "136788    (1900, 1, 1, 23, 49, 0, 0, 1, -1)\n",
       "136789    (1900, 1, 1, 23, 50, 0, 0, 1, -1)\n",
       "136790    (1900, 1, 1, 23, 51, 0, 0, 1, -1)\n",
       "136791    (1900, 1, 1, 23, 52, 0, 0, 1, -1)\n",
       "136792    (1900, 1, 1, 23, 53, 0, 0, 1, -1)\n",
       "136793    (1900, 1, 1, 23, 54, 0, 0, 1, -1)\n",
       "136794    (1900, 1, 1, 23, 55, 0, 0, 1, -1)\n",
       "136795    (1900, 1, 1, 23, 56, 0, 0, 1, -1)\n",
       "136796    (1900, 1, 1, 23, 57, 0, 0, 1, -1)\n",
       "136797    (1900, 1, 1, 23, 58, 0, 0, 1, -1)\n",
       "136798    (1900, 1, 1, 23, 59, 0, 0, 1, -1)\n",
       "136799      (1900, 1, 1, 0, 0, 0, 0, 1, -1)\n",
       "Name: data, dtype: object"
      ]
     },
     "execution_count": 332,
     "metadata": {},
     "output_type": "execute_result"
    }
   ],
   "source": [
    "urban['data'].apply(lambda x: time.strptime(x,'%H:%M'))"
   ]
  },
  {
   "cell_type": "code",
   "execution_count": null,
   "metadata": {
    "collapsed": true
   },
   "outputs": [],
   "source": []
  }
 ],
 "metadata": {
  "anaconda-cloud": {},
  "kernelspec": {
   "display_name": "Python [default]",
   "language": "python",
   "name": "python3"
  },
  "language_info": {
   "codemirror_mode": {
    "name": "ipython",
    "version": 3
   },
   "file_extension": ".py",
   "mimetype": "text/x-python",
   "name": "python",
   "nbconvert_exporter": "python",
   "pygments_lexer": "ipython3",
   "version": "3.5.2"
  }
 },
 "nbformat": 4,
 "nbformat_minor": 1
}
