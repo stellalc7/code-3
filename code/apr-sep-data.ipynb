{
 "cells": [
  {
   "cell_type": "code",
   "execution_count": null,
   "metadata": {
    "collapsed": true
   },
   "outputs": [],
   "source": [
    "import pandas as pd\n",
    "import numpy as np\n",
    "from __future__ import division\n",
    "import calendar\n",
    "import time\n",
    "import datetime\n",
    "from datetime import date, timedelta\n",
    "import matplotlib.pyplot as plt\n",
    "%matplotlib inline\n",
    "import seaborn as sns\n",
    "from scipy import stats\n",
    "from dateutil.parser import parse\n",
    "from pandas.tslib import Timestamp\n",
    "colorz=sns.color_palette(\"husl\", 8)\n",
    "sns.palplot(sns.color_palette(\"husl\", 8))\n",
    "import matplotlib.dates as mdates"
   ]
  },
  {
   "cell_type": "code",
   "execution_count": null,
   "metadata": {
    "collapsed": true
   },
   "outputs": [],
   "source": [
    "path='/Users/stella/Desktop/'\n",
    "date_0=datetime.date(2017,4,14)\n",
    "date_1=datetime.date(2017,7,1)"
   ]
  },
  {
   "cell_type": "code",
   "execution_count": null,
   "metadata": {
    "collapsed": true
   },
   "outputs": [],
   "source": [
    "#april         3783\n",
    "apr_3783=pd.read_excel(path+'queens-data/Queens Data Logger TSI 3783 Ultrafine February to April.xls')[1:-8]\n",
    "apr_3783['Date&Time']=apr_3783['Date&Time'].apply(lambda x: datetime.datetime.strptime(x, '%m/%d/%Y %I:%M %p'))\n",
    "\n",
    "#may-june      3783\n",
    "may_jun_3783=pd.read_csv(path+'queens-data/TEOM_TSI 3783_May-June_2017.csv')[:-8]\n",
    "may_jun_3783 = may_jun_3783.rename(columns=may_jun_3783.iloc[1])\n",
    "may_jun_3783 = may_jun_3783[3:]\n",
    "may_jun_3783=may_jun_3783[['Date&Time','UF Aggregated Conc.']]\n",
    "may_jun_3783['Date&Time']=may_jun_3783['Date&Time'].apply(lambda x: datetime.datetime.strptime(x, '%m/%d/%Y %I:%M %p'))\n",
    "\n",
    "tsi_3783=pd.concat([apr_3783,may_jun_3783])\n",
    "\n",
    "tsi_3783['UF Aggregated Conc.']=pd.to_numeric(tsi_3783['UF Aggregated Conc.'], errors='coerce')\n",
    "tsi_3783=tsi_3783[(tsi_3783['Date&Time']>date_0) & (tsi_3783['Date&Time']<date_1)]\n",
    "tsi_3783=tsi_3783.reset_index()\n",
    "del tsi_3783['index']\n",
    "\n",
    "tsi_3783.columns=['time','PN (#/cm3)']"
   ]
  },
  {
   "cell_type": "code",
   "execution_count": null,
   "metadata": {
    "collapsed": true
   },
   "outputs": [],
   "source": [
    "#april         3031\n",
    "apr_3031=pd.read_csv(path+'queens-data/TSI 3031 Particle Counter_20170413-april.TXT',delimiter='\\t',skiprows=4)\n",
    "apr_3031=apr_3031.reset_index()\n",
    "apr_3031.columns=apr_3031.iloc[0]\n",
    "apr_3031=apr_3031.iloc[1:].reset_index()\n",
    "apr_3031['start']=apr_3031['start'].apply(lambda x: parse(x))\n",
    "apr_3031['end']=apr_3031['end'].apply(lambda x: parse(x))\n",
    "apr_3031=apr_3031[['start','end','ch1','ch2','ch3','ch4','ch5','ch6']]\n",
    "\n",
    "#may-june      3031\n",
    "may_jun_3031=pd.read_csv(path+'queens-data/TSI 3031_20170501.TXT',delimiter='\\t',skiprows=4)\n",
    "may_jun_3031=may_jun_3031.reset_index()\n",
    "may_jun_3031.columns=may_jun_3031.iloc[0]\n",
    "may_jun_3031=may_jun_3031.iloc[1:].reset_index()\n",
    "may_jun_3031['start']=may_jun_3031['start'].apply(lambda x: parse(x))\n",
    "may_jun_3031['end']=may_jun_3031['end'].apply(lambda x: parse(x))\n",
    "may_jun_3031=may_jun_3031[['start','end','ch1','ch2','ch3','ch4','ch5','ch6']]\n",
    "\n",
    "tsi_3031=pd.concat([apr_3031,may_jun_3031])\n",
    "\n",
    "tsi_3031=tsi_3031[(tsi_3031['start']>date_0) & (tsi_3031['start']<date_1)]\n",
    "tsi_3031=tsi_3031.reset_index()\n",
    "del tsi_3031['index']\n",
    "tsi_3031[['ch1','ch2','ch3','ch4','ch5','ch6']] = tsi_3031[['ch1','ch2','ch3','ch4','ch5','ch6']].apply(pd.to_numeric)"
   ]
  },
  {
   "cell_type": "code",
   "execution_count": null,
   "metadata": {
    "collapsed": true
   },
   "outputs": [],
   "source": [
    "# TEOM APRIL and JUNE - MAY INVALIDATED\n",
    "teom_apr=pd.read_csv(path+'queens-data/1405DF TEOM_A225741308_2017-04-28_16-07-18-mar-apr.csv')\n",
    "teom_apr=teom_apr[['Date','Time','tmoTEOMAFEMMC_0']]\n",
    "teom_apr['datetime']=teom_apr['Date']+' '+teom_apr['Time']\n",
    "teom_apr['datetime']=teom_apr['datetime'].apply(lambda x: datetime.datetime.strptime(x, '%m/%d/%y %H:%M:%S'))\n",
    "teom_apr=teom_apr[['datetime','tmoTEOMAFEMMC_0']]\n",
    "teom_apr=teom_apr.rename(columns={'tmoTEOMAFEMMC_0':'PM2.5 (ug/m3)'})\n",
    "teom_apr=teom_apr[(teom_apr['datetime']>=datetime.date(2017,4,1)) & (teom_apr['datetime']<datetime.date(2017,5,1))]\n",
    "\n",
    "teom_jun=pd.read_csv(path+'data-2/TEOM_TSI 3783_May-June_2017.csv')[1:-9]\n",
    "teom_jun=teom_jun.rename(columns={'﻿Date&Time':'time'})\n",
    "teom_jun=teom_jun[['time','PM2.5_FEM_MC']]\n",
    "teom_jun['time']=teom_jun['time'].apply(lambda x: datetime.datetime.strptime(x, '%m/%d/%Y %I:%M %p'))\n",
    "teom_jun['PM2.5_FEM_MC']=pd.to_numeric(teom_jun['PM2.5_FEM_MC'], errors='coerce')\n",
    "#teom2=teom2[teom2['PM2.5_FEM_MC']>0]\n",
    "teom_jun=teom_jun.reset_index()\n",
    "del teom_jun['index']\n",
    "teom_jun=teom_jun[(teom_jun['time']>=datetime.date(2017,6,1)) & (teom_jun['time']<datetime.date(2017,7,1))]\n",
    "teom_jun=teom_jun.rename(columns={'time':'datetime','PM2.5_FEM_MC':'PM2.5 (ug/m3)'})\n",
    "\n",
    "teom=pd.concat([teom_apr,teom_jun])\n",
    "num=teom._get_numeric_data()\n",
    "num[num<=0]=np.nan"
   ]
  },
  {
   "cell_type": "code",
   "execution_count": null,
   "metadata": {
    "collapsed": true
   },
   "outputs": [],
   "source": [
    "# PEGASOR INDOOR AND OUTDOOR DATA\n",
    "i_ldsa=pd.read_excel(path+'data-2/realeco_sn0135-ldsa_2017-01-23t181000_2017-07-01t181000.xlsx')\n",
    "i_ldsa=i_ldsa.set_index('time')\n",
    "i_pn=pd.read_excel(path+'data-2/realeco_sn0135-pm25_2017-01-19t181600_2017-07-01t181600.xlsx')\n",
    "i_pn=i_pn.set_index('time')\n",
    "i_pm25=pd.read_excel(path+'data-2/realeco_sn0135-pn_2017-01-25t183900_2017-07-01t183900.xlsx')\n",
    "i_pm25=i_pm25.set_index('time')\n",
    "\n",
    "i_df=(i_ldsa.join(i_pn)).join(i_pm25).dropna()\n",
    "i_df.columns=['i-ldsa','i-pm25','i-pn']\n",
    "\n",
    "urban=pd.read_csv(path+'data-2/1329_PEGASOR A_20170712185105-2.csv',delimiter=',')\n",
    "urban['DateTime']=urban['DateTime'].apply(lambda x: parse(x))\n",
    "urban.columns=['time','ldsa-1','pn-1','pm25-1','ldsa-2','pn-2','pm25-2']\n",
    "urban['pn-1'].loc[:80034]=urban['pn-1'].loc[:80034]*6\n",
    "urban['pn-2'].loc[:80033]=urban['pn-2'].loc[:80033]*6\n",
    "urban=urban.set_index('time')\n",
    "\n",
    "pegasor=i_df.join(urban).reset_index()\n",
    "\n",
    "pegasor=pegasor[(pegasor['time']>date_0) & (pegasor['time']<date_1)]\n",
    "pegasor=pegasor[pegasor>0].dropna().reset_index()\n",
    "pegasor=pegasor.reset_index()\n",
    "del pegasor['index']\n",
    "del pegasor['level_0']"
   ]
  },
  {
   "cell_type": "code",
   "execution_count": null,
   "metadata": {
    "collapsed": true
   },
   "outputs": [],
   "source": [
    "# compare urban 1, urban 2 differences\n",
    "pegasor['ldsa-1/2']=pegasor['ldsa-1']/pegasor['ldsa-2']\n",
    "pegasor['ldsa-2/1']=pegasor['ldsa-2']/pegasor['ldsa-1']\n",
    "\n",
    "# remove pegasor urban units +5x each other\n",
    "pegasor=pegasor[pegasor['ldsa-2/1']<5]\n",
    "pegasor=pegasor[pegasor['ldsa-1/2']<5].reset_index()\n",
    "del pegasor['index'], pegasor['ldsa-1/2'], pegasor['ldsa-2/1']"
   ]
  },
  {
   "cell_type": "code",
   "execution_count": null,
   "metadata": {
    "collapsed": true
   },
   "outputs": [],
   "source": [
    "tsi3783_hr=tsi_3783.set_index('time').resample(rule='1H').mean().reset_index()\n",
    "tsi3783_daily=tsi_3783.set_index('time').resample(rule='24H').mean().reset_index()\n",
    "\n",
    "tsi3031_hr=tsi_3031.set_index('start').resample(rule='1H').mean().reset_index()\n",
    "tsi3031_daily=tsi_3031.set_index('start').resample(rule='24H').mean().reset_index()\n",
    "\n",
    "teom_hr=teom.set_index('datetime').resample(rule='1H').mean().reset_index()\n",
    "teom_daily=teom.set_index('datetime').resample(rule='24H').mean().reset_index()\n",
    "\n",
    "pegasor_hr=pegasor.set_index('time').resample(rule='1H').mean().reset_index()\n",
    "pegasor_daily=pegasor.set_index('time').resample(rule='24H').mean().reset_index()"
   ]
  },
  {
   "cell_type": "code",
   "execution_count": null,
   "metadata": {
    "collapsed": true
   },
   "outputs": [],
   "source": [
    "df_hr=pegasor_hr.set_index('time').join(tsi3783_hr.set_index('time')).join(tsi3031_hr.set_index('start')).join(teom_hr.set_index('datetime')).reset_index()\n",
    "df_daily=pegasor_daily.set_index('time').join(tsi3783_daily.set_index('time')).join(tsi3031_daily.set_index('start')).join(teom_daily.set_index('datetime')).reset_index()"
   ]
  },
  {
   "cell_type": "code",
   "execution_count": null,
   "metadata": {
    "collapsed": true
   },
   "outputs": [],
   "source": [
    "df_hr_apr=df_hr[df_hr.time<datetime.date(2017,5,1)]                                                       # APR\n",
    "df_hr_may=df_hr[(df_hr.time>=datetime.date(2017,5,1)) & (df_hr.time<datetime.date(2017,6,1))]             # MAY\n",
    "df_hr_jun=df_hr[df_hr.time>=datetime.date(2017,6,1)]                                                      # JUN\n",
    "\n",
    "df_daily_apr=df_daily[df_daily.time<datetime.date(2017,5,1)]                                              # APR\n",
    "df_daily_may=df_daily[(df_daily.time>=datetime.date(2017,5,1)) & (df_daily.time<datetime.date(2017,6,1))] # MAY\n",
    "df_daily_jun=df_daily[df_daily.time>=datetime.date(2017,6,1)]                                             # JUN"
   ]
  },
  {
   "cell_type": "code",
   "execution_count": null,
   "metadata": {
    "collapsed": true
   },
   "outputs": [],
   "source": [
    "path2='/Users/stella/Desktop/CHTechUSA Data_2017_1002/'"
   ]
  },
  {
   "cell_type": "code",
   "execution_count": null,
   "metadata": {
    "collapsed": true
   },
   "outputs": [],
   "source": [
    "# TEOM & TSI 3783\n",
    "df1=pd.read_csv(path2+'Data Logger Download.csv')\n",
    "df1=df1[['Date&Time','PM2.5_FEM_MC','PM10_MC','UF Aggregated Conc.']][1:-8].reset_index()\n",
    "del df1['index']\n",
    "df1['Date&Time']=df1['Date&Time'].apply(lambda x: datetime.datetime.strptime(x, '%m/%d/%Y %I:%M %p'))\n",
    "df1.columns=['time','PM2.5 (ug/m3)','PM10 (ug/m3)','TNC (#/cm3)']\n",
    "df1['PM2.5 (ug/m3)']=pd.to_numeric(df1['PM2.5 (ug/m3)'], errors='coerce')\n",
    "df1['PM10 (ug/m3)']=pd.to_numeric(df1['PM10 (ug/m3)'], errors='coerce')\n",
    "df1['TNC (#/cm3)']=pd.to_numeric(df1['TNC (#/cm3)'], errors='coerce')\n",
    "\n",
    "#df1=df1.replace(0,np.nan)\n",
    "num=df1._get_numeric_data()\n",
    "num[num<=0]=np.nan\n",
    "#df1[(num[num<=0]).any(1)]                   # CHECK DELETING NEGATIVES\n",
    "#df1=df1.dropna()\n",
    "\n",
    "df1_hr=df1.set_index('time').resample(rule='1H').mean().reset_index()\n",
    "df1_daily=df1.set_index('time').resample(rule='24H').mean().reset_index()"
   ]
  },
  {
   "cell_type": "code",
   "execution_count": null,
   "metadata": {
    "collapsed": true
   },
   "outputs": [],
   "source": [
    "# SMPS TSI 3031\n",
    "df2=pd.read_csv(path2+'TSI3031_20170701.TXT',delimiter='\\t')\n",
    "df2=df2[['start','end','ch1','ch2','ch3','ch4','ch5','ch6']]\n",
    "df2['start']=df2['start'].apply(lambda x: parse(x))\n",
    "df2['end']=df2['end'].apply(lambda x: parse(x))\n",
    "\n",
    "num2=df2._get_numeric_data()\n",
    "num2[num2<=0]=np.nan\n",
    "#df2[(num[num<=0]).any(1)]                   # CHECK DELETING NEGATIVES\n",
    "#df2=df2.dropna()\n",
    "exclude=df2[(df2['start']>=datetime.date(2017,9,12)) & (df2['start']<datetime.date(2017,9,16))].index\n",
    "exclude=df2.index.isin(exclude)\n",
    "df2=df2[~exclude]\n",
    "\n",
    "df2_hr=df2.set_index('start').resample(rule='1H').mean().reset_index()\n",
    "df2_daily=df2.set_index('start').resample(rule='24H').mean().reset_index()"
   ]
  },
  {
   "cell_type": "code",
   "execution_count": null,
   "metadata": {
    "collapsed": true
   },
   "outputs": [],
   "source": [
    "# TEOM, 3783, 3031 - HOURLY, DAILY\n",
    "df_hr=df1_hr.set_index('time').join(df2_hr.set_index('start')).reset_index()\n",
    "df_daily=df1_daily.set_index('time').join(df2_daily.set_index('start')).reset_index()"
   ]
  },
  {
   "cell_type": "code",
   "execution_count": null,
   "metadata": {
    "collapsed": true
   },
   "outputs": [],
   "source": [
    "# PEGASOR INDOOR SN-135 FROM REALECO\n",
    "ildsa=pd.read_excel(path2+'realeco_sn0135-ldsa_2017-06-30t144100_2017-07-14t144100.xlsx')\n",
    "ipm=pd.read_excel(path2+'realeco_sn0135-pm25_2017-06-30t145200_2017-07-14t145200.xlsx')\n",
    "ipn=pd.read_excel(path2+'realeco_sn0135-pn_2017-06-30t145300_2017-07-14t145300.xlsx')\n",
    "idf=ildsa.set_index('time').join(ipm.set_index('time')).join(ipn.set_index('time')).dropna().reset_index()\n",
    "idf['time']=idf['time']-datetime.timedelta(hours=1)          # TIME ADJUSTED -1 HOUR\n",
    "\n",
    "idf=idf[(idf['time']>=datetime.date(2017,7,1)) & (idf['time']<=datetime.date(2017,7,14))].reset_index()\n",
    "del idf['index']\n",
    "idf=idf.replace(0,np.nan)\n",
    "\n",
    "idf_hr=idf.set_index('time').resample(rule='1H').mean().reset_index()\n",
    "idf_daily=idf.set_index('time').resample(rule='24H').mean().reset_index()"
   ]
  },
  {
   "cell_type": "code",
   "execution_count": null,
   "metadata": {
    "collapsed": true
   },
   "outputs": [],
   "source": [
    "# PEGASOR URBAN FROM AIR MONITORS\n",
    "urban=pd.read_csv('/Users/stella/Desktop/CHTechUSA Data_2017_1002/Pagesor A_29 June to 02 Oct 2017_UTC0.csv',delimiter=',',encoding='latin-1')\n",
    "urban=urban[['Alarm','Data','pegasor a','pegasor a.1','pegasor a.2','pegasor a.19','pegasor a.20','pegasor a.21','pegasor a.37','pegasor a.38','pegasor a.39']]\n",
    "urban.columns=['alarm','data','ldsa-1','pn-1','pm25-1','ldsa-2','pn-2','pm25-2','ldsa-3','pn-3','pm25-3']\n",
    "\n",
    "urban=urban.iloc[7:].reset_index()\n",
    "del urban['index']\n",
    "urban.alarm=urban.alarm.apply(lambda x: datetime.datetime.strptime(x,'%d/%m/%Y'))\n",
    "urban.alarm[urban.data=='24:00']=urban.alarm[urban.data=='24:00']+timedelta(1)\n",
    "urban.data[urban.data=='24:00']='00:00'\n",
    "urban.alarm=urban.alarm.apply(lambda x: datetime.datetime.strftime(x, '%Y-%m-%d'))\n",
    "urban['datetime']=urban.alarm + ' ' + urban.data\n",
    "urban.datetime=urban.datetime.apply(lambda x: datetime.datetime.strptime(x,'%Y-%m-%d %H:%M'))\n",
    "del urban['alarm'], urban['data']\n",
    "\n",
    "num=urban.drop(['datetime'], axis=1)\n",
    "num=num.apply(lambda x: pd.to_numeric(x, errors='coerce'), axis=1)\n",
    "urban.loc[:, urban.columns != 'datetime']=num\n",
    "#urban=urban.replace(0,np.nan)\n",
    "num=urban._get_numeric_data()\n",
    "num[num<=0]=np.nan\n",
    "#urban[(num[num<=0]).any(1)]                            # CHECK DELETING NEGATIVES\n",
    "#urban=urban.dropna()\n",
    "\n",
    "urb_hr=urban.set_index('datetime').resample(rule='1H').mean().reset_index()\n",
    "urb_daily=urban.set_index('datetime').resample(rule='24H').mean().reset_index()"
   ]
  },
  {
   "cell_type": "code",
   "execution_count": null,
   "metadata": {
    "collapsed": true
   },
   "outputs": [],
   "source": [
    "hr=df_hr.set_index('time').join(urb_hr.set_index('datetime')).reset_index()\n",
    "daily=df_daily.set_index('time').join(urb_daily.set_index('datetime')).reset_index()"
   ]
  },
  {
   "cell_type": "code",
   "execution_count": null,
   "metadata": {
    "collapsed": true
   },
   "outputs": [],
   "source": [
    "df_hr_jul=hr[hr.time<datetime.date(2017,8,1)]                                                      # JULY\n",
    "df_hr_aug=hr[(hr.time>=datetime.date(2017,8,1)) & (hr.time<datetime.date(2017,9,1))]               # AUGUST\n",
    "df_hr_sep=hr[hr.time>=datetime.date(2017,9,1)]                                                     # SEPTEMBER\n",
    "\n",
    "df_daily_jul=daily[daily.time<datetime.date(2017,8,1)]                                             # JULY\n",
    "df_daily_aug=daily[(daily.time>=datetime.date(2017,8,1)) & (daily.time<datetime.date(2017,9,1))]   # AUGUST\n",
    "df_daily_sep=daily[daily.time>=datetime.date(2017,9,1)]                                            # SEPTEMBER"
   ]
  },
  {
   "cell_type": "code",
   "execution_count": null,
   "metadata": {
    "collapsed": true
   },
   "outputs": [],
   "source": [
    "calib=df_daily_apr['PM2.5 (ug/m3)'].mean()/df_daily_apr['pm25-1'].mean()\n",
    "df_daily_apr['pm25-1']=df_daily_apr['pm25-1']*calib\n",
    "df_daily_apr['pm25-2']=df_daily_apr['pm25-2']*calib\n",
    "print(calib)\n",
    "\n",
    "calib=5\n",
    "df_daily_may['pm25-1']=df_daily_may['pm25-1']*calib\n",
    "df_daily_may['pm25-2']=df_daily_may['pm25-2']*calib\n",
    "print(calib)\n",
    "\n",
    "calib=df_daily_jun['PM2.5 (ug/m3)'].mean()/df_daily_jun['pm25-1'].mean()\n",
    "df_daily_jun['pm25-1']=df_daily_jun['pm25-1']*calib\n",
    "df_daily_jun['pm25-2']=df_daily_jun['pm25-2']*calib\n",
    "print(calib)\n",
    "\n",
    "calib=df_daily_jul['PM2.5 (ug/m3)'].mean()/df_daily_jul['pm25-3'].mean()\n",
    "df_daily_jul['pm25-1']=df_daily_jul['pm25-1']*calib\n",
    "df_daily_jul['pm25-2']=df_daily_jul['pm25-2']*calib\n",
    "df_daily_jul['pm25-3']=df_daily_jul['pm25-3']*calib\n",
    "print(calib)\n",
    "\n",
    "calib=df_daily_aug['PM2.5 (ug/m3)'].mean()/df_daily_aug['pm25-3'].mean()\n",
    "df_daily_aug['pm25-1']=df_daily_aug['pm25-1']*calib\n",
    "df_daily_aug['pm25-2']=df_daily_aug['pm25-2']*calib\n",
    "df_daily_aug['pm25-3']=df_daily_aug['pm25-3']*calib\n",
    "print(calib)\n",
    "\n",
    "calib=df_daily_sep['PM2.5 (ug/m3)'].mean()/df_daily_sep['pm25-3'].mean()\n",
    "df_daily_sep['pm25-1']=df_daily_sep['pm25-1']*calib\n",
    "df_daily_sep['pm25-2']=df_daily_sep['pm25-2']*calib\n",
    "df_daily_sep['pm25-3']=df_daily_sep['pm25-3']*calib\n",
    "print(calib)"
   ]
  },
  {
   "cell_type": "code",
   "execution_count": null,
   "metadata": {
    "collapsed": true
   },
   "outputs": [],
   "source": [
    "frames = [df_daily_apr, df_daily_may,df_daily_jun]\n",
    "df_daily_amj = pd.concat(frames)\n",
    "df_daily_amj = df_daily_amj.rename(columns={'PN (#/cm3)':'TNC (#/cm3)'})"
   ]
  },
  {
   "cell_type": "code",
   "execution_count": null,
   "metadata": {
    "collapsed": true
   },
   "outputs": [],
   "source": [
    "frames = [df_daily_jul, df_daily_aug,df_daily_sep]\n",
    "df_daily_jas = pd.concat(frames)"
   ]
  },
  {
   "cell_type": "code",
   "execution_count": null,
   "metadata": {
    "collapsed": true
   },
   "outputs": [],
   "source": [
    "frames=[df_daily_amj,df_daily_jas]\n",
    "df_daily=pd.concat(frames)"
   ]
  },
  {
   "cell_type": "code",
   "execution_count": null,
   "metadata": {
    "collapsed": true
   },
   "outputs": [],
   "source": [
    "plt.figure(figsize=(12,6))\n",
    "plt.plot(df_daily['time'],df_daily['pm25-1'],'-',label='Urban 1')\n",
    "plt.plot(df_daily['time'],df_daily['pm25-2'],'-',label='Urban 2')\n",
    "plt.plot(df_daily['time'],df_daily['pm25-3'],'-',label='Urban 3')\n",
    "plt.plot(df_daily['time'],df_daily['PM2.5 (ug/m3)'],'-',label='TEOM')\n",
    "plt.title('PM2.5',fontsize=14)\n",
    "plt.xlabel('Date',fontsize=14)\n",
    "plt.xticks(fontsize=12,rotation=30)\n",
    "plt.yticks(fontsize=12)\n",
    "plt.ylabel('PM2.5 (µg/m3)',fontsize=14)\n",
    "plt.legend(loc='center left',bbox_to_anchor=(1, 0.5))"
   ]
  },
  {
   "cell_type": "code",
   "execution_count": null,
   "metadata": {
    "collapsed": true
   },
   "outputs": [],
   "source": [
    "plt.figure(figsize=(12,6))\n",
    "plt.semilogy(df_daily['time'],df_daily['pn-1'],label='Urban 1')\n",
    "plt.semilogy(df_daily['time'],df_daily['pn-2'],label='Urban 2')\n",
    "plt.semilogy(df_daily['time'],df_daily['pn-3'],label='Urban 3')\n",
    "plt.semilogy(df_daily['time'],df_daily['TNC (#/cm3)'],label='TSI 3783')\n",
    "plt.semilogy(df_daily['time'],df_daily['ch1'],color=colorz[0],label='SMPS 20-30 nm')\n",
    "plt.semilogy(df_daily['time'],df_daily['ch2'],color=colorz[1],label='SMPS 30-50 nm')\n",
    "plt.semilogy(df_daily['time'],df_daily['ch3'],color=colorz[2],label='SMPS 50-70 nm')\n",
    "plt.semilogy(df_daily['time'],df_daily['ch4'],color=colorz[5],label='SMPS 70-100 nm')\n",
    "plt.semilogy(df_daily['time'],df_daily['ch5'],color=colorz[6],label='SMPS 100-200 nm')\n",
    "plt.semilogy(df_daily['time'],df_daily['ch6'],color=colorz[7],label='SMPS >200 nm')\n",
    "plt.legend(loc='center left', bbox_to_anchor=(1,0.5), fontsize=12)\n",
    "plt.title('Particle Concentration', fontsize=14)\n",
    "plt.xlabel('Date',fontsize=14)\n",
    "plt.xticks(rotation=30,fontsize=12)\n",
    "plt.yticks(fontsize=12)\n",
    "plt.ylabel('Particle # (1/cm3)',fontsize=14)"
   ]
  },
  {
   "cell_type": "code",
   "execution_count": null,
   "metadata": {
    "collapsed": true
   },
   "outputs": [],
   "source": [
    "plt.figure(figsize=(12,6))\n",
    "plt.plot(df_daily['time'],df_daily['ldsa-1'],'-',label='Urban 1')\n",
    "plt.plot(df_daily['time'],df_daily['ldsa-2'],'-',label='Urban 2')\n",
    "plt.plot(df_daily['time'],df_daily['ldsa-3'],'-',label='Urban 3')\n",
    "plt.legend(loc='center left', bbox_to_anchor=(1,0.5))\n",
    "plt.title('Lung Deposited Surface Area', fontsize=14)\n",
    "plt.xlabel('Date',fontsize=14)\n",
    "plt.xticks(rotation=30,fontsize=12)\n",
    "plt.yticks(fontsize=12)\n",
    "plt.ylabel('LDSA (µm2/cm3)',fontsize=14)"
   ]
  },
  {
   "cell_type": "code",
   "execution_count": null,
   "metadata": {
    "collapsed": true
   },
   "outputs": [],
   "source": []
  },
  {
   "cell_type": "code",
   "execution_count": null,
   "metadata": {
    "collapsed": true
   },
   "outputs": [],
   "source": []
  }
 ],
 "metadata": {
  "anaconda-cloud": {},
  "kernelspec": {
   "display_name": "Python [default]",
   "language": "python",
   "name": "python3"
  },
  "language_info": {
   "codemirror_mode": {
    "name": "ipython",
    "version": 3
   },
   "file_extension": ".py",
   "mimetype": "text/x-python",
   "name": "python",
   "nbconvert_exporter": "python",
   "pygments_lexer": "ipython3",
   "version": "3.5.2"
  }
 },
 "nbformat": 4,
 "nbformat_minor": 1
}
