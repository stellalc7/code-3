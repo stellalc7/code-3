{
 "cells": [
  {
   "cell_type": "code",
   "execution_count": 256,
   "metadata": {
    "collapsed": false
   },
   "outputs": [],
   "source": [
    "import pandas as pd\n",
    "import numpy as np\n",
    "from __future__ import division\n",
    "import calendar\n",
    "import time\n",
    "import datetime\n",
    "from datetime import date, timedelta\n",
    "import matplotlib.pyplot as plt\n",
    "%matplotlib inline\n",
    "import seaborn as sns\n",
    "from scipy import stats\n",
    "from dateutil.parser import parse\n",
    "from pandas.tslib import Timestamp\n",
    "colorz=sns.color_palette(\"husl\", 8)\n",
    "#sns.palplot(sns.color_palette(\"husl\", 8))"
   ]
  },
  {
   "cell_type": "code",
   "execution_count": 257,
   "metadata": {
    "collapsed": false
   },
   "outputs": [
    {
     "data": {
      "text/html": [
       "<div>\n",
       "<table border=\"1\" class=\"dataframe\">\n",
       "  <thead>\n",
       "    <tr style=\"text-align: right;\">\n",
       "      <th></th>\n",
       "      <th>time</th>\n",
       "      <th>i-ldsa</th>\n",
       "      <th>i-pm25</th>\n",
       "      <th>i-pn</th>\n",
       "      <th>ldsa-1</th>\n",
       "      <th>pn-1</th>\n",
       "      <th>pm25-1</th>\n",
       "      <th>ldsa-2</th>\n",
       "      <th>pn-2</th>\n",
       "      <th>pm25-2</th>\n",
       "    </tr>\n",
       "  </thead>\n",
       "  <tbody>\n",
       "    <tr>\n",
       "      <th>0</th>\n",
       "      <td>2017-01-25 13:39:00</td>\n",
       "      <td>3.304210</td>\n",
       "      <td>0.872990</td>\n",
       "      <td>368.935</td>\n",
       "      <td>12.260</td>\n",
       "      <td>10042.384</td>\n",
       "      <td>0.482</td>\n",
       "      <td>13.902</td>\n",
       "      <td>11634.118</td>\n",
       "      <td>0.558</td>\n",
       "    </tr>\n",
       "    <tr>\n",
       "      <th>1</th>\n",
       "      <td>2017-01-25 13:40:00</td>\n",
       "      <td>3.357189</td>\n",
       "      <td>0.875623</td>\n",
       "      <td>377.458</td>\n",
       "      <td>12.260</td>\n",
       "      <td>10042.384</td>\n",
       "      <td>0.482</td>\n",
       "      <td>12.866</td>\n",
       "      <td>10769.608</td>\n",
       "      <td>0.517</td>\n",
       "    </tr>\n",
       "    <tr>\n",
       "      <th>2</th>\n",
       "      <td>2017-01-25 13:41:00</td>\n",
       "      <td>3.398347</td>\n",
       "      <td>0.880263</td>\n",
       "      <td>383.497</td>\n",
       "      <td>12.260</td>\n",
       "      <td>10042.384</td>\n",
       "      <td>0.482</td>\n",
       "      <td>12.866</td>\n",
       "      <td>10769.608</td>\n",
       "      <td>0.517</td>\n",
       "    </tr>\n",
       "    <tr>\n",
       "      <th>3</th>\n",
       "      <td>2017-01-25 13:42:00</td>\n",
       "      <td>3.393449</td>\n",
       "      <td>0.850978</td>\n",
       "      <td>389.758</td>\n",
       "      <td>11.821</td>\n",
       "      <td>9682.168</td>\n",
       "      <td>0.465</td>\n",
       "      <td>9.837</td>\n",
       "      <td>8233.191</td>\n",
       "      <td>0.395</td>\n",
       "    </tr>\n",
       "    <tr>\n",
       "      <th>4</th>\n",
       "      <td>2017-01-25 13:43:00</td>\n",
       "      <td>3.272805</td>\n",
       "      <td>0.808077</td>\n",
       "      <td>378.986</td>\n",
       "      <td>11.821</td>\n",
       "      <td>9682.168</td>\n",
       "      <td>0.465</td>\n",
       "      <td>9.837</td>\n",
       "      <td>8233.191</td>\n",
       "      <td>0.395</td>\n",
       "    </tr>\n",
       "  </tbody>\n",
       "</table>\n",
       "</div>"
      ],
      "text/plain": [
       "                 time    i-ldsa    i-pm25     i-pn  ldsa-1       pn-1  pm25-1  \\\n",
       "0 2017-01-25 13:39:00  3.304210  0.872990  368.935  12.260  10042.384   0.482   \n",
       "1 2017-01-25 13:40:00  3.357189  0.875623  377.458  12.260  10042.384   0.482   \n",
       "2 2017-01-25 13:41:00  3.398347  0.880263  383.497  12.260  10042.384   0.482   \n",
       "3 2017-01-25 13:42:00  3.393449  0.850978  389.758  11.821   9682.168   0.465   \n",
       "4 2017-01-25 13:43:00  3.272805  0.808077  378.986  11.821   9682.168   0.465   \n",
       "\n",
       "   ldsa-2       pn-2  pm25-2  \n",
       "0  13.902  11634.118   0.558  \n",
       "1  12.866  10769.608   0.517  \n",
       "2  12.866  10769.608   0.517  \n",
       "3   9.837   8233.191   0.395  \n",
       "4   9.837   8233.191   0.395  "
      ]
     },
     "execution_count": 257,
     "metadata": {},
     "output_type": "execute_result"
    }
   ],
   "source": [
    "# PEGASOR INDOOR AND OUTDOOR DATA\n",
    "i_ldsa=pd.read_excel('/Users/stella/Desktop/realeco_sn0135-ldsa_2017-01-23t181000_2017-07-01t181000.xlsx')\n",
    "i_ldsa=i_ldsa.set_index('time')\n",
    "i_pn=pd.read_excel('/Users/stella/Desktop/realeco_sn0135-pm25_2017-01-19t181600_2017-07-01t181600.xlsx')\n",
    "i_pn=i_pn.set_index('time')\n",
    "i_pm25=pd.read_excel('/Users/stella/Desktop/realeco_sn0135-pn_2017-01-25t183900_2017-07-01t183900.xlsx')\n",
    "i_pm25=i_pm25.set_index('time')\n",
    "\n",
    "i_df=(i_ldsa.join(i_pn)).join(i_pm25).dropna()\n",
    "i_df.columns=['i-ldsa','i-pm25','i-pn']\n",
    "\n",
    "urban=pd.read_csv('/Users/stella/Desktop/1329_PEGASOR A_20170712185105-2.csv',delimiter=',')\n",
    "urban['DateTime']=urban['DateTime'].apply(lambda x: parse(x))\n",
    "urban.columns=['time','ldsa-1','pn-1','pm25-1','ldsa-2','pn-2','pm25-2']\n",
    "urban=urban.set_index('time')\n",
    "\n",
    "pegasor=i_df.join(urban).reset_index()\n",
    "pegasor.head()"
   ]
  },
  {
   "cell_type": "code",
   "execution_count": 267,
   "metadata": {
    "collapsed": false
   },
   "outputs": [],
   "source": [
    "urb=urban.reset_index()"
   ]
  },
  {
   "cell_type": "code",
   "execution_count": 268,
   "metadata": {
    "collapsed": false
   },
   "outputs": [],
   "source": [
    "urb=urb[(urb['time']>datetime.date(2017,3,21)) & (urb['time']<datetime.date(2017,3,22))]"
   ]
  },
  {
   "cell_type": "code",
   "execution_count": 269,
   "metadata": {
    "collapsed": false
   },
   "outputs": [
    {
     "data": {
      "text/plain": [
       "[<matplotlib.lines.Line2D at 0x12b1fd2e8>]"
      ]
     },
     "execution_count": 269,
     "metadata": {},
     "output_type": "execute_result"
    },
    {
     "data": {
      "image/png": "[encoded data removed]",
      "text/plain": [
       "<matplotlib.figure.Figure at 0x1231657b8>"
      ]
     },
     "metadata": {},
     "output_type": "display_data"
    }
   ],
   "source": [
    "plt.plot(urb['time'][urb['pn-1']>0],urb['pn-1'][urb['pn-1']>0])"
   ]
  },
  {
   "cell_type": "code",
   "execution_count": 270,
   "metadata": {
    "collapsed": false
   },
   "outputs": [
    {
     "data": {
      "text/plain": [
       "[<matplotlib.lines.Line2D at 0x12a409f60>]"
      ]
     },
     "execution_count": 270,
     "metadata": {},
     "output_type": "execute_result"
    },
    {
     "data": {
      "image/png": "[encoded data removed]",
      "text/plain": [
       "<matplotlib.figure.Figure at 0x12aaee8d0>"
      ]
     },
     "metadata": {},
     "output_type": "display_data"
    }
   ],
   "source": [
    "plt.plot(urb['time'][urb['pn-2']>0],urb['pn-2'][urb['pn-2']>0])"
   ]
  },
  {
   "cell_type": "code",
   "execution_count": 262,
   "metadata": {
    "collapsed": false
   },
   "outputs": [
    {
     "data": {
      "text/html": [
       "<div>\n",
       "<table border=\"1\" class=\"dataframe\">\n",
       "  <thead>\n",
       "    <tr style=\"text-align: right;\">\n",
       "      <th></th>\n",
       "      <th>time</th>\n",
       "      <th>ldsa-1</th>\n",
       "      <th>pn-1</th>\n",
       "      <th>pm25-1</th>\n",
       "      <th>ldsa-2</th>\n",
       "      <th>pn-2</th>\n",
       "      <th>pm25-2</th>\n",
       "    </tr>\n",
       "  </thead>\n",
       "  <tbody>\n",
       "    <tr>\n",
       "      <th>80030</th>\n",
       "      <td>2017-03-21 13:54:00</td>\n",
       "      <td>-999.000</td>\n",
       "      <td>-999.000</td>\n",
       "      <td>-999.000</td>\n",
       "      <td>-999.000</td>\n",
       "      <td>-999.000</td>\n",
       "      <td>-999.000</td>\n",
       "    </tr>\n",
       "    <tr>\n",
       "      <th>80031</th>\n",
       "      <td>2017-03-21 13:55:00</td>\n",
       "      <td>-999.000</td>\n",
       "      <td>-999.000</td>\n",
       "      <td>-999.000</td>\n",
       "      <td>-999.000</td>\n",
       "      <td>-999.000</td>\n",
       "      <td>-999.000</td>\n",
       "    </tr>\n",
       "    <tr>\n",
       "      <th>80032</th>\n",
       "      <td>2017-03-21 13:56:00</td>\n",
       "      <td>-999.000</td>\n",
       "      <td>-999.000</td>\n",
       "      <td>-999.000</td>\n",
       "      <td>-999.000</td>\n",
       "      <td>-999.000</td>\n",
       "      <td>-999.000</td>\n",
       "    </tr>\n",
       "    <tr>\n",
       "      <th>80033</th>\n",
       "      <td>2017-03-21 13:57:00</td>\n",
       "      <td>-999.000</td>\n",
       "      <td>-999.000</td>\n",
       "      <td>-999.000</td>\n",
       "      <td>-999.000</td>\n",
       "      <td>-999.000</td>\n",
       "      <td>-999.000</td>\n",
       "    </tr>\n",
       "    <tr>\n",
       "      <th>80034</th>\n",
       "      <td>2017-03-21 13:58:00</td>\n",
       "      <td>47.947</td>\n",
       "      <td>38889.065</td>\n",
       "      <td>1.867</td>\n",
       "      <td>39.101</td>\n",
       "      <td>226269.852</td>\n",
       "      <td>1.552</td>\n",
       "    </tr>\n",
       "  </tbody>\n",
       "</table>\n",
       "</div>"
      ],
      "text/plain": [
       "                     time   ldsa-1       pn-1   pm25-1   ldsa-2        pn-2  \\\n",
       "80030 2017-03-21 13:54:00 -999.000   -999.000 -999.000 -999.000    -999.000   \n",
       "80031 2017-03-21 13:55:00 -999.000   -999.000 -999.000 -999.000    -999.000   \n",
       "80032 2017-03-21 13:56:00 -999.000   -999.000 -999.000 -999.000    -999.000   \n",
       "80033 2017-03-21 13:57:00 -999.000   -999.000 -999.000 -999.000    -999.000   \n",
       "80034 2017-03-21 13:58:00   47.947  38889.065    1.867   39.101  226269.852   \n",
       "\n",
       "        pm25-2  \n",
       "80030 -999.000  \n",
       "80031 -999.000  \n",
       "80032 -999.000  \n",
       "80033 -999.000  \n",
       "80034    1.552  "
      ]
     },
     "execution_count": 262,
     "metadata": {},
     "output_type": "execute_result"
    }
   ],
   "source": [
    "urb.loc[:80034].tail()\n",
    "#urb[urb['pn-2']>80000].head()"
   ]
  },
  {
   "cell_type": "code",
   "execution_count": 263,
   "metadata": {
    "collapsed": false
   },
   "outputs": [],
   "source": [
    "urban=urban.reset_index()"
   ]
  },
  {
   "cell_type": "code",
   "execution_count": 264,
   "metadata": {
    "collapsed": false
   },
   "outputs": [
    {
     "name": "stderr",
     "output_type": "stream",
     "text": [
      "/Users/stella/anaconda/lib/python3.5/site-packages/pandas/core/indexing.py:132: SettingWithCopyWarning: \n",
      "A value is trying to be set on a copy of a slice from a DataFrame\n",
      "\n",
      "See the caveats in the documentation: http://pandas.pydata.org/pandas-docs/stable/indexing.html#indexing-view-versus-copy\n",
      "  self._setitem_with_indexer(indexer, value)\n"
     ]
    }
   ],
   "source": [
    "urban['pn-1'].loc[:80034]=urban['pn-1'].loc[:80034]*6"
   ]
  },
  {
   "cell_type": "code",
   "execution_count": 265,
   "metadata": {
    "collapsed": false
   },
   "outputs": [
    {
     "name": "stderr",
     "output_type": "stream",
     "text": [
      "/Users/stella/anaconda/lib/python3.5/site-packages/pandas/core/indexing.py:132: SettingWithCopyWarning: \n",
      "A value is trying to be set on a copy of a slice from a DataFrame\n",
      "\n",
      "See the caveats in the documentation: http://pandas.pydata.org/pandas-docs/stable/indexing.html#indexing-view-versus-copy\n",
      "  self._setitem_with_indexer(indexer, value)\n"
     ]
    }
   ],
   "source": [
    "urban['pn-2'].loc[:80033]=urban['pn-2'].loc[:80033]*6"
   ]
  },
  {
   "cell_type": "code",
   "execution_count": 266,
   "metadata": {
    "collapsed": false
   },
   "outputs": [
    {
     "data": {
      "text/plain": [
       "[<matplotlib.lines.Line2D at 0x121de5fd0>]"
      ]
     },
     "execution_count": 266,
     "metadata": {},
     "output_type": "execute_result"
    },
    {
     "data": {
      "image/png": "[encoded data removed]",
      "text/plain": [
       "<matplotlib.figure.Figure at 0x12b293780>"
      ]
     },
     "metadata": {},
     "output_type": "display_data"
    }
   ],
   "source": [
    "plt.plot(urb['time'][urb['pn-1']>0],urb['pn-1'][urb['pn-1']>0])"
   ]
  },
  {
   "cell_type": "code",
   "execution_count": null,
   "metadata": {
    "collapsed": true
   },
   "outputs": [],
   "source": []
  },
  {
   "cell_type": "code",
   "execution_count": null,
   "metadata": {
    "collapsed": true
   },
   "outputs": [],
   "source": []
  },
  {
   "cell_type": "code",
   "execution_count": 271,
   "metadata": {
    "collapsed": false
   },
   "outputs": [
    {
     "data": {
      "text/plain": [
       "[<matplotlib.lines.Line2D at 0x12dbdb780>]"
      ]
     },
     "execution_count": 271,
     "metadata": {},
     "output_type": "execute_result"
    },
    {
     "data": {
      "image/png": "[encoded data removed]",
      "text/plain": [
       "<matplotlib.figure.Figure at 0x12a4216d8>"
      ]
     },
     "metadata": {},
     "output_type": "display_data"
    }
   ],
   "source": [
    "plt.plot(urb['time'][urb['pn-2']>0],urb['pn-2'][urb['pn-2']>0])"
   ]
  },
  {
   "cell_type": "code",
   "execution_count": null,
   "metadata": {
    "collapsed": true
   },
   "outputs": [],
   "source": []
  },
  {
   "cell_type": "code",
   "execution_count": 138,
   "metadata": {
    "collapsed": true
   },
   "outputs": [],
   "source": [
    "# 1/cm³          µg/m³          µm²/cm³"
   ]
  },
  {
   "cell_type": "code",
   "execution_count": 139,
   "metadata": {
    "collapsed": false
   },
   "outputs": [
    {
     "data": {
      "text/html": [
       "<div>\n",
       "<table border=\"1\" class=\"dataframe\">\n",
       "  <thead>\n",
       "    <tr style=\"text-align: right;\">\n",
       "      <th></th>\n",
       "      <th>Date&amp;Time</th>\n",
       "      <th>PM2.5_FEM_MC</th>\n",
       "      <th>PM2.5_MC</th>\n",
       "    </tr>\n",
       "  </thead>\n",
       "  <tbody>\n",
       "    <tr>\n",
       "      <th>3</th>\n",
       "      <td>2017-02-01 12:00:00</td>\n",
       "      <td>18.25</td>\n",
       "      <td>20.02</td>\n",
       "    </tr>\n",
       "    <tr>\n",
       "      <th>4</th>\n",
       "      <td>2017-02-01 01:00:00</td>\n",
       "      <td>19.18</td>\n",
       "      <td>20.98</td>\n",
       "    </tr>\n",
       "    <tr>\n",
       "      <th>5</th>\n",
       "      <td>2017-02-01 02:00:00</td>\n",
       "      <td>14.51</td>\n",
       "      <td>16.15</td>\n",
       "    </tr>\n",
       "    <tr>\n",
       "      <th>6</th>\n",
       "      <td>2017-02-01 03:00:00</td>\n",
       "      <td>15.93</td>\n",
       "      <td>17.63</td>\n",
       "    </tr>\n",
       "    <tr>\n",
       "      <th>7</th>\n",
       "      <td>2017-02-01 04:00:00</td>\n",
       "      <td>10.82</td>\n",
       "      <td>12.25</td>\n",
       "    </tr>\n",
       "  </tbody>\n",
       "</table>\n",
       "</div>"
      ],
      "text/plain": [
       "            Date&Time PM2.5_FEM_MC PM2.5_MC\n",
       "3 2017-02-01 12:00:00        18.25    20.02\n",
       "4 2017-02-01 01:00:00        19.18    20.98\n",
       "5 2017-02-01 02:00:00        14.51    16.15\n",
       "6 2017-02-01 03:00:00        15.93    17.63\n",
       "7 2017-02-01 04:00:00        10.82    12.25"
      ]
     },
     "execution_count": 139,
     "metadata": {},
     "output_type": "execute_result"
    }
   ],
   "source": [
    "#feb-april     TEOM\n",
    "feb_apr_teom=pd.read_excel('/Users/stella/Desktop/queens-data/Queens Data Logger TEOM 1 Hour Data February to April.xls')[:-8]\n",
    "feb_apr_teom = feb_apr_teom.rename(columns=feb_apr_teom.iloc[1])\n",
    "feb_apr_teom = feb_apr_teom[3:]\n",
    "feb_apr_teom=feb_apr_teom[['Date&Time','PM2.5_FEM_MC','PM2.5_MC']]\n",
    "feb_apr_teom['Date&Time']=feb_apr_teom['Date&Time'].apply(lambda x: datetime.datetime.strptime(x, '%m/%d/%Y %H:%M %p'))\n",
    "\n",
    "#may-june      TEOM\n",
    "may_jun_teom=pd.read_csv('/Users/stella/Desktop/queens-data/TEOM_TSI 3783_May-June_2017.csv')[:-8]\n",
    "may_jun_teom = may_jun_teom.rename(columns=may_jun_teom.iloc[1])\n",
    "may_jun_teom = may_jun_teom[3:]\n",
    "may_jun_teom=may_jun_teom[['Date&Time','PM2.5_FEM_MC','PM2.5_MC']]\n",
    "may_jun_teom['Date&Time']=may_jun_teom['Date&Time'].apply(lambda x: datetime.datetime.strptime(x, '%m/%d/%Y %H:%M %p'))\n",
    "\n",
    "teom=pd.concat([feb_apr_teom,may_jun_teom])\n",
    "teom.head()"
   ]
  },
  {
   "cell_type": "code",
   "execution_count": 140,
   "metadata": {
    "collapsed": false
   },
   "outputs": [
    {
     "data": {
      "text/html": [
       "<div>\n",
       "<table border=\"1\" class=\"dataframe\">\n",
       "  <thead>\n",
       "    <tr style=\"text-align: right;\">\n",
       "      <th></th>\n",
       "      <th>Date&amp;Time</th>\n",
       "      <th>UF Aggregated Conc.</th>\n",
       "    </tr>\n",
       "  </thead>\n",
       "  <tbody>\n",
       "    <tr>\n",
       "      <th>1</th>\n",
       "      <td>2017-04-11 08:00:00</td>\n",
       "      <td>24268</td>\n",
       "    </tr>\n",
       "    <tr>\n",
       "      <th>2</th>\n",
       "      <td>2017-04-11 09:00:00</td>\n",
       "      <td>24445</td>\n",
       "    </tr>\n",
       "    <tr>\n",
       "      <th>3</th>\n",
       "      <td>2017-04-11 10:00:00</td>\n",
       "      <td>36088</td>\n",
       "    </tr>\n",
       "    <tr>\n",
       "      <th>4</th>\n",
       "      <td>2017-04-11 11:00:00</td>\n",
       "      <td>38883</td>\n",
       "    </tr>\n",
       "    <tr>\n",
       "      <th>5</th>\n",
       "      <td>2017-04-11 12:00:00</td>\n",
       "      <td>46482</td>\n",
       "    </tr>\n",
       "  </tbody>\n",
       "</table>\n",
       "</div>"
      ],
      "text/plain": [
       "            Date&Time UF Aggregated Conc.\n",
       "1 2017-04-11 08:00:00               24268\n",
       "2 2017-04-11 09:00:00               24445\n",
       "3 2017-04-11 10:00:00               36088\n",
       "4 2017-04-11 11:00:00               38883\n",
       "5 2017-04-11 12:00:00               46482"
      ]
     },
     "execution_count": 140,
     "metadata": {},
     "output_type": "execute_result"
    }
   ],
   "source": [
    "#april         3783\n",
    "apr_3783=pd.read_excel('/Users/stella/Desktop/queens-data/Queens Data Logger TSI 3783 Ultrafine February to April.xls')[1:-8]\n",
    "apr_3783['Date&Time']=apr_3783['Date&Time'].apply(lambda x: datetime.datetime.strptime(x, '%m/%d/%Y %H:%M %p'))\n",
    "\n",
    "#may-june      3783\n",
    "may_jun_3783=pd.read_csv('/Users/stella/Desktop/queens-data/TEOM_TSI 3783_May-June_2017.csv')[:-8]\n",
    "may_jun_3783 = may_jun_3783.rename(columns=may_jun_3783.iloc[1])\n",
    "may_jun_3783 = may_jun_3783[3:]\n",
    "may_jun_3783=may_jun_3783[['Date&Time','UF Aggregated Conc.']]\n",
    "may_jun_3783['Date&Time']=may_jun_3783['Date&Time'].apply(lambda x: datetime.datetime.strptime(x, '%m/%d/%Y %H:%M %p'))\n",
    "\n",
    "tsi_3783=pd.concat([apr_3783,may_jun_3783])\n",
    "tsi_3783.head()"
   ]
  },
  {
   "cell_type": "code",
   "execution_count": 141,
   "metadata": {
    "collapsed": false,
    "scrolled": true
   },
   "outputs": [
    {
     "data": {
      "text/html": [
       "<div>\n",
       "<table border=\"1\" class=\"dataframe\">\n",
       "  <thead>\n",
       "    <tr style=\"text-align: right;\">\n",
       "      <th></th>\n",
       "      <th>start</th>\n",
       "      <th>end</th>\n",
       "      <th>ch1</th>\n",
       "      <th>ch2</th>\n",
       "      <th>ch3</th>\n",
       "      <th>ch4</th>\n",
       "      <th>ch5</th>\n",
       "      <th>ch6</th>\n",
       "    </tr>\n",
       "  </thead>\n",
       "  <tbody>\n",
       "    <tr>\n",
       "      <th>0</th>\n",
       "      <td>2017-04-13 12:45:07</td>\n",
       "      <td>2017-04-13 12:59:37</td>\n",
       "      <td>8748.000</td>\n",
       "      <td>2974.000</td>\n",
       "      <td>81.000</td>\n",
       "      <td>73.000</td>\n",
       "      <td>254.000</td>\n",
       "      <td>17.000</td>\n",
       "    </tr>\n",
       "    <tr>\n",
       "      <th>1</th>\n",
       "      <td>2017-04-13 13:00:06</td>\n",
       "      <td>2017-04-13 13:14:36</td>\n",
       "      <td>9518.000</td>\n",
       "      <td>3887.000</td>\n",
       "      <td>216.000</td>\n",
       "      <td>39.000</td>\n",
       "      <td>218.000</td>\n",
       "      <td>15.000</td>\n",
       "    </tr>\n",
       "    <tr>\n",
       "      <th>2</th>\n",
       "      <td>2017-04-13 13:15:06</td>\n",
       "      <td>2017-04-13 13:29:36</td>\n",
       "      <td>10216.000</td>\n",
       "      <td>4318.000</td>\n",
       "      <td>215.000</td>\n",
       "      <td>95.000</td>\n",
       "      <td>313.000</td>\n",
       "      <td>1.000</td>\n",
       "    </tr>\n",
       "    <tr>\n",
       "      <th>3</th>\n",
       "      <td>2017-04-13 13:30:06</td>\n",
       "      <td>2017-04-13 13:44:36</td>\n",
       "      <td>11028.000</td>\n",
       "      <td>4295.000</td>\n",
       "      <td>232.000</td>\n",
       "      <td>205.000</td>\n",
       "      <td>399.000</td>\n",
       "      <td>0.000</td>\n",
       "    </tr>\n",
       "    <tr>\n",
       "      <th>4</th>\n",
       "      <td>2017-04-13 13:45:07</td>\n",
       "      <td>2017-04-13 13:59:37</td>\n",
       "      <td>11412.000</td>\n",
       "      <td>6271.000</td>\n",
       "      <td>650.000</td>\n",
       "      <td>0.000</td>\n",
       "      <td>115.000</td>\n",
       "      <td>51.000</td>\n",
       "    </tr>\n",
       "  </tbody>\n",
       "</table>\n",
       "</div>"
      ],
      "text/plain": [
       "0               start                 end        ch1       ch2      ch3  \\\n",
       "0 2017-04-13 12:45:07 2017-04-13 12:59:37   8748.000  2974.000   81.000   \n",
       "1 2017-04-13 13:00:06 2017-04-13 13:14:36   9518.000  3887.000  216.000   \n",
       "2 2017-04-13 13:15:06 2017-04-13 13:29:36  10216.000  4318.000  215.000   \n",
       "3 2017-04-13 13:30:06 2017-04-13 13:44:36  11028.000  4295.000  232.000   \n",
       "4 2017-04-13 13:45:07 2017-04-13 13:59:37  11412.000  6271.000  650.000   \n",
       "\n",
       "0      ch4      ch5     ch6  \n",
       "0   73.000  254.000  17.000  \n",
       "1   39.000  218.000  15.000  \n",
       "2   95.000  313.000   1.000  \n",
       "3  205.000  399.000   0.000  \n",
       "4    0.000  115.000  51.000  "
      ]
     },
     "execution_count": 141,
     "metadata": {},
     "output_type": "execute_result"
    }
   ],
   "source": [
    "#april         3031\n",
    "apr_3031=pd.read_csv('/Users/stella/Desktop/queens-data/TSI 3031 Particle Counter_20170413-april.TXT',delimiter='\\t',skiprows=4)\n",
    "apr_3031=apr_3031.reset_index()\n",
    "apr_3031.columns=apr_3031.iloc[0]\n",
    "apr_3031=apr_3031.iloc[1:].reset_index()\n",
    "apr_3031['start']=apr_3031['start'].apply(lambda x: parse(x))\n",
    "apr_3031['end']=apr_3031['end'].apply(lambda x: parse(x))\n",
    "apr_3031=apr_3031[['start','end','ch1','ch2','ch3','ch4','ch5','ch6']]\n",
    "\n",
    "#may-june      3031\n",
    "may_jun_3031=pd.read_csv('/Users/stella/Desktop/queens-data/TSI 3031_20170501.TXT',delimiter='\\t',skiprows=4)\n",
    "may_jun_3031=may_jun_3031.reset_index()\n",
    "may_jun_3031.columns=may_jun_3031.iloc[0]\n",
    "may_jun_3031=may_jun_3031.iloc[1:].reset_index()\n",
    "may_jun_3031['start']=may_jun_3031['start'].apply(lambda x: parse(x))\n",
    "may_jun_3031['end']=may_jun_3031['end'].apply(lambda x: parse(x))\n",
    "may_jun_3031=may_jun_3031[['start','end','ch1','ch2','ch3','ch4','ch5','ch6']]\n",
    "\n",
    "tsi_3031=pd.concat([apr_3031,may_jun_3031])\n",
    "tsi_3031.head()"
   ]
  },
  {
   "cell_type": "code",
   "execution_count": null,
   "metadata": {
    "collapsed": true
   },
   "outputs": [],
   "source": []
  },
  {
   "cell_type": "code",
   "execution_count": 142,
   "metadata": {
    "collapsed": false
   },
   "outputs": [
    {
     "data": {
      "text/html": [
       "<div>\n",
       "<table border=\"1\" class=\"dataframe\">\n",
       "  <thead>\n",
       "    <tr style=\"text-align: right;\">\n",
       "      <th></th>\n",
       "      <th>start</th>\n",
       "      <th>end</th>\n",
       "      <th>ch1</th>\n",
       "      <th>ch2</th>\n",
       "      <th>ch3</th>\n",
       "      <th>ch4</th>\n",
       "      <th>ch5</th>\n",
       "      <th>ch6</th>\n",
       "    </tr>\n",
       "  </thead>\n",
       "  <tbody>\n",
       "    <tr>\n",
       "      <th>0</th>\n",
       "      <td>2017-04-13 12:45:07</td>\n",
       "      <td>2017-04-13 12:59:37</td>\n",
       "      <td>8748.000</td>\n",
       "      <td>2974.000</td>\n",
       "      <td>81.000</td>\n",
       "      <td>73.000</td>\n",
       "      <td>254.000</td>\n",
       "      <td>17.000</td>\n",
       "    </tr>\n",
       "    <tr>\n",
       "      <th>1</th>\n",
       "      <td>2017-04-13 13:00:06</td>\n",
       "      <td>2017-04-13 13:14:36</td>\n",
       "      <td>9518.000</td>\n",
       "      <td>3887.000</td>\n",
       "      <td>216.000</td>\n",
       "      <td>39.000</td>\n",
       "      <td>218.000</td>\n",
       "      <td>15.000</td>\n",
       "    </tr>\n",
       "    <tr>\n",
       "      <th>2</th>\n",
       "      <td>2017-04-13 13:15:06</td>\n",
       "      <td>2017-04-13 13:29:36</td>\n",
       "      <td>10216.000</td>\n",
       "      <td>4318.000</td>\n",
       "      <td>215.000</td>\n",
       "      <td>95.000</td>\n",
       "      <td>313.000</td>\n",
       "      <td>1.000</td>\n",
       "    </tr>\n",
       "    <tr>\n",
       "      <th>3</th>\n",
       "      <td>2017-04-13 13:30:06</td>\n",
       "      <td>2017-04-13 13:44:36</td>\n",
       "      <td>11028.000</td>\n",
       "      <td>4295.000</td>\n",
       "      <td>232.000</td>\n",
       "      <td>205.000</td>\n",
       "      <td>399.000</td>\n",
       "      <td>0.000</td>\n",
       "    </tr>\n",
       "    <tr>\n",
       "      <th>4</th>\n",
       "      <td>2017-04-13 13:45:07</td>\n",
       "      <td>2017-04-13 13:59:37</td>\n",
       "      <td>11412.000</td>\n",
       "      <td>6271.000</td>\n",
       "      <td>650.000</td>\n",
       "      <td>0.000</td>\n",
       "      <td>115.000</td>\n",
       "      <td>51.000</td>\n",
       "    </tr>\n",
       "  </tbody>\n",
       "</table>\n",
       "</div>"
      ],
      "text/plain": [
       "0               start                 end        ch1       ch2      ch3  \\\n",
       "0 2017-04-13 12:45:07 2017-04-13 12:59:37   8748.000  2974.000   81.000   \n",
       "1 2017-04-13 13:00:06 2017-04-13 13:14:36   9518.000  3887.000  216.000   \n",
       "2 2017-04-13 13:15:06 2017-04-13 13:29:36  10216.000  4318.000  215.000   \n",
       "3 2017-04-13 13:30:06 2017-04-13 13:44:36  11028.000  4295.000  232.000   \n",
       "4 2017-04-13 13:45:07 2017-04-13 13:59:37  11412.000  6271.000  650.000   \n",
       "\n",
       "0      ch4      ch5     ch6  \n",
       "0   73.000  254.000  17.000  \n",
       "1   39.000  218.000  15.000  \n",
       "2   95.000  313.000   1.000  \n",
       "3  205.000  399.000   0.000  \n",
       "4    0.000  115.000  51.000  "
      ]
     },
     "execution_count": 142,
     "metadata": {},
     "output_type": "execute_result"
    }
   ],
   "source": [
    "tsi_3031.head()"
   ]
  },
  {
   "cell_type": "code",
   "execution_count": 143,
   "metadata": {
    "collapsed": false
   },
   "outputs": [
    {
     "data": {
      "text/html": [
       "<div>\n",
       "<table border=\"1\" class=\"dataframe\">\n",
       "  <thead>\n",
       "    <tr style=\"text-align: right;\">\n",
       "      <th></th>\n",
       "      <th>start</th>\n",
       "      <th>end</th>\n",
       "      <th>ch1</th>\n",
       "      <th>ch2</th>\n",
       "      <th>ch3</th>\n",
       "      <th>ch4</th>\n",
       "      <th>ch5</th>\n",
       "      <th>ch6</th>\n",
       "    </tr>\n",
       "  </thead>\n",
       "  <tbody>\n",
       "    <tr>\n",
       "      <th>5850</th>\n",
       "      <td>2017-06-30 22:45:07</td>\n",
       "      <td>2017-06-30 22:59:37</td>\n",
       "      <td>1384.000</td>\n",
       "      <td>1298.000</td>\n",
       "      <td>575.000</td>\n",
       "      <td>542.000</td>\n",
       "      <td>1066.000</td>\n",
       "      <td>163.000</td>\n",
       "    </tr>\n",
       "    <tr>\n",
       "      <th>5851</th>\n",
       "      <td>2017-06-30 23:00:06</td>\n",
       "      <td>2017-06-30 23:14:36</td>\n",
       "      <td>1136.000</td>\n",
       "      <td>1142.000</td>\n",
       "      <td>535.000</td>\n",
       "      <td>533.000</td>\n",
       "      <td>1056.000</td>\n",
       "      <td>171.000</td>\n",
       "    </tr>\n",
       "    <tr>\n",
       "      <th>5852</th>\n",
       "      <td>2017-06-30 23:15:07</td>\n",
       "      <td>2017-06-30 23:29:37</td>\n",
       "      <td>1099.000</td>\n",
       "      <td>1094.000</td>\n",
       "      <td>502.000</td>\n",
       "      <td>503.000</td>\n",
       "      <td>1061.000</td>\n",
       "      <td>172.000</td>\n",
       "    </tr>\n",
       "    <tr>\n",
       "      <th>5853</th>\n",
       "      <td>2017-06-30 23:30:06</td>\n",
       "      <td>2017-06-30 23:44:36</td>\n",
       "      <td>1934.000</td>\n",
       "      <td>2857.000</td>\n",
       "      <td>1325.000</td>\n",
       "      <td>776.000</td>\n",
       "      <td>996.000</td>\n",
       "      <td>205.000</td>\n",
       "    </tr>\n",
       "    <tr>\n",
       "      <th>5854</th>\n",
       "      <td>2017-06-30 23:45:07</td>\n",
       "      <td>2017-06-30 23:59:37</td>\n",
       "      <td>1322.000</td>\n",
       "      <td>1862.000</td>\n",
       "      <td>1013.000</td>\n",
       "      <td>730.000</td>\n",
       "      <td>1055.000</td>\n",
       "      <td>192.000</td>\n",
       "    </tr>\n",
       "  </tbody>\n",
       "</table>\n",
       "</div>"
      ],
      "text/plain": [
       "0                  start                 end       ch1       ch2       ch3  \\\n",
       "5850 2017-06-30 22:45:07 2017-06-30 22:59:37  1384.000  1298.000   575.000   \n",
       "5851 2017-06-30 23:00:06 2017-06-30 23:14:36  1136.000  1142.000   535.000   \n",
       "5852 2017-06-30 23:15:07 2017-06-30 23:29:37  1099.000  1094.000   502.000   \n",
       "5853 2017-06-30 23:30:06 2017-06-30 23:44:36  1934.000  2857.000  1325.000   \n",
       "5854 2017-06-30 23:45:07 2017-06-30 23:59:37  1322.000  1862.000  1013.000   \n",
       "\n",
       "0         ch4       ch5      ch6  \n",
       "5850  542.000  1066.000  163.000  \n",
       "5851  533.000  1056.000  171.000  \n",
       "5852  503.000  1061.000  172.000  \n",
       "5853  776.000   996.000  205.000  \n",
       "5854  730.000  1055.000  192.000  "
      ]
     },
     "execution_count": 143,
     "metadata": {},
     "output_type": "execute_result"
    }
   ],
   "source": [
    "tsi_3031.tail()"
   ]
  },
  {
   "cell_type": "code",
   "execution_count": 144,
   "metadata": {
    "collapsed": false
   },
   "outputs": [
    {
     "data": {
      "text/html": [
       "<div>\n",
       "<table border=\"1\" class=\"dataframe\">\n",
       "  <thead>\n",
       "    <tr style=\"text-align: right;\">\n",
       "      <th></th>\n",
       "      <th>Date&amp;Time</th>\n",
       "      <th>UF Aggregated Conc.</th>\n",
       "    </tr>\n",
       "  </thead>\n",
       "  <tbody>\n",
       "    <tr>\n",
       "      <th>1</th>\n",
       "      <td>2017-04-11 08:00:00</td>\n",
       "      <td>24268</td>\n",
       "    </tr>\n",
       "    <tr>\n",
       "      <th>2</th>\n",
       "      <td>2017-04-11 09:00:00</td>\n",
       "      <td>24445</td>\n",
       "    </tr>\n",
       "    <tr>\n",
       "      <th>3</th>\n",
       "      <td>2017-04-11 10:00:00</td>\n",
       "      <td>36088</td>\n",
       "    </tr>\n",
       "    <tr>\n",
       "      <th>4</th>\n",
       "      <td>2017-04-11 11:00:00</td>\n",
       "      <td>38883</td>\n",
       "    </tr>\n",
       "    <tr>\n",
       "      <th>5</th>\n",
       "      <td>2017-04-11 12:00:00</td>\n",
       "      <td>46482</td>\n",
       "    </tr>\n",
       "  </tbody>\n",
       "</table>\n",
       "</div>"
      ],
      "text/plain": [
       "            Date&Time UF Aggregated Conc.\n",
       "1 2017-04-11 08:00:00               24268\n",
       "2 2017-04-11 09:00:00               24445\n",
       "3 2017-04-11 10:00:00               36088\n",
       "4 2017-04-11 11:00:00               38883\n",
       "5 2017-04-11 12:00:00               46482"
      ]
     },
     "execution_count": 144,
     "metadata": {},
     "output_type": "execute_result"
    }
   ],
   "source": [
    "tsi_3783.head()"
   ]
  },
  {
   "cell_type": "code",
   "execution_count": 145,
   "metadata": {
    "collapsed": false
   },
   "outputs": [
    {
     "data": {
      "text/html": [
       "<div>\n",
       "<table border=\"1\" class=\"dataframe\">\n",
       "  <thead>\n",
       "    <tr style=\"text-align: right;\">\n",
       "      <th></th>\n",
       "      <th>Date&amp;Time</th>\n",
       "      <th>UF Aggregated Conc.</th>\n",
       "    </tr>\n",
       "  </thead>\n",
       "  <tbody>\n",
       "    <tr>\n",
       "      <th>87839</th>\n",
       "      <td>2017-06-30 11:56:00</td>\n",
       "      <td>8955</td>\n",
       "    </tr>\n",
       "    <tr>\n",
       "      <th>87840</th>\n",
       "      <td>2017-06-30 11:57:00</td>\n",
       "      <td>9130</td>\n",
       "    </tr>\n",
       "    <tr>\n",
       "      <th>87841</th>\n",
       "      <td>2017-06-30 11:58:00</td>\n",
       "      <td>9320</td>\n",
       "    </tr>\n",
       "    <tr>\n",
       "      <th>87842</th>\n",
       "      <td>2017-06-30 11:59:00</td>\n",
       "      <td>9440</td>\n",
       "    </tr>\n",
       "    <tr>\n",
       "      <th>87843</th>\n",
       "      <td>2017-07-01 12:00:00</td>\n",
       "      <td>9525</td>\n",
       "    </tr>\n",
       "  </tbody>\n",
       "</table>\n",
       "</div>"
      ],
      "text/plain": [
       "                Date&Time UF Aggregated Conc.\n",
       "87839 2017-06-30 11:56:00                8955\n",
       "87840 2017-06-30 11:57:00                9130\n",
       "87841 2017-06-30 11:58:00                9320\n",
       "87842 2017-06-30 11:59:00                9440\n",
       "87843 2017-07-01 12:00:00                9525"
      ]
     },
     "execution_count": 145,
     "metadata": {},
     "output_type": "execute_result"
    }
   ],
   "source": [
    "tsi_3783.tail()"
   ]
  },
  {
   "cell_type": "code",
   "execution_count": 146,
   "metadata": {
    "collapsed": false,
    "scrolled": true
   },
   "outputs": [
    {
     "ename": "ValueError",
     "evalue": "could not convert string to float: '---'",
     "output_type": "error",
     "traceback": [
      "\u001b[0;31m---------------------------------------------------------------------------\u001b[0m",
      "\u001b[0;31mValueError\u001b[0m                                Traceback (most recent call last)",
      "\u001b[0;32m<ipython-input-146-66c6148fac5b>\u001b[0m in \u001b[0;36m<module>\u001b[0;34m()\u001b[0m\n\u001b[0;32m----> 1\u001b[0;31m \u001b[0mplt\u001b[0m\u001b[0;34m.\u001b[0m\u001b[0mplot\u001b[0m\u001b[0;34m(\u001b[0m\u001b[0mtsi_3783\u001b[0m\u001b[0;34m[\u001b[0m\u001b[0;34m'Date&Time'\u001b[0m\u001b[0;34m]\u001b[0m\u001b[0;34m,\u001b[0m\u001b[0mtsi_3783\u001b[0m\u001b[0;34m[\u001b[0m\u001b[0;34m'UF Aggregated Conc.'\u001b[0m\u001b[0;34m]\u001b[0m\u001b[0;34m)\u001b[0m\u001b[0;34m\u001b[0m\u001b[0m\n\u001b[0m",
      "\u001b[0;32m/Users/stella/anaconda/lib/python3.5/site-packages/matplotlib/pyplot.py\u001b[0m in \u001b[0;36mplot\u001b[0;34m(*args, **kwargs)\u001b[0m\n\u001b[1;32m   3159\u001b[0m         \u001b[0max\u001b[0m\u001b[0;34m.\u001b[0m\u001b[0mhold\u001b[0m\u001b[0;34m(\u001b[0m\u001b[0mhold\u001b[0m\u001b[0;34m)\u001b[0m\u001b[0;34m\u001b[0m\u001b[0m\n\u001b[1;32m   3160\u001b[0m     \u001b[0;32mtry\u001b[0m\u001b[0;34m:\u001b[0m\u001b[0;34m\u001b[0m\u001b[0m\n\u001b[0;32m-> 3161\u001b[0;31m         \u001b[0mret\u001b[0m \u001b[0;34m=\u001b[0m \u001b[0max\u001b[0m\u001b[0;34m.\u001b[0m\u001b[0mplot\u001b[0m\u001b[0;34m(\u001b[0m\u001b[0;34m*\u001b[0m\u001b[0margs\u001b[0m\u001b[0;34m,\u001b[0m \u001b[0;34m**\u001b[0m\u001b[0mkwargs\u001b[0m\u001b[0;34m)\u001b[0m\u001b[0;34m\u001b[0m\u001b[0m\n\u001b[0m\u001b[1;32m   3162\u001b[0m     \u001b[0;32mfinally\u001b[0m\u001b[0;34m:\u001b[0m\u001b[0;34m\u001b[0m\u001b[0m\n\u001b[1;32m   3163\u001b[0m         \u001b[0max\u001b[0m\u001b[0;34m.\u001b[0m\u001b[0mhold\u001b[0m\u001b[0;34m(\u001b[0m\u001b[0mwashold\u001b[0m\u001b[0;34m)\u001b[0m\u001b[0;34m\u001b[0m\u001b[0m\n",
      "\u001b[0;32m/Users/stella/anaconda/lib/python3.5/site-packages/matplotlib/__init__.py\u001b[0m in \u001b[0;36minner\u001b[0;34m(ax, *args, **kwargs)\u001b[0m\n\u001b[1;32m   1817\u001b[0m                     warnings.warn(msg % (label_namer, func.__name__),\n\u001b[1;32m   1818\u001b[0m                                   RuntimeWarning, stacklevel=2)\n\u001b[0;32m-> 1819\u001b[0;31m             \u001b[0;32mreturn\u001b[0m \u001b[0mfunc\u001b[0m\u001b[0;34m(\u001b[0m\u001b[0max\u001b[0m\u001b[0;34m,\u001b[0m \u001b[0;34m*\u001b[0m\u001b[0margs\u001b[0m\u001b[0;34m,\u001b[0m \u001b[0;34m**\u001b[0m\u001b[0mkwargs\u001b[0m\u001b[0;34m)\u001b[0m\u001b[0;34m\u001b[0m\u001b[0m\n\u001b[0m\u001b[1;32m   1820\u001b[0m         \u001b[0mpre_doc\u001b[0m \u001b[0;34m=\u001b[0m \u001b[0minner\u001b[0m\u001b[0;34m.\u001b[0m\u001b[0m__doc__\u001b[0m\u001b[0;34m\u001b[0m\u001b[0m\n\u001b[1;32m   1821\u001b[0m         \u001b[0;32mif\u001b[0m \u001b[0mpre_doc\u001b[0m \u001b[0;32mis\u001b[0m \u001b[0;32mNone\u001b[0m\u001b[0;34m:\u001b[0m\u001b[0;34m\u001b[0m\u001b[0m\n",
      "\u001b[0;32m/Users/stella/anaconda/lib/python3.5/site-packages/matplotlib/axes/_axes.py\u001b[0m in \u001b[0;36mplot\u001b[0;34m(self, *args, **kwargs)\u001b[0m\n\u001b[1;32m   1381\u001b[0m \u001b[0;34m\u001b[0m\u001b[0m\n\u001b[1;32m   1382\u001b[0m         \u001b[0;32mfor\u001b[0m \u001b[0mline\u001b[0m \u001b[0;32min\u001b[0m \u001b[0mself\u001b[0m\u001b[0;34m.\u001b[0m\u001b[0m_get_lines\u001b[0m\u001b[0;34m(\u001b[0m\u001b[0;34m*\u001b[0m\u001b[0margs\u001b[0m\u001b[0;34m,\u001b[0m \u001b[0;34m**\u001b[0m\u001b[0mkwargs\u001b[0m\u001b[0;34m)\u001b[0m\u001b[0;34m:\u001b[0m\u001b[0;34m\u001b[0m\u001b[0m\n\u001b[0;32m-> 1383\u001b[0;31m             \u001b[0mself\u001b[0m\u001b[0;34m.\u001b[0m\u001b[0madd_line\u001b[0m\u001b[0;34m(\u001b[0m\u001b[0mline\u001b[0m\u001b[0;34m)\u001b[0m\u001b[0;34m\u001b[0m\u001b[0m\n\u001b[0m\u001b[1;32m   1384\u001b[0m             \u001b[0mlines\u001b[0m\u001b[0;34m.\u001b[0m\u001b[0mappend\u001b[0m\u001b[0;34m(\u001b[0m\u001b[0mline\u001b[0m\u001b[0;34m)\u001b[0m\u001b[0;34m\u001b[0m\u001b[0m\n\u001b[1;32m   1385\u001b[0m \u001b[0;34m\u001b[0m\u001b[0m\n",
      "\u001b[0;32m/Users/stella/anaconda/lib/python3.5/site-packages/matplotlib/axes/_base.py\u001b[0m in \u001b[0;36madd_line\u001b[0;34m(self, line)\u001b[0m\n\u001b[1;32m   1701\u001b[0m             \u001b[0mline\u001b[0m\u001b[0;34m.\u001b[0m\u001b[0mset_clip_path\u001b[0m\u001b[0;34m(\u001b[0m\u001b[0mself\u001b[0m\u001b[0;34m.\u001b[0m\u001b[0mpatch\u001b[0m\u001b[0;34m)\u001b[0m\u001b[0;34m\u001b[0m\u001b[0m\n\u001b[1;32m   1702\u001b[0m \u001b[0;34m\u001b[0m\u001b[0m\n\u001b[0;32m-> 1703\u001b[0;31m         \u001b[0mself\u001b[0m\u001b[0;34m.\u001b[0m\u001b[0m_update_line_limits\u001b[0m\u001b[0;34m(\u001b[0m\u001b[0mline\u001b[0m\u001b[0;34m)\u001b[0m\u001b[0;34m\u001b[0m\u001b[0m\n\u001b[0m\u001b[1;32m   1704\u001b[0m         \u001b[0;32mif\u001b[0m \u001b[0;32mnot\u001b[0m \u001b[0mline\u001b[0m\u001b[0;34m.\u001b[0m\u001b[0mget_label\u001b[0m\u001b[0;34m(\u001b[0m\u001b[0;34m)\u001b[0m\u001b[0;34m:\u001b[0m\u001b[0;34m\u001b[0m\u001b[0m\n\u001b[1;32m   1705\u001b[0m             \u001b[0mline\u001b[0m\u001b[0;34m.\u001b[0m\u001b[0mset_label\u001b[0m\u001b[0;34m(\u001b[0m\u001b[0;34m'_line%d'\u001b[0m \u001b[0;34m%\u001b[0m \u001b[0mlen\u001b[0m\u001b[0;34m(\u001b[0m\u001b[0mself\u001b[0m\u001b[0;34m.\u001b[0m\u001b[0mlines\u001b[0m\u001b[0;34m)\u001b[0m\u001b[0;34m)\u001b[0m\u001b[0;34m\u001b[0m\u001b[0m\n",
      "\u001b[0;32m/Users/stella/anaconda/lib/python3.5/site-packages/matplotlib/axes/_base.py\u001b[0m in \u001b[0;36m_update_line_limits\u001b[0;34m(self, line)\u001b[0m\n\u001b[1;32m   1723\u001b[0m         \u001b[0mFigures\u001b[0m \u001b[0mout\u001b[0m \u001b[0mthe\u001b[0m \u001b[0mdata\u001b[0m \u001b[0mlimit\u001b[0m \u001b[0mof\u001b[0m \u001b[0mthe\u001b[0m \u001b[0mgiven\u001b[0m \u001b[0mline\u001b[0m\u001b[0;34m,\u001b[0m \u001b[0mupdating\u001b[0m \u001b[0mself\u001b[0m\u001b[0;34m.\u001b[0m\u001b[0mdataLim\u001b[0m\u001b[0;34m.\u001b[0m\u001b[0;34m\u001b[0m\u001b[0m\n\u001b[1;32m   1724\u001b[0m         \"\"\"\n\u001b[0;32m-> 1725\u001b[0;31m         \u001b[0mpath\u001b[0m \u001b[0;34m=\u001b[0m \u001b[0mline\u001b[0m\u001b[0;34m.\u001b[0m\u001b[0mget_path\u001b[0m\u001b[0;34m(\u001b[0m\u001b[0;34m)\u001b[0m\u001b[0;34m\u001b[0m\u001b[0m\n\u001b[0m\u001b[1;32m   1726\u001b[0m         \u001b[0;32mif\u001b[0m \u001b[0mpath\u001b[0m\u001b[0;34m.\u001b[0m\u001b[0mvertices\u001b[0m\u001b[0;34m.\u001b[0m\u001b[0msize\u001b[0m \u001b[0;34m==\u001b[0m \u001b[0;36m0\u001b[0m\u001b[0;34m:\u001b[0m\u001b[0;34m\u001b[0m\u001b[0m\n\u001b[1;32m   1727\u001b[0m             \u001b[0;32mreturn\u001b[0m\u001b[0;34m\u001b[0m\u001b[0m\n",
      "\u001b[0;32m/Users/stella/anaconda/lib/python3.5/site-packages/matplotlib/lines.py\u001b[0m in \u001b[0;36mget_path\u001b[0;34m(self)\u001b[0m\n\u001b[1;32m    936\u001b[0m         \"\"\"\n\u001b[1;32m    937\u001b[0m         \u001b[0;32mif\u001b[0m \u001b[0mself\u001b[0m\u001b[0;34m.\u001b[0m\u001b[0m_invalidy\u001b[0m \u001b[0;32mor\u001b[0m \u001b[0mself\u001b[0m\u001b[0;34m.\u001b[0m\u001b[0m_invalidx\u001b[0m\u001b[0;34m:\u001b[0m\u001b[0;34m\u001b[0m\u001b[0m\n\u001b[0;32m--> 938\u001b[0;31m             \u001b[0mself\u001b[0m\u001b[0;34m.\u001b[0m\u001b[0mrecache\u001b[0m\u001b[0;34m(\u001b[0m\u001b[0;34m)\u001b[0m\u001b[0;34m\u001b[0m\u001b[0m\n\u001b[0m\u001b[1;32m    939\u001b[0m         \u001b[0;32mreturn\u001b[0m \u001b[0mself\u001b[0m\u001b[0;34m.\u001b[0m\u001b[0m_path\u001b[0m\u001b[0;34m\u001b[0m\u001b[0m\n\u001b[1;32m    940\u001b[0m \u001b[0;34m\u001b[0m\u001b[0m\n",
      "\u001b[0;32m/Users/stella/anaconda/lib/python3.5/site-packages/matplotlib/lines.py\u001b[0m in \u001b[0;36mrecache\u001b[0;34m(self, always)\u001b[0m\n\u001b[1;32m    632\u001b[0m                 \u001b[0my\u001b[0m \u001b[0;34m=\u001b[0m \u001b[0mma\u001b[0m\u001b[0;34m.\u001b[0m\u001b[0masarray\u001b[0m\u001b[0;34m(\u001b[0m\u001b[0myconv\u001b[0m\u001b[0;34m,\u001b[0m \u001b[0mnp\u001b[0m\u001b[0;34m.\u001b[0m\u001b[0mfloat_\u001b[0m\u001b[0;34m)\u001b[0m\u001b[0;34m.\u001b[0m\u001b[0mfilled\u001b[0m\u001b[0;34m(\u001b[0m\u001b[0mnp\u001b[0m\u001b[0;34m.\u001b[0m\u001b[0mnan\u001b[0m\u001b[0;34m)\u001b[0m\u001b[0;34m\u001b[0m\u001b[0m\n\u001b[1;32m    633\u001b[0m             \u001b[0;32melse\u001b[0m\u001b[0;34m:\u001b[0m\u001b[0;34m\u001b[0m\u001b[0m\n\u001b[0;32m--> 634\u001b[0;31m                 \u001b[0my\u001b[0m \u001b[0;34m=\u001b[0m \u001b[0mnp\u001b[0m\u001b[0;34m.\u001b[0m\u001b[0masarray\u001b[0m\u001b[0;34m(\u001b[0m\u001b[0myconv\u001b[0m\u001b[0;34m,\u001b[0m \u001b[0mnp\u001b[0m\u001b[0;34m.\u001b[0m\u001b[0mfloat_\u001b[0m\u001b[0;34m)\u001b[0m\u001b[0;34m\u001b[0m\u001b[0m\n\u001b[0m\u001b[1;32m    635\u001b[0m             \u001b[0my\u001b[0m \u001b[0;34m=\u001b[0m \u001b[0my\u001b[0m\u001b[0;34m.\u001b[0m\u001b[0mravel\u001b[0m\u001b[0;34m(\u001b[0m\u001b[0;34m)\u001b[0m\u001b[0;34m\u001b[0m\u001b[0m\n\u001b[1;32m    636\u001b[0m         \u001b[0;32melse\u001b[0m\u001b[0;34m:\u001b[0m\u001b[0;34m\u001b[0m\u001b[0m\n",
      "\u001b[0;32m/Users/stella/anaconda/lib/python3.5/site-packages/numpy/core/numeric.py\u001b[0m in \u001b[0;36masarray\u001b[0;34m(a, dtype, order)\u001b[0m\n\u001b[1;32m    480\u001b[0m \u001b[0;34m\u001b[0m\u001b[0m\n\u001b[1;32m    481\u001b[0m     \"\"\"\n\u001b[0;32m--> 482\u001b[0;31m     \u001b[0;32mreturn\u001b[0m \u001b[0marray\u001b[0m\u001b[0;34m(\u001b[0m\u001b[0ma\u001b[0m\u001b[0;34m,\u001b[0m \u001b[0mdtype\u001b[0m\u001b[0;34m,\u001b[0m \u001b[0mcopy\u001b[0m\u001b[0;34m=\u001b[0m\u001b[0;32mFalse\u001b[0m\u001b[0;34m,\u001b[0m \u001b[0morder\u001b[0m\u001b[0;34m=\u001b[0m\u001b[0morder\u001b[0m\u001b[0;34m)\u001b[0m\u001b[0;34m\u001b[0m\u001b[0m\n\u001b[0m\u001b[1;32m    483\u001b[0m \u001b[0;34m\u001b[0m\u001b[0m\n\u001b[1;32m    484\u001b[0m \u001b[0;32mdef\u001b[0m \u001b[0masanyarray\u001b[0m\u001b[0;34m(\u001b[0m\u001b[0ma\u001b[0m\u001b[0;34m,\u001b[0m \u001b[0mdtype\u001b[0m\u001b[0;34m=\u001b[0m\u001b[0;32mNone\u001b[0m\u001b[0;34m,\u001b[0m \u001b[0morder\u001b[0m\u001b[0;34m=\u001b[0m\u001b[0;32mNone\u001b[0m\u001b[0;34m)\u001b[0m\u001b[0;34m:\u001b[0m\u001b[0;34m\u001b[0m\u001b[0m\n",
      "\u001b[0;31mValueError\u001b[0m: could not convert string to float: '---'"
     ]
    },
    {
     "data": {
      "image/png": "[encoded data removed]",
      "text/plain": [
       "<matplotlib.figure.Figure at 0x129036cf8>"
      ]
     },
     "metadata": {},
     "output_type": "display_data"
    }
   ],
   "source": [
    "plt.plot(tsi_3783['Date&Time'],tsi_3783['UF Aggregated Conc.'])"
   ]
  },
  {
   "cell_type": "code",
   "execution_count": null,
   "metadata": {
    "collapsed": false
   },
   "outputs": [],
   "source": [
    "list(tsi_3783['Date&Time'])"
   ]
  },
  {
   "cell_type": "code",
   "execution_count": null,
   "metadata": {
    "collapsed": true
   },
   "outputs": [],
   "source": []
  },
  {
   "cell_type": "code",
   "execution_count": null,
   "metadata": {
    "collapsed": false
   },
   "outputs": [],
   "source": []
  },
  {
   "cell_type": "code",
   "execution_count": null,
   "metadata": {
    "collapsed": true
   },
   "outputs": [],
   "source": [
    "peg=pegasor[pegasor['time']>datetime.date(2017,2,1)].reset_index()\n",
    "del peg['index']"
   ]
  },
  {
   "cell_type": "code",
   "execution_count": null,
   "metadata": {
    "collapsed": false
   },
   "outputs": [],
   "source": [
    "peg=peg[peg>0]"
   ]
  },
  {
   "cell_type": "code",
   "execution_count": null,
   "metadata": {
    "collapsed": true
   },
   "outputs": [],
   "source": [
    "times=pd.DatetimeIndex(peg.time)"
   ]
  },
  {
   "cell_type": "code",
   "execution_count": null,
   "metadata": {
    "collapsed": false
   },
   "outputs": [],
   "source": [
    "peg_grouped=peg.groupby([times.month, times.day]).mean().reset_index()"
   ]
  },
  {
   "cell_type": "code",
   "execution_count": null,
   "metadata": {
    "collapsed": true
   },
   "outputs": [],
   "source": []
  },
  {
   "cell_type": "code",
   "execution_count": null,
   "metadata": {
    "collapsed": true
   },
   "outputs": [],
   "source": [
    "peg_grouped=peg_grouped.rename(columns={'level_0':'month','level_1':'day'})"
   ]
  },
  {
   "cell_type": "code",
   "execution_count": null,
   "metadata": {
    "collapsed": false
   },
   "outputs": [],
   "source": [
    "peg_grouped['year']=2017"
   ]
  },
  {
   "cell_type": "code",
   "execution_count": null,
   "metadata": {
    "collapsed": true
   },
   "outputs": [],
   "source": [
    "peg_grouped['date']=pd.to_datetime(peg_grouped[['year','month','day']])"
   ]
  },
  {
   "cell_type": "code",
   "execution_count": null,
   "metadata": {
    "collapsed": false
   },
   "outputs": [],
   "source": [
    "del peg_grouped['month'], peg_grouped['day'], peg_grouped['year']"
   ]
  },
  {
   "cell_type": "code",
   "execution_count": null,
   "metadata": {
    "collapsed": false
   },
   "outputs": [],
   "source": [
    "peg_grouped.head()"
   ]
  },
  {
   "cell_type": "code",
   "execution_count": null,
   "metadata": {
    "collapsed": false
   },
   "outputs": [],
   "source": [
    "plt.plot(peg_grouped['date'],peg_grouped['pm25-1'])\n",
    "plt.plot(peg_grouped['date'],peg_grouped['pm25-2'])\n",
    "plt.legend()\n",
    "plt.title('Queens - PM2.5')"
   ]
  },
  {
   "cell_type": "code",
   "execution_count": null,
   "metadata": {
    "collapsed": false
   },
   "outputs": [],
   "source": [
    "plt.plot(peg_grouped['date'],peg_grouped['pn-1'])\n",
    "plt.plot(peg_grouped['date'],peg_grouped['pn-2'])"
   ]
  },
  {
   "cell_type": "code",
   "execution_count": null,
   "metadata": {
    "collapsed": true
   },
   "outputs": [],
   "source": []
  },
  {
   "cell_type": "code",
   "execution_count": null,
   "metadata": {
    "collapsed": true
   },
   "outputs": [],
   "source": []
  },
  {
   "cell_type": "code",
   "execution_count": null,
   "metadata": {
    "collapsed": true
   },
   "outputs": [],
   "source": []
  },
  {
   "cell_type": "code",
   "execution_count": null,
   "metadata": {
    "collapsed": false,
    "scrolled": true
   },
   "outputs": [],
   "source": []
  },
  {
   "cell_type": "code",
   "execution_count": null,
   "metadata": {
    "collapsed": false
   },
   "outputs": [],
   "source": [
    "plt.plot(peg_grouped['date'],peg_grouped['ldsa-1'])\n",
    "plt.plot(peg_grouped['date'],peg_grouped['ldsa-2'])\n",
    "plt.legend()\n",
    "plt.title('Queens - LDSA')"
   ]
  },
  {
   "cell_type": "code",
   "execution_count": null,
   "metadata": {
    "collapsed": false
   },
   "outputs": [],
   "source": [
    "x=peg_grouped['ldsa-1']\n",
    "y=peg_grouped['ldsa-2']\n",
    "slope, intercept, r_value, p_value, std_err = stats.linregress(x,y)\n",
    "print(\"r-squared:\", r_value**2)"
   ]
  },
  {
   "cell_type": "code",
   "execution_count": null,
   "metadata": {
    "collapsed": false
   },
   "outputs": [],
   "source": [
    "x=peg_grouped['i-ldsa']\n",
    "y=peg_grouped['ldsa-2']\n",
    "slope, intercept, r_value, p_value, std_err = stats.linregress(x,y)\n",
    "print(\"r-squared:\", r_value**2)"
   ]
  },
  {
   "cell_type": "code",
   "execution_count": null,
   "metadata": {
    "collapsed": false
   },
   "outputs": [],
   "source": [
    "plt.plot(peg_grouped['date'],peg_grouped['i-ldsa'])\n",
    "plt.plot(peg_grouped['date'],peg_grouped['ldsa-1'])\n",
    "plt.plot(peg_grouped['date'],peg_grouped['ldsa-2'])\n",
    "plt.legend()\n",
    "plt.title('Queens - Indoor & Outdoor')"
   ]
  },
  {
   "cell_type": "code",
   "execution_count": null,
   "metadata": {
    "collapsed": false
   },
   "outputs": [],
   "source": [
    "plt.plot(peg_grouped['date'],peg_grouped['i-ldsa'])\n",
    "plt.plot(peg_grouped['date'],peg_grouped['i-pm25'])\n",
    "#plt.plot(peg_grouped['date'],peg_grouped['i-pn'])\n",
    "plt.title('Queens - Indoor')\n",
    "plt.legend()"
   ]
  },
  {
   "cell_type": "code",
   "execution_count": null,
   "metadata": {
    "collapsed": true
   },
   "outputs": [],
   "source": []
  },
  {
   "cell_type": "code",
   "execution_count": null,
   "metadata": {
    "collapsed": true
   },
   "outputs": [],
   "source": []
  },
  {
   "cell_type": "code",
   "execution_count": null,
   "metadata": {
    "collapsed": true
   },
   "outputs": [],
   "source": []
  },
  {
   "cell_type": "code",
   "execution_count": null,
   "metadata": {
    "collapsed": true
   },
   "outputs": [],
   "source": []
  },
  {
   "cell_type": "code",
   "execution_count": null,
   "metadata": {
    "collapsed": true
   },
   "outputs": [],
   "source": []
  },
  {
   "cell_type": "code",
   "execution_count": null,
   "metadata": {
    "collapsed": true
   },
   "outputs": [],
   "source": []
  }
 ],
 "metadata": {
  "anaconda-cloud": {},
  "kernelspec": {
   "display_name": "Python [default]",
   "language": "python",
   "name": "python3"
  },
  "language_info": {
   "codemirror_mode": {
    "name": "ipython",
    "version": 3
   },
   "file_extension": ".py",
   "mimetype": "text/x-python",
   "name": "python",
   "nbconvert_exporter": "python",
   "pygments_lexer": "ipython3",
   "version": "3.5.2"
  }
 },
 "nbformat": 4,
 "nbformat_minor": 1
}
