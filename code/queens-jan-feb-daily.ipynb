{
 "cells": [
  {
   "cell_type": "code",
   "execution_count": 407,
   "metadata": {
    "collapsed": false
   },
   "outputs": [
    {
     "data": {
      "image/png": "[encoded data removed]",
      "text/plain": [
       "<matplotlib.figure.Figure at 0x11b13d550>"
      ]
     },
     "metadata": {},
     "output_type": "display_data"
    }
   ],
   "source": [
    "import pandas as pd\n",
    "import numpy as np\n",
    "from __future__ import division\n",
    "import calendar\n",
    "import time\n",
    "import datetime\n",
    "from datetime import date, timedelta\n",
    "import matplotlib.pyplot as plt\n",
    "%matplotlib inline\n",
    "import seaborn as sns\n",
    "from scipy import stats\n",
    "from dateutil.parser import parse\n",
    "colorz=sns.color_palette(\"husl\", 8)\n",
    "sns.palplot(sns.color_palette(\"husl\", 8))"
   ]
  },
  {
   "cell_type": "code",
   "execution_count": 393,
   "metadata": {
    "collapsed": false
   },
   "outputs": [],
   "source": [
    "# Queens data from January - February\n",
    "jan=pd.read_excel('/Users/stella/Desktop/data/Particulate Data.xls')[1:]\n",
    "feb=pd.read_excel('/Users/stella/Desktop/data/Particle Data_February 2017.xls')[1:]"
   ]
  },
  {
   "cell_type": "code",
   "execution_count": 394,
   "metadata": {
    "collapsed": true
   },
   "outputs": [],
   "source": [
    "del jan['Unnamed: 2'], jan['Unnamed: 4'], jan['Unnamed: 6'], jan['Unnamed: 8'], jan['Unnamed: 10']\n",
    "del feb['Unnamed: 2'], feb['Unnamed: 4'], feb['Unnamed: 6'], feb['Unnamed: 8'], feb['Unnamed: 10']"
   ]
  },
  {
   "cell_type": "code",
   "execution_count": 395,
   "metadata": {
    "collapsed": true
   },
   "outputs": [],
   "source": [
    "jan=jan.rename(index=str, columns={\"Station: Queens College  Periodically: 1/1/2017 12:00 AM-2/13/2017 4:00 PM  Type: AVG 1 Min. [1 Min.]\":\"Datetime\",\n",
    "                                   \"Unnamed: 1\":\"PM2.5_MC (ug/m3)\",\n",
    "                                   \"Unnamed: 3\":\"PMcrs_MC (ug/m3)\",\n",
    "                                   \"Unnamed: 5\":\"PM10_MC (ug/m3)\",\n",
    "                                   \"Unnamed: 7\":\"Ultrafine (#/cm3)\",\n",
    "                                   \"Unnamed: 9\":\"PM2.5_FEM_MC (ug/m3)\"\n",
    "                                  })"
   ]
  },
  {
   "cell_type": "code",
   "execution_count": 396,
   "metadata": {
    "collapsed": true
   },
   "outputs": [],
   "source": [
    "feb=feb.rename(index=str, columns={\"SiteReport - Site Queens College Report : TimeBeginning\":\"Datetime\",\n",
    "                                   \"Unnamed: 1\":\"PM2.5_MC (ug/m3)\",\n",
    "                                   \"Unnamed: 3\":\"PM2.5_FEM_MC (ug/m3)\",\n",
    "                                   \"Unnamed: 5\":\"PMcrs_MC (ug/m3)\",\n",
    "                                   \"Unnamed: 7\":\"PM10_MC (ug/m3)\",\n",
    "                                   \"Unnamed: 9\":\"Ultrafine (#/cm3)\"\n",
    "                                  })"
   ]
  },
  {
   "cell_type": "code",
   "execution_count": 397,
   "metadata": {
    "collapsed": true
   },
   "outputs": [],
   "source": [
    "jan=jan[3:].reset_index()\n",
    "feb=feb[2:-8].reset_index()\n",
    "del jan['index'], feb['index']"
   ]
  },
  {
   "cell_type": "code",
   "execution_count": 398,
   "metadata": {
    "collapsed": true
   },
   "outputs": [],
   "source": [
    "jf=pd.concat([jan,feb]).reset_index()\n",
    "del jf['index']"
   ]
  },
  {
   "cell_type": "code",
   "execution_count": 399,
   "metadata": {
    "collapsed": true
   },
   "outputs": [],
   "source": [
    "jf['Datetime']=jf['Datetime'].apply(lambda x: parse(x))"
   ]
  },
  {
   "cell_type": "code",
   "execution_count": 400,
   "metadata": {
    "collapsed": false
   },
   "outputs": [],
   "source": [
    "del jf['PM10_MC (ug/m3)'],jf['PMcrs_MC (ug/m3)']"
   ]
  },
  {
   "cell_type": "code",
   "execution_count": 401,
   "metadata": {
    "collapsed": false
   },
   "outputs": [],
   "source": [
    "jf=jf[(jf['PM2.5_FEM_MC (ug/m3)'].apply(lambda x: type(x)!=str)) &\n",
    "(jf['PM2.5_MC (ug/m3)'].apply(lambda x: type(x)!=str)) &\n",
    "(jf['Ultrafine (#/cm3)'].apply(lambda x: type(x)!=str))]"
   ]
  },
  {
   "cell_type": "code",
   "execution_count": null,
   "metadata": {
    "collapsed": true
   },
   "outputs": [],
   "source": []
  },
  {
   "cell_type": "code",
   "execution_count": 402,
   "metadata": {
    "collapsed": false
   },
   "outputs": [
    {
     "data": {
      "text/html": [
       "<div>\n",
       "<table border=\"1\" class=\"dataframe\">\n",
       "  <thead>\n",
       "    <tr style=\"text-align: right;\">\n",
       "      <th></th>\n",
       "      <th>Datetime</th>\n",
       "      <th>PM2.5_FEM_MC (ug/m3)</th>\n",
       "      <th>PM2.5_MC (ug/m3)</th>\n",
       "      <th>Ultrafine (#/cm3)</th>\n",
       "    </tr>\n",
       "  </thead>\n",
       "  <tbody>\n",
       "    <tr>\n",
       "      <th>0</th>\n",
       "      <td>2017-01-01 00:00:00</td>\n",
       "      <td>3</td>\n",
       "      <td>3.7</td>\n",
       "      <td>8270</td>\n",
       "    </tr>\n",
       "    <tr>\n",
       "      <th>1</th>\n",
       "      <td>2017-01-01 00:01:00</td>\n",
       "      <td>3</td>\n",
       "      <td>3.7</td>\n",
       "      <td>8450</td>\n",
       "    </tr>\n",
       "    <tr>\n",
       "      <th>2</th>\n",
       "      <td>2017-01-01 00:02:00</td>\n",
       "      <td>3</td>\n",
       "      <td>3.7</td>\n",
       "      <td>9620</td>\n",
       "    </tr>\n",
       "    <tr>\n",
       "      <th>3</th>\n",
       "      <td>2017-01-01 00:03:00</td>\n",
       "      <td>3</td>\n",
       "      <td>3.7</td>\n",
       "      <td>9670</td>\n",
       "    </tr>\n",
       "    <tr>\n",
       "      <th>4</th>\n",
       "      <td>2017-01-01 00:04:00</td>\n",
       "      <td>3</td>\n",
       "      <td>3.7</td>\n",
       "      <td>8430</td>\n",
       "    </tr>\n",
       "  </tbody>\n",
       "</table>\n",
       "</div>"
      ],
      "text/plain": [
       "             Datetime PM2.5_FEM_MC (ug/m3) PM2.5_MC (ug/m3) Ultrafine (#/cm3)\n",
       "0 2017-01-01 00:00:00                    3              3.7              8270\n",
       "1 2017-01-01 00:01:00                    3              3.7              8450\n",
       "2 2017-01-01 00:02:00                    3              3.7              9620\n",
       "3 2017-01-01 00:03:00                    3              3.7              9670\n",
       "4 2017-01-01 00:04:00                    3              3.7              8430"
      ]
     },
     "execution_count": 402,
     "metadata": {},
     "output_type": "execute_result"
    }
   ],
   "source": [
    "jf.head()"
   ]
  },
  {
   "cell_type": "code",
   "execution_count": 403,
   "metadata": {
    "collapsed": true
   },
   "outputs": [],
   "source": [
    "test=jf.copy(False)"
   ]
  },
  {
   "cell_type": "code",
   "execution_count": 404,
   "metadata": {
    "collapsed": false
   },
   "outputs": [],
   "source": [
    "test=test.reset_index()\n",
    "test['month']=test['Datetime'].apply(lambda x: x.month)\n",
    "test['day']=test['Datetime'].apply(lambda x: x.day)"
   ]
  },
  {
   "cell_type": "code",
   "execution_count": 405,
   "metadata": {
    "collapsed": false
   },
   "outputs": [],
   "source": [
    "test2=test.groupby([test['month'],test['day']]).mean()"
   ]
  },
  {
   "cell_type": "code",
   "execution_count": 406,
   "metadata": {
    "collapsed": false
   },
   "outputs": [
    {
     "ename": "KeyError",
     "evalue": "'PM2.5_FEM_MC (ug/m3)'",
     "output_type": "error",
     "traceback": [
      "\u001b[0;31m---------------------------------------------------------------------------\u001b[0m",
      "\u001b[0;31mKeyError\u001b[0m                                  Traceback (most recent call last)",
      "\u001b[0;32m/Users/stella/anaconda/lib/python3.5/site-packages/pandas/indexes/base.py\u001b[0m in \u001b[0;36mget_loc\u001b[0;34m(self, key, method, tolerance)\u001b[0m\n\u001b[1;32m   1944\u001b[0m             \u001b[0;32mtry\u001b[0m\u001b[0;34m:\u001b[0m\u001b[0;34m\u001b[0m\u001b[0m\n\u001b[0;32m-> 1945\u001b[0;31m                 \u001b[0;32mreturn\u001b[0m \u001b[0mself\u001b[0m\u001b[0;34m.\u001b[0m\u001b[0m_engine\u001b[0m\u001b[0;34m.\u001b[0m\u001b[0mget_loc\u001b[0m\u001b[0;34m(\u001b[0m\u001b[0mkey\u001b[0m\u001b[0;34m)\u001b[0m\u001b[0;34m\u001b[0m\u001b[0m\n\u001b[0m\u001b[1;32m   1946\u001b[0m             \u001b[0;32mexcept\u001b[0m \u001b[0mKeyError\u001b[0m\u001b[0;34m:\u001b[0m\u001b[0;34m\u001b[0m\u001b[0m\n",
      "\u001b[0;32mpandas/index.pyx\u001b[0m in \u001b[0;36mpandas.index.IndexEngine.get_loc (pandas/index.c:4154)\u001b[0;34m()\u001b[0m\n",
      "\u001b[0;32mpandas/index.pyx\u001b[0m in \u001b[0;36mpandas.index.IndexEngine.get_loc (pandas/index.c:4018)\u001b[0;34m()\u001b[0m\n",
      "\u001b[0;32mpandas/hashtable.pyx\u001b[0m in \u001b[0;36mpandas.hashtable.PyObjectHashTable.get_item (pandas/hashtable.c:12368)\u001b[0;34m()\u001b[0m\n",
      "\u001b[0;32mpandas/hashtable.pyx\u001b[0m in \u001b[0;36mpandas.hashtable.PyObjectHashTable.get_item (pandas/hashtable.c:12322)\u001b[0;34m()\u001b[0m\n",
      "\u001b[0;31mKeyError\u001b[0m: 'PM2.5_FEM_MC (ug/m3)'",
      "\nDuring handling of the above exception, another exception occurred:\n",
      "\u001b[0;31mKeyError\u001b[0m                                  Traceback (most recent call last)",
      "\u001b[0;32m<ipython-input-406-0733f39dc7fd>\u001b[0m in \u001b[0;36m<module>\u001b[0;34m()\u001b[0m\n\u001b[1;32m      3\u001b[0m \u001b[0mtest\u001b[0m\u001b[0;34m=\u001b[0m\u001b[0mtest\u001b[0m\u001b[0;34m[\u001b[0m\u001b[0mtest\u001b[0m\u001b[0;34m[\u001b[0m\u001b[0;34m'Ultrafine (#/cm3)'\u001b[0m\u001b[0;34m]\u001b[0m\u001b[0;34m>\u001b[0m\u001b[0;36m0\u001b[0m\u001b[0;34m]\u001b[0m\u001b[0;34m\u001b[0m\u001b[0m\n\u001b[1;32m      4\u001b[0m \u001b[0;34m\u001b[0m\u001b[0m\n\u001b[0;32m----> 5\u001b[0;31m \u001b[0mtest2\u001b[0m\u001b[0;34m[\u001b[0m\u001b[0;34m'PM2.5_FEM_MC (ug/m3)'\u001b[0m\u001b[0;34m]\u001b[0m\u001b[0;34m=\u001b[0m\u001b[0mtest2\u001b[0m\u001b[0;34m[\u001b[0m\u001b[0;34m'PM2.5_FEM_MC (ug/m3)'\u001b[0m\u001b[0;34m]\u001b[0m\u001b[0;34m.\u001b[0m\u001b[0mapply\u001b[0m\u001b[0;34m(\u001b[0m\u001b[0;32mlambda\u001b[0m \u001b[0mx\u001b[0m\u001b[0;34m:\u001b[0m \u001b[0mfloat\u001b[0m\u001b[0;34m(\u001b[0m\u001b[0mx\u001b[0m\u001b[0;34m)\u001b[0m\u001b[0;34m)\u001b[0m\u001b[0;34m\u001b[0m\u001b[0m\n\u001b[0m\u001b[1;32m      6\u001b[0m \u001b[0mtest2\u001b[0m\u001b[0;34m[\u001b[0m\u001b[0;34m'PM2.5_MC (ug/m3)'\u001b[0m\u001b[0;34m]\u001b[0m\u001b[0;34m=\u001b[0m\u001b[0mtest2\u001b[0m\u001b[0;34m[\u001b[0m\u001b[0;34m'PM2.5_MC (ug/m3)'\u001b[0m\u001b[0;34m]\u001b[0m\u001b[0;34m.\u001b[0m\u001b[0mapply\u001b[0m\u001b[0;34m(\u001b[0m\u001b[0;32mlambda\u001b[0m \u001b[0mx\u001b[0m\u001b[0;34m:\u001b[0m \u001b[0mfloat\u001b[0m\u001b[0;34m(\u001b[0m\u001b[0mx\u001b[0m\u001b[0;34m)\u001b[0m\u001b[0;34m)\u001b[0m\u001b[0;34m\u001b[0m\u001b[0m\n\u001b[1;32m      7\u001b[0m \u001b[0mtest2\u001b[0m\u001b[0;34m[\u001b[0m\u001b[0;34m'Ultrafine (#/cm3)'\u001b[0m\u001b[0;34m]\u001b[0m\u001b[0;34m=\u001b[0m\u001b[0mtest2\u001b[0m\u001b[0;34m[\u001b[0m\u001b[0;34m'Ultrafine (#/cm3)'\u001b[0m\u001b[0;34m]\u001b[0m\u001b[0;34m.\u001b[0m\u001b[0mapply\u001b[0m\u001b[0;34m(\u001b[0m\u001b[0;32mlambda\u001b[0m \u001b[0mx\u001b[0m\u001b[0;34m:\u001b[0m \u001b[0mfloat\u001b[0m\u001b[0;34m(\u001b[0m\u001b[0mx\u001b[0m\u001b[0;34m)\u001b[0m\u001b[0;34m)\u001b[0m\u001b[0;34m\u001b[0m\u001b[0m\n",
      "\u001b[0;32m/Users/stella/anaconda/lib/python3.5/site-packages/pandas/core/frame.py\u001b[0m in \u001b[0;36m__getitem__\u001b[0;34m(self, key)\u001b[0m\n\u001b[1;32m   1995\u001b[0m             \u001b[0;32mreturn\u001b[0m \u001b[0mself\u001b[0m\u001b[0;34m.\u001b[0m\u001b[0m_getitem_multilevel\u001b[0m\u001b[0;34m(\u001b[0m\u001b[0mkey\u001b[0m\u001b[0;34m)\u001b[0m\u001b[0;34m\u001b[0m\u001b[0m\n\u001b[1;32m   1996\u001b[0m         \u001b[0;32melse\u001b[0m\u001b[0;34m:\u001b[0m\u001b[0;34m\u001b[0m\u001b[0m\n\u001b[0;32m-> 1997\u001b[0;31m             \u001b[0;32mreturn\u001b[0m \u001b[0mself\u001b[0m\u001b[0;34m.\u001b[0m\u001b[0m_getitem_column\u001b[0m\u001b[0;34m(\u001b[0m\u001b[0mkey\u001b[0m\u001b[0;34m)\u001b[0m\u001b[0;34m\u001b[0m\u001b[0m\n\u001b[0m\u001b[1;32m   1998\u001b[0m \u001b[0;34m\u001b[0m\u001b[0m\n\u001b[1;32m   1999\u001b[0m     \u001b[0;32mdef\u001b[0m \u001b[0m_getitem_column\u001b[0m\u001b[0;34m(\u001b[0m\u001b[0mself\u001b[0m\u001b[0;34m,\u001b[0m \u001b[0mkey\u001b[0m\u001b[0;34m)\u001b[0m\u001b[0;34m:\u001b[0m\u001b[0;34m\u001b[0m\u001b[0m\n",
      "\u001b[0;32m/Users/stella/anaconda/lib/python3.5/site-packages/pandas/core/frame.py\u001b[0m in \u001b[0;36m_getitem_column\u001b[0;34m(self, key)\u001b[0m\n\u001b[1;32m   2002\u001b[0m         \u001b[0;31m# get column\u001b[0m\u001b[0;34m\u001b[0m\u001b[0;34m\u001b[0m\u001b[0m\n\u001b[1;32m   2003\u001b[0m         \u001b[0;32mif\u001b[0m \u001b[0mself\u001b[0m\u001b[0;34m.\u001b[0m\u001b[0mcolumns\u001b[0m\u001b[0;34m.\u001b[0m\u001b[0mis_unique\u001b[0m\u001b[0;34m:\u001b[0m\u001b[0;34m\u001b[0m\u001b[0m\n\u001b[0;32m-> 2004\u001b[0;31m             \u001b[0;32mreturn\u001b[0m \u001b[0mself\u001b[0m\u001b[0;34m.\u001b[0m\u001b[0m_get_item_cache\u001b[0m\u001b[0;34m(\u001b[0m\u001b[0mkey\u001b[0m\u001b[0;34m)\u001b[0m\u001b[0;34m\u001b[0m\u001b[0m\n\u001b[0m\u001b[1;32m   2005\u001b[0m \u001b[0;34m\u001b[0m\u001b[0m\n\u001b[1;32m   2006\u001b[0m         \u001b[0;31m# duplicate columns & possible reduce dimensionality\u001b[0m\u001b[0;34m\u001b[0m\u001b[0;34m\u001b[0m\u001b[0m\n",
      "\u001b[0;32m/Users/stella/anaconda/lib/python3.5/site-packages/pandas/core/generic.py\u001b[0m in \u001b[0;36m_get_item_cache\u001b[0;34m(self, item)\u001b[0m\n\u001b[1;32m   1348\u001b[0m         \u001b[0mres\u001b[0m \u001b[0;34m=\u001b[0m \u001b[0mcache\u001b[0m\u001b[0;34m.\u001b[0m\u001b[0mget\u001b[0m\u001b[0;34m(\u001b[0m\u001b[0mitem\u001b[0m\u001b[0;34m)\u001b[0m\u001b[0;34m\u001b[0m\u001b[0m\n\u001b[1;32m   1349\u001b[0m         \u001b[0;32mif\u001b[0m \u001b[0mres\u001b[0m \u001b[0;32mis\u001b[0m \u001b[0;32mNone\u001b[0m\u001b[0;34m:\u001b[0m\u001b[0;34m\u001b[0m\u001b[0m\n\u001b[0;32m-> 1350\u001b[0;31m             \u001b[0mvalues\u001b[0m \u001b[0;34m=\u001b[0m \u001b[0mself\u001b[0m\u001b[0;34m.\u001b[0m\u001b[0m_data\u001b[0m\u001b[0;34m.\u001b[0m\u001b[0mget\u001b[0m\u001b[0;34m(\u001b[0m\u001b[0mitem\u001b[0m\u001b[0;34m)\u001b[0m\u001b[0;34m\u001b[0m\u001b[0m\n\u001b[0m\u001b[1;32m   1351\u001b[0m             \u001b[0mres\u001b[0m \u001b[0;34m=\u001b[0m \u001b[0mself\u001b[0m\u001b[0;34m.\u001b[0m\u001b[0m_box_item_values\u001b[0m\u001b[0;34m(\u001b[0m\u001b[0mitem\u001b[0m\u001b[0;34m,\u001b[0m \u001b[0mvalues\u001b[0m\u001b[0;34m)\u001b[0m\u001b[0;34m\u001b[0m\u001b[0m\n\u001b[1;32m   1352\u001b[0m             \u001b[0mcache\u001b[0m\u001b[0;34m[\u001b[0m\u001b[0mitem\u001b[0m\u001b[0;34m]\u001b[0m \u001b[0;34m=\u001b[0m \u001b[0mres\u001b[0m\u001b[0;34m\u001b[0m\u001b[0m\n",
      "\u001b[0;32m/Users/stella/anaconda/lib/python3.5/site-packages/pandas/core/internals.py\u001b[0m in \u001b[0;36mget\u001b[0;34m(self, item, fastpath)\u001b[0m\n\u001b[1;32m   3288\u001b[0m \u001b[0;34m\u001b[0m\u001b[0m\n\u001b[1;32m   3289\u001b[0m             \u001b[0;32mif\u001b[0m \u001b[0;32mnot\u001b[0m \u001b[0misnull\u001b[0m\u001b[0;34m(\u001b[0m\u001b[0mitem\u001b[0m\u001b[0;34m)\u001b[0m\u001b[0;34m:\u001b[0m\u001b[0;34m\u001b[0m\u001b[0m\n\u001b[0;32m-> 3290\u001b[0;31m                 \u001b[0mloc\u001b[0m \u001b[0;34m=\u001b[0m \u001b[0mself\u001b[0m\u001b[0;34m.\u001b[0m\u001b[0mitems\u001b[0m\u001b[0;34m.\u001b[0m\u001b[0mget_loc\u001b[0m\u001b[0;34m(\u001b[0m\u001b[0mitem\u001b[0m\u001b[0;34m)\u001b[0m\u001b[0;34m\u001b[0m\u001b[0m\n\u001b[0m\u001b[1;32m   3291\u001b[0m             \u001b[0;32melse\u001b[0m\u001b[0;34m:\u001b[0m\u001b[0;34m\u001b[0m\u001b[0m\n\u001b[1;32m   3292\u001b[0m                 \u001b[0mindexer\u001b[0m \u001b[0;34m=\u001b[0m \u001b[0mnp\u001b[0m\u001b[0;34m.\u001b[0m\u001b[0marange\u001b[0m\u001b[0;34m(\u001b[0m\u001b[0mlen\u001b[0m\u001b[0;34m(\u001b[0m\u001b[0mself\u001b[0m\u001b[0;34m.\u001b[0m\u001b[0mitems\u001b[0m\u001b[0;34m)\u001b[0m\u001b[0;34m)\u001b[0m\u001b[0;34m[\u001b[0m\u001b[0misnull\u001b[0m\u001b[0;34m(\u001b[0m\u001b[0mself\u001b[0m\u001b[0;34m.\u001b[0m\u001b[0mitems\u001b[0m\u001b[0;34m)\u001b[0m\u001b[0;34m]\u001b[0m\u001b[0;34m\u001b[0m\u001b[0m\n",
      "\u001b[0;32m/Users/stella/anaconda/lib/python3.5/site-packages/pandas/indexes/base.py\u001b[0m in \u001b[0;36mget_loc\u001b[0;34m(self, key, method, tolerance)\u001b[0m\n\u001b[1;32m   1945\u001b[0m                 \u001b[0;32mreturn\u001b[0m \u001b[0mself\u001b[0m\u001b[0;34m.\u001b[0m\u001b[0m_engine\u001b[0m\u001b[0;34m.\u001b[0m\u001b[0mget_loc\u001b[0m\u001b[0;34m(\u001b[0m\u001b[0mkey\u001b[0m\u001b[0;34m)\u001b[0m\u001b[0;34m\u001b[0m\u001b[0m\n\u001b[1;32m   1946\u001b[0m             \u001b[0;32mexcept\u001b[0m \u001b[0mKeyError\u001b[0m\u001b[0;34m:\u001b[0m\u001b[0;34m\u001b[0m\u001b[0m\n\u001b[0;32m-> 1947\u001b[0;31m                 \u001b[0;32mreturn\u001b[0m \u001b[0mself\u001b[0m\u001b[0;34m.\u001b[0m\u001b[0m_engine\u001b[0m\u001b[0;34m.\u001b[0m\u001b[0mget_loc\u001b[0m\u001b[0;34m(\u001b[0m\u001b[0mself\u001b[0m\u001b[0;34m.\u001b[0m\u001b[0m_maybe_cast_indexer\u001b[0m\u001b[0;34m(\u001b[0m\u001b[0mkey\u001b[0m\u001b[0;34m)\u001b[0m\u001b[0;34m)\u001b[0m\u001b[0;34m\u001b[0m\u001b[0m\n\u001b[0m\u001b[1;32m   1948\u001b[0m \u001b[0;34m\u001b[0m\u001b[0m\n\u001b[1;32m   1949\u001b[0m         \u001b[0mindexer\u001b[0m \u001b[0;34m=\u001b[0m \u001b[0mself\u001b[0m\u001b[0;34m.\u001b[0m\u001b[0mget_indexer\u001b[0m\u001b[0;34m(\u001b[0m\u001b[0;34m[\u001b[0m\u001b[0mkey\u001b[0m\u001b[0;34m]\u001b[0m\u001b[0;34m,\u001b[0m \u001b[0mmethod\u001b[0m\u001b[0;34m=\u001b[0m\u001b[0mmethod\u001b[0m\u001b[0;34m,\u001b[0m \u001b[0mtolerance\u001b[0m\u001b[0;34m=\u001b[0m\u001b[0mtolerance\u001b[0m\u001b[0;34m)\u001b[0m\u001b[0;34m\u001b[0m\u001b[0m\n",
      "\u001b[0;32mpandas/index.pyx\u001b[0m in \u001b[0;36mpandas.index.IndexEngine.get_loc (pandas/index.c:4154)\u001b[0;34m()\u001b[0m\n",
      "\u001b[0;32mpandas/index.pyx\u001b[0m in \u001b[0;36mpandas.index.IndexEngine.get_loc (pandas/index.c:4018)\u001b[0;34m()\u001b[0m\n",
      "\u001b[0;32mpandas/hashtable.pyx\u001b[0m in \u001b[0;36mpandas.hashtable.PyObjectHashTable.get_item (pandas/hashtable.c:12368)\u001b[0;34m()\u001b[0m\n",
      "\u001b[0;32mpandas/hashtable.pyx\u001b[0m in \u001b[0;36mpandas.hashtable.PyObjectHashTable.get_item (pandas/hashtable.c:12322)\u001b[0;34m()\u001b[0m\n",
      "\u001b[0;31mKeyError\u001b[0m: 'PM2.5_FEM_MC (ug/m3)'"
     ]
    }
   ],
   "source": [
    "test=test[test['PM2.5_FEM_MC (ug/m3)']>0]\n",
    "test=test[test['PM2.5_MC (ug/m3)']>0]\n",
    "test=test[test['Ultrafine (#/cm3)']>0]\n",
    "\n",
    "test2['PM2.5_FEM_MC (ug/m3)']=test2['PM2.5_FEM_MC (ug/m3)'].apply(lambda x: float(x))\n",
    "test2['PM2.5_MC (ug/m3)']=test2['PM2.5_MC (ug/m3)'].apply(lambda x: float(x))\n",
    "test2['Ultrafine (#/cm3)']=test2['Ultrafine (#/cm3)'].apply(lambda x: float(x))"
   ]
  },
  {
   "cell_type": "code",
   "execution_count": 147,
   "metadata": {
    "collapsed": true
   },
   "outputs": [],
   "source": [
    "test2=test.copy(False)"
   ]
  },
  {
   "cell_type": "code",
   "execution_count": 151,
   "metadata": {
    "collapsed": false
   },
   "outputs": [
    {
     "data": {
      "text/plain": [
       "0.4"
      ]
     },
     "execution_count": 151,
     "metadata": {},
     "output_type": "execute_result"
    }
   ],
   "source": [
    "float(test2['PM2.5_FEM_MC (ug/m3)'][0])"
   ]
  },
  {
   "cell_type": "code",
   "execution_count": 153,
   "metadata": {
    "collapsed": true
   },
   "outputs": [],
   "source": [
    "test2['PM2.5_FEM_MC (ug/m3)']=test2['PM2.5_FEM_MC (ug/m3)'].apply(lambda x: float(x))\n",
    "test2['PM2.5_MC (ug/m3)']=test2['PM2.5_MC (ug/m3)'].apply(lambda x: float(x))\n",
    "test2['Ultrafine (#/cm3)']=test2['Ultrafine (#/cm3)'].apply(lambda x: float(x))"
   ]
  },
  {
   "cell_type": "code",
   "execution_count": 156,
   "metadata": {
    "collapsed": false
   },
   "outputs": [],
   "source": [
    "test3=test2.groupby([test2['month'],test2['day']]).mean()"
   ]
  },
  {
   "cell_type": "code",
   "execution_count": 157,
   "metadata": {
    "collapsed": false,
    "scrolled": true
   },
   "outputs": [
    {
     "data": {
      "text/html": [
       "<div>\n",
       "<table border=\"1\" class=\"dataframe\">\n",
       "  <thead>\n",
       "    <tr style=\"text-align: right;\">\n",
       "      <th></th>\n",
       "      <th></th>\n",
       "      <th>PM2.5_FEM_MC (ug/m3)</th>\n",
       "      <th>PM2.5_MC (ug/m3)</th>\n",
       "      <th>Ultrafine (#/cm3)</th>\n",
       "      <th>month</th>\n",
       "      <th>day</th>\n",
       "    </tr>\n",
       "    <tr>\n",
       "      <th>month</th>\n",
       "      <th>day</th>\n",
       "      <th></th>\n",
       "      <th></th>\n",
       "      <th></th>\n",
       "      <th></th>\n",
       "      <th></th>\n",
       "    </tr>\n",
       "  </thead>\n",
       "  <tbody>\n",
       "    <tr>\n",
       "      <th rowspan=\"27\" valign=\"top\">1</th>\n",
       "      <th>5</th>\n",
       "      <td>5.027912</td>\n",
       "      <td>5.929890</td>\n",
       "      <td>15271.188278</td>\n",
       "      <td>1</td>\n",
       "      <td>5</td>\n",
       "    </tr>\n",
       "    <tr>\n",
       "      <th>6</th>\n",
       "      <td>7.772620</td>\n",
       "      <td>8.934885</td>\n",
       "      <td>26483.416261</td>\n",
       "      <td>1</td>\n",
       "      <td>6</td>\n",
       "    </tr>\n",
       "    <tr>\n",
       "      <th>7</th>\n",
       "      <td>5.891944</td>\n",
       "      <td>6.869097</td>\n",
       "      <td>11454.111111</td>\n",
       "      <td>1</td>\n",
       "      <td>7</td>\n",
       "    </tr>\n",
       "    <tr>\n",
       "      <th>8</th>\n",
       "      <td>5.000311</td>\n",
       "      <td>5.898523</td>\n",
       "      <td>17779.486781</td>\n",
       "      <td>1</td>\n",
       "      <td>8</td>\n",
       "    </tr>\n",
       "    <tr>\n",
       "      <th>9</th>\n",
       "      <td>5.330213</td>\n",
       "      <td>6.242199</td>\n",
       "      <td>24773.262411</td>\n",
       "      <td>1</td>\n",
       "      <td>9</td>\n",
       "    </tr>\n",
       "    <tr>\n",
       "      <th>10</th>\n",
       "      <td>5.653116</td>\n",
       "      <td>6.623188</td>\n",
       "      <td>25470.115942</td>\n",
       "      <td>1</td>\n",
       "      <td>10</td>\n",
       "    </tr>\n",
       "    <tr>\n",
       "      <th>11</th>\n",
       "      <td>9.084479</td>\n",
       "      <td>10.328494</td>\n",
       "      <td>26778.869498</td>\n",
       "      <td>1</td>\n",
       "      <td>11</td>\n",
       "    </tr>\n",
       "    <tr>\n",
       "      <th>12</th>\n",
       "      <td>7.199097</td>\n",
       "      <td>8.320972</td>\n",
       "      <td>21926.916667</td>\n",
       "      <td>1</td>\n",
       "      <td>12</td>\n",
       "    </tr>\n",
       "    <tr>\n",
       "      <th>13</th>\n",
       "      <td>3.548123</td>\n",
       "      <td>4.250881</td>\n",
       "      <td>26919.141762</td>\n",
       "      <td>1</td>\n",
       "      <td>13</td>\n",
       "    </tr>\n",
       "    <tr>\n",
       "      <th>14</th>\n",
       "      <td>4.631290</td>\n",
       "      <td>5.458201</td>\n",
       "      <td>12326.222134</td>\n",
       "      <td>1</td>\n",
       "      <td>14</td>\n",
       "    </tr>\n",
       "    <tr>\n",
       "      <th>15</th>\n",
       "      <td>8.597917</td>\n",
       "      <td>9.856389</td>\n",
       "      <td>29992.083333</td>\n",
       "      <td>1</td>\n",
       "      <td>15</td>\n",
       "    </tr>\n",
       "    <tr>\n",
       "      <th>16</th>\n",
       "      <td>11.605972</td>\n",
       "      <td>13.052986</td>\n",
       "      <td>21360.788194</td>\n",
       "      <td>1</td>\n",
       "      <td>16</td>\n",
       "    </tr>\n",
       "    <tr>\n",
       "      <th>17</th>\n",
       "      <td>19.986518</td>\n",
       "      <td>21.754065</td>\n",
       "      <td>15541.365532</td>\n",
       "      <td>1</td>\n",
       "      <td>17</td>\n",
       "    </tr>\n",
       "    <tr>\n",
       "      <th>18</th>\n",
       "      <td>3.510161</td>\n",
       "      <td>4.219006</td>\n",
       "      <td>15956.359649</td>\n",
       "      <td>1</td>\n",
       "      <td>18</td>\n",
       "    </tr>\n",
       "    <tr>\n",
       "      <th>19</th>\n",
       "      <td>5.215087</td>\n",
       "      <td>6.099469</td>\n",
       "      <td>27660.174375</td>\n",
       "      <td>1</td>\n",
       "      <td>19</td>\n",
       "    </tr>\n",
       "    <tr>\n",
       "      <th>20</th>\n",
       "      <td>6.256542</td>\n",
       "      <td>7.280949</td>\n",
       "      <td>17170.948738</td>\n",
       "      <td>1</td>\n",
       "      <td>20</td>\n",
       "    </tr>\n",
       "    <tr>\n",
       "      <th>21</th>\n",
       "      <td>15.909861</td>\n",
       "      <td>17.580694</td>\n",
       "      <td>10314.884028</td>\n",
       "      <td>1</td>\n",
       "      <td>21</td>\n",
       "    </tr>\n",
       "    <tr>\n",
       "      <th>22</th>\n",
       "      <td>11.886881</td>\n",
       "      <td>13.344033</td>\n",
       "      <td>7057.441033</td>\n",
       "      <td>1</td>\n",
       "      <td>22</td>\n",
       "    </tr>\n",
       "    <tr>\n",
       "      <th>23</th>\n",
       "      <td>2.580058</td>\n",
       "      <td>3.152529</td>\n",
       "      <td>4390.492218</td>\n",
       "      <td>1</td>\n",
       "      <td>23</td>\n",
       "    </tr>\n",
       "    <tr>\n",
       "      <th>24</th>\n",
       "      <td>1.773908</td>\n",
       "      <td>2.223333</td>\n",
       "      <td>20938.022989</td>\n",
       "      <td>1</td>\n",
       "      <td>24</td>\n",
       "    </tr>\n",
       "    <tr>\n",
       "      <th>25</th>\n",
       "      <td>3.678479</td>\n",
       "      <td>4.386388</td>\n",
       "      <td>22209.306464</td>\n",
       "      <td>1</td>\n",
       "      <td>25</td>\n",
       "    </tr>\n",
       "    <tr>\n",
       "      <th>26</th>\n",
       "      <td>7.730769</td>\n",
       "      <td>8.816737</td>\n",
       "      <td>20163.765850</td>\n",
       "      <td>1</td>\n",
       "      <td>26</td>\n",
       "    </tr>\n",
       "    <tr>\n",
       "      <th>27</th>\n",
       "      <td>1.869246</td>\n",
       "      <td>2.318903</td>\n",
       "      <td>12699.216454</td>\n",
       "      <td>1</td>\n",
       "      <td>27</td>\n",
       "    </tr>\n",
       "    <tr>\n",
       "      <th>28</th>\n",
       "      <td>4.016150</td>\n",
       "      <td>4.791608</td>\n",
       "      <td>10340.038787</td>\n",
       "      <td>1</td>\n",
       "      <td>28</td>\n",
       "    </tr>\n",
       "    <tr>\n",
       "      <th>29</th>\n",
       "      <td>7.639931</td>\n",
       "      <td>8.766389</td>\n",
       "      <td>13006.152778</td>\n",
       "      <td>1</td>\n",
       "      <td>29</td>\n",
       "    </tr>\n",
       "    <tr>\n",
       "      <th>30</th>\n",
       "      <td>5.157657</td>\n",
       "      <td>6.081439</td>\n",
       "      <td>22630.088167</td>\n",
       "      <td>1</td>\n",
       "      <td>30</td>\n",
       "    </tr>\n",
       "    <tr>\n",
       "      <th>31</th>\n",
       "      <td>9.168144</td>\n",
       "      <td>10.450299</td>\n",
       "      <td>19202.874251</td>\n",
       "      <td>1</td>\n",
       "      <td>31</td>\n",
       "    </tr>\n",
       "    <tr>\n",
       "      <th rowspan=\"28\" valign=\"top\">2</th>\n",
       "      <th>1</th>\n",
       "      <td>7.129895</td>\n",
       "      <td>8.159909</td>\n",
       "      <td>16205.891854</td>\n",
       "      <td>2</td>\n",
       "      <td>1</td>\n",
       "    </tr>\n",
       "    <tr>\n",
       "      <th>2</th>\n",
       "      <td>3.854165</td>\n",
       "      <td>4.601712</td>\n",
       "      <td>21692.328816</td>\n",
       "      <td>2</td>\n",
       "      <td>2</td>\n",
       "    </tr>\n",
       "    <tr>\n",
       "      <th>3</th>\n",
       "      <td>5.119666</td>\n",
       "      <td>6.002893</td>\n",
       "      <td>22465.838279</td>\n",
       "      <td>2</td>\n",
       "      <td>3</td>\n",
       "    </tr>\n",
       "    <tr>\n",
       "      <th>4</th>\n",
       "      <td>4.471524</td>\n",
       "      <td>5.276376</td>\n",
       "      <td>13493.824042</td>\n",
       "      <td>2</td>\n",
       "      <td>4</td>\n",
       "    </tr>\n",
       "    <tr>\n",
       "      <th>5</th>\n",
       "      <td>10.092701</td>\n",
       "      <td>11.460153</td>\n",
       "      <td>11272.838194</td>\n",
       "      <td>2</td>\n",
       "      <td>5</td>\n",
       "    </tr>\n",
       "    <tr>\n",
       "      <th>6</th>\n",
       "      <td>11.490326</td>\n",
       "      <td>12.925215</td>\n",
       "      <td>23410.833333</td>\n",
       "      <td>2</td>\n",
       "      <td>6</td>\n",
       "    </tr>\n",
       "    <tr>\n",
       "      <th>7</th>\n",
       "      <td>15.095170</td>\n",
       "      <td>16.696233</td>\n",
       "      <td>15978.359972</td>\n",
       "      <td>2</td>\n",
       "      <td>7</td>\n",
       "    </tr>\n",
       "    <tr>\n",
       "      <th>8</th>\n",
       "      <td>9.030677</td>\n",
       "      <td>10.191239</td>\n",
       "      <td>23484.188034</td>\n",
       "      <td>2</td>\n",
       "      <td>8</td>\n",
       "    </tr>\n",
       "    <tr>\n",
       "      <th>9</th>\n",
       "      <td>2.454628</td>\n",
       "      <td>3.002641</td>\n",
       "      <td>11288.812500</td>\n",
       "      <td>2</td>\n",
       "      <td>9</td>\n",
       "    </tr>\n",
       "    <tr>\n",
       "      <th>10</th>\n",
       "      <td>4.699576</td>\n",
       "      <td>5.520342</td>\n",
       "      <td>17706.583643</td>\n",
       "      <td>2</td>\n",
       "      <td>10</td>\n",
       "    </tr>\n",
       "    <tr>\n",
       "      <th>11</th>\n",
       "      <td>14.628093</td>\n",
       "      <td>16.125942</td>\n",
       "      <td>22775.927568</td>\n",
       "      <td>2</td>\n",
       "      <td>11</td>\n",
       "    </tr>\n",
       "    <tr>\n",
       "      <th>12</th>\n",
       "      <td>8.867469</td>\n",
       "      <td>9.981661</td>\n",
       "      <td>13905.338745</td>\n",
       "      <td>2</td>\n",
       "      <td>12</td>\n",
       "    </tr>\n",
       "    <tr>\n",
       "      <th>13</th>\n",
       "      <td>3.503248</td>\n",
       "      <td>4.194450</td>\n",
       "      <td>23304.635149</td>\n",
       "      <td>2</td>\n",
       "      <td>13</td>\n",
       "    </tr>\n",
       "    <tr>\n",
       "      <th>14</th>\n",
       "      <td>7.063076</td>\n",
       "      <td>8.173223</td>\n",
       "      <td>29041.284875</td>\n",
       "      <td>2</td>\n",
       "      <td>14</td>\n",
       "    </tr>\n",
       "    <tr>\n",
       "      <th>15</th>\n",
       "      <td>10.086009</td>\n",
       "      <td>11.344664</td>\n",
       "      <td>21883.913303</td>\n",
       "      <td>2</td>\n",
       "      <td>15</td>\n",
       "    </tr>\n",
       "    <tr>\n",
       "      <th>16</th>\n",
       "      <td>3.188608</td>\n",
       "      <td>3.845499</td>\n",
       "      <td>22795.211910</td>\n",
       "      <td>2</td>\n",
       "      <td>16</td>\n",
       "    </tr>\n",
       "    <tr>\n",
       "      <th>17</th>\n",
       "      <td>5.338285</td>\n",
       "      <td>6.287257</td>\n",
       "      <td>21061.222222</td>\n",
       "      <td>2</td>\n",
       "      <td>17</td>\n",
       "    </tr>\n",
       "    <tr>\n",
       "      <th>18</th>\n",
       "      <td>10.098277</td>\n",
       "      <td>11.437860</td>\n",
       "      <td>18860.430855</td>\n",
       "      <td>2</td>\n",
       "      <td>18</td>\n",
       "    </tr>\n",
       "    <tr>\n",
       "      <th>19</th>\n",
       "      <td>7.269807</td>\n",
       "      <td>8.366152</td>\n",
       "      <td>18758.419170</td>\n",
       "      <td>2</td>\n",
       "      <td>19</td>\n",
       "    </tr>\n",
       "    <tr>\n",
       "      <th>20</th>\n",
       "      <td>5.946728</td>\n",
       "      <td>6.446301</td>\n",
       "      <td>25115.316591</td>\n",
       "      <td>2</td>\n",
       "      <td>20</td>\n",
       "    </tr>\n",
       "    <tr>\n",
       "      <th>21</th>\n",
       "      <td>3.479935</td>\n",
       "      <td>4.166892</td>\n",
       "      <td>22924.776241</td>\n",
       "      <td>2</td>\n",
       "      <td>21</td>\n",
       "    </tr>\n",
       "    <tr>\n",
       "      <th>22</th>\n",
       "      <td>7.657448</td>\n",
       "      <td>8.793112</td>\n",
       "      <td>27133.380597</td>\n",
       "      <td>2</td>\n",
       "      <td>22</td>\n",
       "    </tr>\n",
       "    <tr>\n",
       "      <th>23</th>\n",
       "      <td>15.514799</td>\n",
       "      <td>17.115264</td>\n",
       "      <td>25459.088194</td>\n",
       "      <td>2</td>\n",
       "      <td>23</td>\n",
       "    </tr>\n",
       "    <tr>\n",
       "      <th>24</th>\n",
       "      <td>4.902804</td>\n",
       "      <td>5.753704</td>\n",
       "      <td>24165.494143</td>\n",
       "      <td>2</td>\n",
       "      <td>24</td>\n",
       "    </tr>\n",
       "    <tr>\n",
       "      <th>25</th>\n",
       "      <td>3.959185</td>\n",
       "      <td>4.669049</td>\n",
       "      <td>22344.960032</td>\n",
       "      <td>2</td>\n",
       "      <td>25</td>\n",
       "    </tr>\n",
       "    <tr>\n",
       "      <th>26</th>\n",
       "      <td>1.957694</td>\n",
       "      <td>2.430682</td>\n",
       "      <td>10642.513539</td>\n",
       "      <td>2</td>\n",
       "      <td>26</td>\n",
       "    </tr>\n",
       "    <tr>\n",
       "      <th>27</th>\n",
       "      <td>7.483521</td>\n",
       "      <td>8.638160</td>\n",
       "      <td>17797.895833</td>\n",
       "      <td>2</td>\n",
       "      <td>27</td>\n",
       "    </tr>\n",
       "    <tr>\n",
       "      <th>28</th>\n",
       "      <td>7.348579</td>\n",
       "      <td>8.470837</td>\n",
       "      <td>21337.369902</td>\n",
       "      <td>2</td>\n",
       "      <td>28</td>\n",
       "    </tr>\n",
       "  </tbody>\n",
       "</table>\n",
       "</div>"
      ],
      "text/plain": [
       "           PM2.5_FEM_MC (ug/m3)  PM2.5_MC (ug/m3)  Ultrafine (#/cm3)  month  \\\n",
       "month day                                                                     \n",
       "1     5                5.027912          5.929890       15271.188278      1   \n",
       "      6                7.772620          8.934885       26483.416261      1   \n",
       "      7                5.891944          6.869097       11454.111111      1   \n",
       "      8                5.000311          5.898523       17779.486781      1   \n",
       "      9                5.330213          6.242199       24773.262411      1   \n",
       "      10               5.653116          6.623188       25470.115942      1   \n",
       "      11               9.084479         10.328494       26778.869498      1   \n",
       "      12               7.199097          8.320972       21926.916667      1   \n",
       "      13               3.548123          4.250881       26919.141762      1   \n",
       "      14               4.631290          5.458201       12326.222134      1   \n",
       "      15               8.597917          9.856389       29992.083333      1   \n",
       "      16              11.605972         13.052986       21360.788194      1   \n",
       "      17              19.986518         21.754065       15541.365532      1   \n",
       "      18               3.510161          4.219006       15956.359649      1   \n",
       "      19               5.215087          6.099469       27660.174375      1   \n",
       "      20               6.256542          7.280949       17170.948738      1   \n",
       "      21              15.909861         17.580694       10314.884028      1   \n",
       "      22              11.886881         13.344033        7057.441033      1   \n",
       "      23               2.580058          3.152529        4390.492218      1   \n",
       "      24               1.773908          2.223333       20938.022989      1   \n",
       "      25               3.678479          4.386388       22209.306464      1   \n",
       "      26               7.730769          8.816737       20163.765850      1   \n",
       "      27               1.869246          2.318903       12699.216454      1   \n",
       "      28               4.016150          4.791608       10340.038787      1   \n",
       "      29               7.639931          8.766389       13006.152778      1   \n",
       "      30               5.157657          6.081439       22630.088167      1   \n",
       "      31               9.168144         10.450299       19202.874251      1   \n",
       "2     1                7.129895          8.159909       16205.891854      2   \n",
       "      2                3.854165          4.601712       21692.328816      2   \n",
       "      3                5.119666          6.002893       22465.838279      2   \n",
       "      4                4.471524          5.276376       13493.824042      2   \n",
       "      5               10.092701         11.460153       11272.838194      2   \n",
       "      6               11.490326         12.925215       23410.833333      2   \n",
       "      7               15.095170         16.696233       15978.359972      2   \n",
       "      8                9.030677         10.191239       23484.188034      2   \n",
       "      9                2.454628          3.002641       11288.812500      2   \n",
       "      10               4.699576          5.520342       17706.583643      2   \n",
       "      11              14.628093         16.125942       22775.927568      2   \n",
       "      12               8.867469          9.981661       13905.338745      2   \n",
       "      13               3.503248          4.194450       23304.635149      2   \n",
       "      14               7.063076          8.173223       29041.284875      2   \n",
       "      15              10.086009         11.344664       21883.913303      2   \n",
       "      16               3.188608          3.845499       22795.211910      2   \n",
       "      17               5.338285          6.287257       21061.222222      2   \n",
       "      18              10.098277         11.437860       18860.430855      2   \n",
       "      19               7.269807          8.366152       18758.419170      2   \n",
       "      20               5.946728          6.446301       25115.316591      2   \n",
       "      21               3.479935          4.166892       22924.776241      2   \n",
       "      22               7.657448          8.793112       27133.380597      2   \n",
       "      23              15.514799         17.115264       25459.088194      2   \n",
       "      24               4.902804          5.753704       24165.494143      2   \n",
       "      25               3.959185          4.669049       22344.960032      2   \n",
       "      26               1.957694          2.430682       10642.513539      2   \n",
       "      27               7.483521          8.638160       17797.895833      2   \n",
       "      28               7.348579          8.470837       21337.369902      2   \n",
       "\n",
       "           day  \n",
       "month day       \n",
       "1     5      5  \n",
       "      6      6  \n",
       "      7      7  \n",
       "      8      8  \n",
       "      9      9  \n",
       "      10    10  \n",
       "      11    11  \n",
       "      12    12  \n",
       "      13    13  \n",
       "      14    14  \n",
       "      15    15  \n",
       "      16    16  \n",
       "      17    17  \n",
       "      18    18  \n",
       "      19    19  \n",
       "      20    20  \n",
       "      21    21  \n",
       "      22    22  \n",
       "      23    23  \n",
       "      24    24  \n",
       "      25    25  \n",
       "      26    26  \n",
       "      27    27  \n",
       "      28    28  \n",
       "      29    29  \n",
       "      30    30  \n",
       "      31    31  \n",
       "2     1      1  \n",
       "      2      2  \n",
       "      3      3  \n",
       "      4      4  \n",
       "      5      5  \n",
       "      6      6  \n",
       "      7      7  \n",
       "      8      8  \n",
       "      9      9  \n",
       "      10    10  \n",
       "      11    11  \n",
       "      12    12  \n",
       "      13    13  \n",
       "      14    14  \n",
       "      15    15  \n",
       "      16    16  \n",
       "      17    17  \n",
       "      18    18  \n",
       "      19    19  \n",
       "      20    20  \n",
       "      21    21  \n",
       "      22    22  \n",
       "      23    23  \n",
       "      24    24  \n",
       "      25    25  \n",
       "      26    26  \n",
       "      27    27  \n",
       "      28    28  "
      ]
     },
     "execution_count": 157,
     "metadata": {},
     "output_type": "execute_result"
    }
   ],
   "source": [
    "test3"
   ]
  },
  {
   "cell_type": "code",
   "execution_count": null,
   "metadata": {
    "collapsed": true
   },
   "outputs": [],
   "source": []
  },
  {
   "cell_type": "code",
   "execution_count": null,
   "metadata": {
    "collapsed": true
   },
   "outputs": [],
   "source": []
  },
  {
   "cell_type": "code",
   "execution_count": null,
   "metadata": {
    "collapsed": true
   },
   "outputs": [],
   "source": []
  },
  {
   "cell_type": "code",
   "execution_count": null,
   "metadata": {
    "collapsed": true
   },
   "outputs": [],
   "source": []
  },
  {
   "cell_type": "code",
   "execution_count": 408,
   "metadata": {
    "collapsed": false
   },
   "outputs": [],
   "source": [
    "# INDOOR DATA\n",
    "ildsa=pd.read_excel('/Users/stella/Desktop/data/realeco_queens-college-aqindoor_2017-01-04t195400_2017-03-01t195400.xlsx',\n",
    "                     sheetname=0).set_index('time')\n",
    "ipm25=pd.read_excel('/Users/stella/Desktop/data/realeco_queens-college-aqindoor_2017-01-04t195400_2017-03-01t195400.xlsx',\n",
    "                     sheetname=1).set_index('time')\n",
    "ipn=pd.read_excel('/Users/stella/Desktop/data/realeco_queens-college-aqindoor_2017-01-04t195400_2017-03-01t195400.xlsx',\n",
    "                     sheetname=2).set_index('time')\n",
    "indoor=(ildsa.join(ipm25)).join(ipn).reset_index()\n",
    "indoor=indoor.rename(index=str, columns={'time':'Datetime',\n",
    "                                         'value (µm²/cm³)':'ldsa (um2/cm3)',\n",
    "                                         'value (µg/m³)':'pm25 (ug/m3)',\n",
    "                                         'value (1/cm³)':'pn (P/cm3)'})"
   ]
  },
  {
   "cell_type": "code",
   "execution_count": 410,
   "metadata": {
    "collapsed": false
   },
   "outputs": [],
   "source": [
    "# URBAN DATA\n",
    "urban=pd.read_csv('/Users/stella/Desktop/data/1329_PEGASOR A_20170316200803_v2.csv')"
   ]
  },
  {
   "cell_type": "code",
   "execution_count": 411,
   "metadata": {
    "collapsed": true
   },
   "outputs": [],
   "source": [
    "urban['DateTime']=urban['DateTime'].apply(lambda x: parse(x))"
   ]
  },
  {
   "cell_type": "code",
   "execution_count": 412,
   "metadata": {
    "collapsed": false
   },
   "outputs": [],
   "source": [
    "urban=urban.rename(columns={'MEASURE_PA_LABEL':'LDSA (um2/cm3)',\n",
    "                      'MEASURE_MG_LABEL':'PN (#/cm3)',\n",
    "                      'MEASURE_N_LABEL':'PM2.5 (ug/m3)',\n",
    "                      'MEASURE_PA_LABEL.1':'LDSA-1 (um2/cm3)',\n",
    "                      'MEASURE_MG_LABEL.1':'PN-1 (#/cm3)',\n",
    "                      'MEASURE_N_LABEL.1':'PM2.5-1 (ug/m3)',\n",
    "                      'MEASURE_PA_LABEL.2':'LDSA-2 (um2/cm3)',\n",
    "                      'MEASURE_MG_LABEL.2':'PN-2 (#/cm3)',\n",
    "                      'MEASURE_N_LABEL.2':'PM2.5-2 (ug/m3)'\n",
    "                     })"
   ]
  },
  {
   "cell_type": "code",
   "execution_count": 413,
   "metadata": {
    "collapsed": false
   },
   "outputs": [],
   "source": [
    "#urban=urban.set_index('DateTime')\n",
    "#jf=jf.set_index('Datetime')"
   ]
  },
  {
   "cell_type": "code",
   "execution_count": 414,
   "metadata": {
    "collapsed": false
   },
   "outputs": [],
   "source": [
    "df=jf.join(urban)"
   ]
  },
  {
   "cell_type": "code",
   "execution_count": 415,
   "metadata": {
    "collapsed": false,
    "scrolled": false
   },
   "outputs": [
    {
     "data": {
      "text/html": [
       "<div>\n",
       "<table border=\"1\" class=\"dataframe\">\n",
       "  <thead>\n",
       "    <tr style=\"text-align: right;\">\n",
       "      <th></th>\n",
       "      <th>Datetime</th>\n",
       "      <th>PM2.5_FEM_MC (ug/m3)</th>\n",
       "      <th>PM2.5_MC (ug/m3)</th>\n",
       "      <th>Ultrafine (#/cm3)</th>\n",
       "      <th>DateTime</th>\n",
       "      <th>LDSA (um2/cm3)</th>\n",
       "      <th>PN (#/cm3)</th>\n",
       "      <th>PM2.5 (ug/m3)</th>\n",
       "      <th>LDSA-1 (um2/cm3)</th>\n",
       "      <th>PN-1 (#/cm3)</th>\n",
       "      <th>PM2.5-1 (ug/m3)</th>\n",
       "      <th>LDSA-2 (um2/cm3)</th>\n",
       "      <th>PN-2 (#/cm3)</th>\n",
       "      <th>PM2.5-2 (ug/m3)</th>\n",
       "    </tr>\n",
       "  </thead>\n",
       "  <tbody>\n",
       "    <tr>\n",
       "      <th>0</th>\n",
       "      <td>2017-01-01 00:00:00</td>\n",
       "      <td>3</td>\n",
       "      <td>3.7</td>\n",
       "      <td>8270</td>\n",
       "      <td>2017-01-04 15:02:00</td>\n",
       "      <td>4.499</td>\n",
       "      <td>3684.353</td>\n",
       "      <td>0.177</td>\n",
       "      <td>4.542</td>\n",
       "      <td>3308.769</td>\n",
       "      <td>0.159</td>\n",
       "      <td>4.794</td>\n",
       "      <td>3982.353</td>\n",
       "      <td>0.191</td>\n",
       "    </tr>\n",
       "    <tr>\n",
       "      <th>1</th>\n",
       "      <td>2017-01-01 00:01:00</td>\n",
       "      <td>3</td>\n",
       "      <td>3.7</td>\n",
       "      <td>8450</td>\n",
       "      <td>2017-01-04 15:03:00</td>\n",
       "      <td>4.499</td>\n",
       "      <td>3684.353</td>\n",
       "      <td>0.177</td>\n",
       "      <td>4.595</td>\n",
       "      <td>3346.061</td>\n",
       "      <td>0.161</td>\n",
       "      <td>4.712</td>\n",
       "      <td>3913.317</td>\n",
       "      <td>0.188</td>\n",
       "    </tr>\n",
       "    <tr>\n",
       "      <th>2</th>\n",
       "      <td>2017-01-01 00:02:00</td>\n",
       "      <td>3</td>\n",
       "      <td>3.7</td>\n",
       "      <td>9620</td>\n",
       "      <td>2017-01-04 15:04:00</td>\n",
       "      <td>4.666</td>\n",
       "      <td>3820.196</td>\n",
       "      <td>0.183</td>\n",
       "      <td>4.595</td>\n",
       "      <td>3346.061</td>\n",
       "      <td>0.161</td>\n",
       "      <td>4.712</td>\n",
       "      <td>3913.317</td>\n",
       "      <td>0.188</td>\n",
       "    </tr>\n",
       "    <tr>\n",
       "      <th>3</th>\n",
       "      <td>2017-01-01 00:03:00</td>\n",
       "      <td>3</td>\n",
       "      <td>3.7</td>\n",
       "      <td>9670</td>\n",
       "      <td>2017-01-04 15:05:00</td>\n",
       "      <td>4.666</td>\n",
       "      <td>3820.196</td>\n",
       "      <td>0.183</td>\n",
       "      <td>4.362</td>\n",
       "      <td>3175.265</td>\n",
       "      <td>0.152</td>\n",
       "      <td>4.454</td>\n",
       "      <td>3697.959</td>\n",
       "      <td>0.178</td>\n",
       "    </tr>\n",
       "    <tr>\n",
       "      <th>4</th>\n",
       "      <td>2017-01-01 00:04:00</td>\n",
       "      <td>3</td>\n",
       "      <td>3.7</td>\n",
       "      <td>8430</td>\n",
       "      <td>2017-01-04 15:06:00</td>\n",
       "      <td>4.666</td>\n",
       "      <td>3820.196</td>\n",
       "      <td>0.183</td>\n",
       "      <td>4.362</td>\n",
       "      <td>3175.265</td>\n",
       "      <td>0.152</td>\n",
       "      <td>4.454</td>\n",
       "      <td>3697.959</td>\n",
       "      <td>0.178</td>\n",
       "    </tr>\n",
       "  </tbody>\n",
       "</table>\n",
       "</div>"
      ],
      "text/plain": [
       "             Datetime PM2.5_FEM_MC (ug/m3) PM2.5_MC (ug/m3) Ultrafine (#/cm3)  \\\n",
       "0 2017-01-01 00:00:00                    3              3.7              8270   \n",
       "1 2017-01-01 00:01:00                    3              3.7              8450   \n",
       "2 2017-01-01 00:02:00                    3              3.7              9620   \n",
       "3 2017-01-01 00:03:00                    3              3.7              9670   \n",
       "4 2017-01-01 00:04:00                    3              3.7              8430   \n",
       "\n",
       "             DateTime  LDSA (um2/cm3)  PN (#/cm3)  PM2.5 (ug/m3)  \\\n",
       "0 2017-01-04 15:02:00           4.499    3684.353          0.177   \n",
       "1 2017-01-04 15:03:00           4.499    3684.353          0.177   \n",
       "2 2017-01-04 15:04:00           4.666    3820.196          0.183   \n",
       "3 2017-01-04 15:05:00           4.666    3820.196          0.183   \n",
       "4 2017-01-04 15:06:00           4.666    3820.196          0.183   \n",
       "\n",
       "   LDSA-1 (um2/cm3)  PN-1 (#/cm3)  PM2.5-1 (ug/m3)  LDSA-2 (um2/cm3)  \\\n",
       "0             4.542      3308.769            0.159             4.794   \n",
       "1             4.595      3346.061            0.161             4.712   \n",
       "2             4.595      3346.061            0.161             4.712   \n",
       "3             4.362      3175.265            0.152             4.454   \n",
       "4             4.362      3175.265            0.152             4.454   \n",
       "\n",
       "   PN-2 (#/cm3)  PM2.5-2 (ug/m3)  \n",
       "0      3982.353            0.191  \n",
       "1      3913.317            0.188  \n",
       "2      3913.317            0.188  \n",
       "3      3697.959            0.178  \n",
       "4      3697.959            0.178  "
      ]
     },
     "execution_count": 415,
     "metadata": {},
     "output_type": "execute_result"
    }
   ],
   "source": [
    "df.head()"
   ]
  },
  {
   "cell_type": "code",
   "execution_count": 416,
   "metadata": {
    "collapsed": false
   },
   "outputs": [],
   "source": [
    "df=df.reset_index()"
   ]
  },
  {
   "cell_type": "code",
   "execution_count": 417,
   "metadata": {
    "collapsed": false
   },
   "outputs": [],
   "source": [
    "df=df[(df['Datetime']>=datetime.date(2017,1,5)) & (df['Datetime']<datetime.date(2017,3,1))]"
   ]
  },
  {
   "cell_type": "code",
   "execution_count": 418,
   "metadata": {
    "collapsed": false
   },
   "outputs": [
    {
     "data": {
      "text/plain": [
       "Index(['index', 'Datetime', 'PM2.5_FEM_MC (ug/m3)', 'PM2.5_MC (ug/m3)',\n",
       "       'Ultrafine (#/cm3)', 'DateTime', 'LDSA (um2/cm3)', 'PN (#/cm3)',\n",
       "       'PM2.5 (ug/m3)', 'LDSA-1 (um2/cm3)', 'PN-1 (#/cm3)', 'PM2.5-1 (ug/m3)',\n",
       "       'LDSA-2 (um2/cm3)', 'PN-2 (#/cm3)', 'PM2.5-2 (ug/m3)'],\n",
       "      dtype='object')"
      ]
     },
     "execution_count": 418,
     "metadata": {},
     "output_type": "execute_result"
    }
   ],
   "source": [
    "df.columns"
   ]
  },
  {
   "cell_type": "code",
   "execution_count": 419,
   "metadata": {
    "collapsed": false
   },
   "outputs": [],
   "source": [
    "df=df[(df['LDSA (um2/cm3)']>0) &\n",
    "(df['LDSA-1 (um2/cm3)']>0) &\n",
    "(df['LDSA-2 (um2/cm3)']>0) &\n",
    "(df['PM2.5 (ug/m3)']>0) &\n",
    "(df['PM2.5-1 (ug/m3)']>0) &\n",
    "(df['PM2.5-2 (ug/m3)']>0) &\n",
    "(df['PM2.5_FEM_MC (ug/m3)']>0) &\n",
    "(df['PM2.5_MC (ug/m3)']>0) &\n",
    "(df['PN (#/cm3)']>0) &\n",
    "(df['PN-1 (#/cm3)']>0) &\n",
    "(df['PN-2 (#/cm3)']>0) &\n",
    "(df['Ultrafine (#/cm3)']>0)]"
   ]
  },
  {
   "cell_type": "code",
   "execution_count": 420,
   "metadata": {
    "collapsed": true
   },
   "outputs": [],
   "source": [
    "df['PM2.5_FEM_MC (ug/m3)']=df['PM2.5_FEM_MC (ug/m3)'].apply(lambda x: float(x))\n",
    "df['PM2.5_MC (ug/m3)']=df['PM2.5_MC (ug/m3)'].apply(lambda x: float(x))\n",
    "df['Ultrafine (#/cm3)']=df['Ultrafine (#/cm3)'].apply(lambda x: float(x))"
   ]
  },
  {
   "cell_type": "code",
   "execution_count": 159,
   "metadata": {
    "collapsed": false
   },
   "outputs": [
    {
     "data": {
      "text/html": [
       "<div>\n",
       "<table border=\"1\" class=\"dataframe\">\n",
       "  <thead>\n",
       "    <tr style=\"text-align: right;\">\n",
       "      <th></th>\n",
       "      <th>Datetime</th>\n",
       "      <th>PM2.5_FEM_MC (ug/m3)</th>\n",
       "      <th>PM2.5_MC (ug/m3)</th>\n",
       "      <th>Ultrafine (#/cm3)</th>\n",
       "      <th>LDSA (um2/cm3)</th>\n",
       "      <th>PN (#/cm3)</th>\n",
       "      <th>PM2.5 (ug/m3)</th>\n",
       "      <th>LDSA-1 (um2/cm3)</th>\n",
       "      <th>PN-1 (#/cm3)</th>\n",
       "      <th>PM2.5-1 (ug/m3)</th>\n",
       "      <th>LDSA-2 (um2/cm3)</th>\n",
       "      <th>PN-2 (#/cm3)</th>\n",
       "      <th>PM2.5-2 (ug/m3)</th>\n",
       "    </tr>\n",
       "  </thead>\n",
       "  <tbody>\n",
       "    <tr>\n",
       "      <th>0</th>\n",
       "      <td>2017-01-05 00:00:00</td>\n",
       "      <td>0.4</td>\n",
       "      <td>0.6</td>\n",
       "      <td>8410.0</td>\n",
       "      <td>7.685</td>\n",
       "      <td>6319.262</td>\n",
       "      <td>0.303</td>\n",
       "      <td>6.649</td>\n",
       "      <td>4858.628</td>\n",
       "      <td>0.233</td>\n",
       "      <td>6.774</td>\n",
       "      <td>5642.227</td>\n",
       "      <td>0.271</td>\n",
       "    </tr>\n",
       "    <tr>\n",
       "      <th>1</th>\n",
       "      <td>2017-01-05 00:01:00</td>\n",
       "      <td>0.4</td>\n",
       "      <td>0.6</td>\n",
       "      <td>8215.0</td>\n",
       "      <td>7.685</td>\n",
       "      <td>6319.262</td>\n",
       "      <td>0.303</td>\n",
       "      <td>6.664</td>\n",
       "      <td>4868.934</td>\n",
       "      <td>0.234</td>\n",
       "      <td>6.747</td>\n",
       "      <td>5618.536</td>\n",
       "      <td>0.270</td>\n",
       "    </tr>\n",
       "    <tr>\n",
       "      <th>2</th>\n",
       "      <td>2017-01-05 00:02:00</td>\n",
       "      <td>0.4</td>\n",
       "      <td>0.6</td>\n",
       "      <td>8365.0</td>\n",
       "      <td>7.685</td>\n",
       "      <td>6319.262</td>\n",
       "      <td>0.303</td>\n",
       "      <td>6.664</td>\n",
       "      <td>4868.934</td>\n",
       "      <td>0.234</td>\n",
       "      <td>6.747</td>\n",
       "      <td>5618.536</td>\n",
       "      <td>0.270</td>\n",
       "    </tr>\n",
       "    <tr>\n",
       "      <th>16</th>\n",
       "      <td>2017-01-05 00:16:00</td>\n",
       "      <td>0.3</td>\n",
       "      <td>0.4</td>\n",
       "      <td>7000.0</td>\n",
       "      <td>8.219</td>\n",
       "      <td>6769.342</td>\n",
       "      <td>0.325</td>\n",
       "      <td>6.322</td>\n",
       "      <td>4627.650</td>\n",
       "      <td>0.222</td>\n",
       "      <td>6.368</td>\n",
       "      <td>5313.509</td>\n",
       "      <td>0.255</td>\n",
       "    </tr>\n",
       "    <tr>\n",
       "      <th>17</th>\n",
       "      <td>2017-01-05 00:17:00</td>\n",
       "      <td>0.3</td>\n",
       "      <td>0.4</td>\n",
       "      <td>6875.0</td>\n",
       "      <td>8.219</td>\n",
       "      <td>6769.342</td>\n",
       "      <td>0.325</td>\n",
       "      <td>6.186</td>\n",
       "      <td>4528.745</td>\n",
       "      <td>0.217</td>\n",
       "      <td>6.292</td>\n",
       "      <td>5251.304</td>\n",
       "      <td>0.252</td>\n",
       "    </tr>\n",
       "  </tbody>\n",
       "</table>\n",
       "</div>"
      ],
      "text/plain": [
       "              Datetime  PM2.5_FEM_MC (ug/m3)  PM2.5_MC (ug/m3)  \\\n",
       "0  2017-01-05 00:00:00                   0.4               0.6   \n",
       "1  2017-01-05 00:01:00                   0.4               0.6   \n",
       "2  2017-01-05 00:02:00                   0.4               0.6   \n",
       "16 2017-01-05 00:16:00                   0.3               0.4   \n",
       "17 2017-01-05 00:17:00                   0.3               0.4   \n",
       "\n",
       "    Ultrafine (#/cm3)  LDSA (um2/cm3)  PN (#/cm3)  PM2.5 (ug/m3)  \\\n",
       "0              8410.0           7.685    6319.262          0.303   \n",
       "1              8215.0           7.685    6319.262          0.303   \n",
       "2              8365.0           7.685    6319.262          0.303   \n",
       "16             7000.0           8.219    6769.342          0.325   \n",
       "17             6875.0           8.219    6769.342          0.325   \n",
       "\n",
       "    LDSA-1 (um2/cm3)  PN-1 (#/cm3)  PM2.5-1 (ug/m3)  LDSA-2 (um2/cm3)  \\\n",
       "0              6.649      4858.628            0.233             6.774   \n",
       "1              6.664      4868.934            0.234             6.747   \n",
       "2              6.664      4868.934            0.234             6.747   \n",
       "16             6.322      4627.650            0.222             6.368   \n",
       "17             6.186      4528.745            0.217             6.292   \n",
       "\n",
       "    PN-2 (#/cm3)  PM2.5-2 (ug/m3)  \n",
       "0       5642.227            0.271  \n",
       "1       5618.536            0.270  \n",
       "2       5618.536            0.270  \n",
       "16      5313.509            0.255  \n",
       "17      5251.304            0.252  "
      ]
     },
     "execution_count": 159,
     "metadata": {},
     "output_type": "execute_result"
    }
   ],
   "source": [
    "df.head()"
   ]
  },
  {
   "cell_type": "code",
   "execution_count": 351,
   "metadata": {
    "collapsed": false
   },
   "outputs": [],
   "source": [
    "urban=urban.reset_index()"
   ]
  },
  {
   "cell_type": "code",
   "execution_count": 354,
   "metadata": {
    "collapsed": false
   },
   "outputs": [],
   "source": [
    "urban=urban[(urban['DateTime']>=datetime.date(2017,1,5))&(urban['DateTime']<datetime.date(2017,3,1))]\n",
    "urban=urban.reset_index()\n",
    "del urban['index']"
   ]
  },
  {
   "cell_type": "code",
   "execution_count": 356,
   "metadata": {
    "collapsed": false
   },
   "outputs": [],
   "source": [
    "del urban['LDSA (um2/cm3)'],urban['PN (#/cm3)'],urban['PM2.5 (ug/m3)']"
   ]
  },
  {
   "cell_type": "code",
   "execution_count": 358,
   "metadata": {
    "collapsed": false
   },
   "outputs": [],
   "source": [
    "del urban['PN-1 (#/cm3)'],urban['PN-2 (#/cm3)'],urban['PM2.5-1 (ug/m3)'],urban['PM2.5-2 (ug/m3)']"
   ]
  },
  {
   "cell_type": "code",
   "execution_count": 360,
   "metadata": {
    "collapsed": false
   },
   "outputs": [],
   "source": [
    "del urban['LDSA-1 (um2/cm3)']"
   ]
  },
  {
   "cell_type": "code",
   "execution_count": 362,
   "metadata": {
    "collapsed": false
   },
   "outputs": [],
   "source": [
    "urban_count=urban.groupby([urban['DateTime'].apply(lambda x: x.month),urban['DateTime'].apply(lambda x: x.day)]).count()"
   ]
  },
  {
   "cell_type": "code",
   "execution_count": 364,
   "metadata": {
    "collapsed": false
   },
   "outputs": [],
   "source": [
    "urban_count.index.names = ['month', 'day']"
   ]
  },
  {
   "cell_type": "code",
   "execution_count": 371,
   "metadata": {
    "collapsed": false
   },
   "outputs": [],
   "source": [
    "urban_count=urban_count.reset_index()"
   ]
  },
  {
   "cell_type": "code",
   "execution_count": 368,
   "metadata": {
    "collapsed": true
   },
   "outputs": [],
   "source": [
    "urban_count['date']=''"
   ]
  },
  {
   "cell_type": "code",
   "execution_count": 372,
   "metadata": {
    "collapsed": false
   },
   "outputs": [
    {
     "name": "stderr",
     "output_type": "stream",
     "text": [
      "/Users/stella/anaconda/lib/python3.5/site-packages/ipykernel/__main__.py:3: SettingWithCopyWarning: \n",
      "A value is trying to be set on a copy of a slice from a DataFrame\n",
      "\n",
      "See the caveats in the documentation: http://pandas.pydata.org/pandas-docs/stable/indexing.html#indexing-view-versus-copy\n",
      "  app.launch_new_instance()\n"
     ]
    }
   ],
   "source": [
    "for i in range(0,len(urban_count)):\n",
    "    cur_date=datetime.date(2017,urban_count['month'][i],urban_count['day'][i])\n",
    "    urban_count['date'][i]=cur_date"
   ]
  },
  {
   "cell_type": "code",
   "execution_count": 375,
   "metadata": {
    "collapsed": false
   },
   "outputs": [],
   "source": [
    "del urban_count['month'],urban_count['day']"
   ]
  },
  {
   "cell_type": "code",
   "execution_count": 377,
   "metadata": {
    "collapsed": false
   },
   "outputs": [],
   "source": [
    "del urban_count['DateTime']"
   ]
  },
  {
   "cell_type": "code",
   "execution_count": 382,
   "metadata": {
    "collapsed": false
   },
   "outputs": [
    {
     "data": {
      "text/plain": [
       "(0, 1)"
      ]
     },
     "execution_count": 382,
     "metadata": {},
     "output_type": "execute_result"
    },
    {
     "data": {
      "image/png": "[encoded data removed]",
      "text/plain": [
       "<matplotlib.figure.Figure at 0x11c5172b0>"
      ]
     },
     "metadata": {},
     "output_type": "display_data"
    }
   ],
   "source": [
    "plt.plot(urban_count['date'],urban_count['LDSA-2 (um2/cm3)']/1440,'.-')\n",
    "plt.ylim([0,1])"
   ]
  },
  {
   "cell_type": "code",
   "execution_count": null,
   "metadata": {
    "collapsed": true
   },
   "outputs": [],
   "source": []
  },
  {
   "cell_type": "code",
   "execution_count": null,
   "metadata": {
    "collapsed": true
   },
   "outputs": [],
   "source": []
  },
  {
   "cell_type": "code",
   "execution_count": null,
   "metadata": {
    "collapsed": true
   },
   "outputs": [],
   "source": []
  },
  {
   "cell_type": "code",
   "execution_count": null,
   "metadata": {
    "collapsed": true
   },
   "outputs": [],
   "source": []
  },
  {
   "cell_type": "code",
   "execution_count": null,
   "metadata": {
    "collapsed": true
   },
   "outputs": [],
   "source": []
  },
  {
   "cell_type": "code",
   "execution_count": 173,
   "metadata": {
    "collapsed": false
   },
   "outputs": [],
   "source": [
    "daily=df.groupby([df['Datetime'].apply(lambda x: x.month),df['Datetime'].apply(lambda x: x.day)]).mean()"
   ]
  },
  {
   "cell_type": "code",
   "execution_count": 174,
   "metadata": {
    "collapsed": false
   },
   "outputs": [
    {
     "data": {
      "text/html": [
       "<div>\n",
       "<table border=\"1\" class=\"dataframe\">\n",
       "  <thead>\n",
       "    <tr style=\"text-align: right;\">\n",
       "      <th></th>\n",
       "      <th></th>\n",
       "      <th>PM2.5_FEM_MC (ug/m3)</th>\n",
       "      <th>PM2.5_MC (ug/m3)</th>\n",
       "      <th>Ultrafine (#/cm3)</th>\n",
       "      <th>LDSA (um2/cm3)</th>\n",
       "      <th>PN (#/cm3)</th>\n",
       "      <th>PM2.5 (ug/m3)</th>\n",
       "      <th>LDSA-1 (um2/cm3)</th>\n",
       "      <th>PN-1 (#/cm3)</th>\n",
       "      <th>PM2.5-1 (ug/m3)</th>\n",
       "      <th>LDSA-2 (um2/cm3)</th>\n",
       "      <th>PN-2 (#/cm3)</th>\n",
       "      <th>PM2.5-2 (ug/m3)</th>\n",
       "    </tr>\n",
       "    <tr>\n",
       "      <th>Datetime</th>\n",
       "      <th>Datetime</th>\n",
       "      <th></th>\n",
       "      <th></th>\n",
       "      <th></th>\n",
       "      <th></th>\n",
       "      <th></th>\n",
       "      <th></th>\n",
       "      <th></th>\n",
       "      <th></th>\n",
       "      <th></th>\n",
       "      <th></th>\n",
       "      <th></th>\n",
       "      <th></th>\n",
       "    </tr>\n",
       "  </thead>\n",
       "  <tbody>\n",
       "    <tr>\n",
       "      <th rowspan=\"5\" valign=\"top\">1</th>\n",
       "      <th>5</th>\n",
       "      <td>5.045756</td>\n",
       "      <td>5.952952</td>\n",
       "      <td>14435.571956</td>\n",
       "      <td>18.414542</td>\n",
       "      <td>15219.329315</td>\n",
       "      <td>0.730545</td>\n",
       "      <td>16.451731</td>\n",
       "      <td>12230.657245</td>\n",
       "      <td>0.587071</td>\n",
       "      <td>16.528423</td>\n",
       "      <td>13922.157675</td>\n",
       "      <td>0.668281</td>\n",
       "    </tr>\n",
       "    <tr>\n",
       "      <th>6</th>\n",
       "      <td>7.770787</td>\n",
       "      <td>8.933216</td>\n",
       "      <td>26484.646067</td>\n",
       "      <td>32.124031</td>\n",
       "      <td>26518.546435</td>\n",
       "      <td>1.272886</td>\n",
       "      <td>31.562399</td>\n",
       "      <td>23460.140199</td>\n",
       "      <td>1.126079</td>\n",
       "      <td>30.042996</td>\n",
       "      <td>25295.531879</td>\n",
       "      <td>1.214171</td>\n",
       "    </tr>\n",
       "    <tr>\n",
       "      <th>7</th>\n",
       "      <td>5.892842</td>\n",
       "      <td>6.870049</td>\n",
       "      <td>11457.748436</td>\n",
       "      <td>21.880371</td>\n",
       "      <td>18043.211771</td>\n",
       "      <td>0.866051</td>\n",
       "      <td>21.463685</td>\n",
       "      <td>16100.999698</td>\n",
       "      <td>0.772842</td>\n",
       "      <td>20.141753</td>\n",
       "      <td>17066.103185</td>\n",
       "      <td>0.819165</td>\n",
       "    </tr>\n",
       "    <tr>\n",
       "      <th>8</th>\n",
       "      <td>5.008222</td>\n",
       "      <td>5.907283</td>\n",
       "      <td>17781.534847</td>\n",
       "      <td>22.469759</td>\n",
       "      <td>18535.636573</td>\n",
       "      <td>0.889713</td>\n",
       "      <td>24.862926</td>\n",
       "      <td>18672.276890</td>\n",
       "      <td>0.896259</td>\n",
       "      <td>21.020603</td>\n",
       "      <td>17764.601557</td>\n",
       "      <td>0.852701</td>\n",
       "    </tr>\n",
       "    <tr>\n",
       "      <th>9</th>\n",
       "      <td>5.330213</td>\n",
       "      <td>6.242199</td>\n",
       "      <td>24773.262411</td>\n",
       "      <td>39.979660</td>\n",
       "      <td>33010.235552</td>\n",
       "      <td>1.584459</td>\n",
       "      <td>40.841777</td>\n",
       "      <td>30579.735018</td>\n",
       "      <td>1.467826</td>\n",
       "      <td>39.738922</td>\n",
       "      <td>33718.990271</td>\n",
       "      <td>1.618503</td>\n",
       "    </tr>\n",
       "  </tbody>\n",
       "</table>\n",
       "</div>"
      ],
      "text/plain": [
       "                   PM2.5_FEM_MC (ug/m3)  PM2.5_MC (ug/m3)  Ultrafine (#/cm3)  \\\n",
       "Datetime Datetime                                                              \n",
       "1        5                     5.045756          5.952952       14435.571956   \n",
       "         6                     7.770787          8.933216       26484.646067   \n",
       "         7                     5.892842          6.870049       11457.748436   \n",
       "         8                     5.008222          5.907283       17781.534847   \n",
       "         9                     5.330213          6.242199       24773.262411   \n",
       "\n",
       "                   LDSA (um2/cm3)    PN (#/cm3)  PM2.5 (ug/m3)  \\\n",
       "Datetime Datetime                                                \n",
       "1        5              18.414542  15219.329315       0.730545   \n",
       "         6              32.124031  26518.546435       1.272886   \n",
       "         7              21.880371  18043.211771       0.866051   \n",
       "         8              22.469759  18535.636573       0.889713   \n",
       "         9              39.979660  33010.235552       1.584459   \n",
       "\n",
       "                   LDSA-1 (um2/cm3)  PN-1 (#/cm3)  PM2.5-1 (ug/m3)  \\\n",
       "Datetime Datetime                                                    \n",
       "1        5                16.451731  12230.657245         0.587071   \n",
       "         6                31.562399  23460.140199         1.126079   \n",
       "         7                21.463685  16100.999698         0.772842   \n",
       "         8                24.862926  18672.276890         0.896259   \n",
       "         9                40.841777  30579.735018         1.467826   \n",
       "\n",
       "                   LDSA-2 (um2/cm3)  PN-2 (#/cm3)  PM2.5-2 (ug/m3)  \n",
       "Datetime Datetime                                                   \n",
       "1        5                16.528423  13922.157675         0.668281  \n",
       "         6                30.042996  25295.531879         1.214171  \n",
       "         7                20.141753  17066.103185         0.819165  \n",
       "         8                21.020603  17764.601557         0.852701  \n",
       "         9                39.738922  33718.990271         1.618503  "
      ]
     },
     "execution_count": 174,
     "metadata": {},
     "output_type": "execute_result"
    }
   ],
   "source": [
    "daily.head()"
   ]
  },
  {
   "cell_type": "code",
   "execution_count": 175,
   "metadata": {
    "collapsed": false
   },
   "outputs": [],
   "source": [
    "daily.index.names = ['month', 'day']"
   ]
  },
  {
   "cell_type": "code",
   "execution_count": 176,
   "metadata": {
    "collapsed": false
   },
   "outputs": [],
   "source": [
    "daily=daily.reset_index()"
   ]
  },
  {
   "cell_type": "code",
   "execution_count": 177,
   "metadata": {
    "collapsed": false,
    "scrolled": true
   },
   "outputs": [
    {
     "data": {
      "text/html": [
       "<div>\n",
       "<table border=\"1\" class=\"dataframe\">\n",
       "  <thead>\n",
       "    <tr style=\"text-align: right;\">\n",
       "      <th></th>\n",
       "      <th>month</th>\n",
       "      <th>day</th>\n",
       "      <th>PM2.5_FEM_MC (ug/m3)</th>\n",
       "      <th>PM2.5_MC (ug/m3)</th>\n",
       "      <th>Ultrafine (#/cm3)</th>\n",
       "      <th>LDSA (um2/cm3)</th>\n",
       "      <th>PN (#/cm3)</th>\n",
       "      <th>PM2.5 (ug/m3)</th>\n",
       "      <th>LDSA-1 (um2/cm3)</th>\n",
       "      <th>PN-1 (#/cm3)</th>\n",
       "      <th>PM2.5-1 (ug/m3)</th>\n",
       "      <th>LDSA-2 (um2/cm3)</th>\n",
       "      <th>PN-2 (#/cm3)</th>\n",
       "      <th>PM2.5-2 (ug/m3)</th>\n",
       "    </tr>\n",
       "  </thead>\n",
       "  <tbody>\n",
       "    <tr>\n",
       "      <th>0</th>\n",
       "      <td>1</td>\n",
       "      <td>5</td>\n",
       "      <td>5.045756</td>\n",
       "      <td>5.952952</td>\n",
       "      <td>14435.571956</td>\n",
       "      <td>18.414542</td>\n",
       "      <td>15219.329315</td>\n",
       "      <td>0.730545</td>\n",
       "      <td>16.451731</td>\n",
       "      <td>12230.657245</td>\n",
       "      <td>0.587071</td>\n",
       "      <td>16.528423</td>\n",
       "      <td>13922.157675</td>\n",
       "      <td>0.668281</td>\n",
       "    </tr>\n",
       "    <tr>\n",
       "      <th>1</th>\n",
       "      <td>1</td>\n",
       "      <td>6</td>\n",
       "      <td>7.770787</td>\n",
       "      <td>8.933216</td>\n",
       "      <td>26484.646067</td>\n",
       "      <td>32.124031</td>\n",
       "      <td>26518.546435</td>\n",
       "      <td>1.272886</td>\n",
       "      <td>31.562399</td>\n",
       "      <td>23460.140199</td>\n",
       "      <td>1.126079</td>\n",
       "      <td>30.042996</td>\n",
       "      <td>25295.531879</td>\n",
       "      <td>1.214171</td>\n",
       "    </tr>\n",
       "    <tr>\n",
       "      <th>2</th>\n",
       "      <td>1</td>\n",
       "      <td>7</td>\n",
       "      <td>5.892842</td>\n",
       "      <td>6.870049</td>\n",
       "      <td>11457.748436</td>\n",
       "      <td>21.880371</td>\n",
       "      <td>18043.211771</td>\n",
       "      <td>0.866051</td>\n",
       "      <td>21.463685</td>\n",
       "      <td>16100.999698</td>\n",
       "      <td>0.772842</td>\n",
       "      <td>20.141753</td>\n",
       "      <td>17066.103185</td>\n",
       "      <td>0.819165</td>\n",
       "    </tr>\n",
       "    <tr>\n",
       "      <th>3</th>\n",
       "      <td>1</td>\n",
       "      <td>8</td>\n",
       "      <td>5.008222</td>\n",
       "      <td>5.907283</td>\n",
       "      <td>17781.534847</td>\n",
       "      <td>22.469759</td>\n",
       "      <td>18535.636573</td>\n",
       "      <td>0.889713</td>\n",
       "      <td>24.862926</td>\n",
       "      <td>18672.276890</td>\n",
       "      <td>0.896259</td>\n",
       "      <td>21.020603</td>\n",
       "      <td>17764.601557</td>\n",
       "      <td>0.852701</td>\n",
       "    </tr>\n",
       "    <tr>\n",
       "      <th>4</th>\n",
       "      <td>1</td>\n",
       "      <td>9</td>\n",
       "      <td>5.330213</td>\n",
       "      <td>6.242199</td>\n",
       "      <td>24773.262411</td>\n",
       "      <td>39.979660</td>\n",
       "      <td>33010.235552</td>\n",
       "      <td>1.584459</td>\n",
       "      <td>40.841777</td>\n",
       "      <td>30579.735018</td>\n",
       "      <td>1.467826</td>\n",
       "      <td>39.738922</td>\n",
       "      <td>33718.990271</td>\n",
       "      <td>1.618503</td>\n",
       "    </tr>\n",
       "  </tbody>\n",
       "</table>\n",
       "</div>"
      ],
      "text/plain": [
       "   month  day  PM2.5_FEM_MC (ug/m3)  PM2.5_MC (ug/m3)  Ultrafine (#/cm3)  \\\n",
       "0      1    5              5.045756          5.952952       14435.571956   \n",
       "1      1    6              7.770787          8.933216       26484.646067   \n",
       "2      1    7              5.892842          6.870049       11457.748436   \n",
       "3      1    8              5.008222          5.907283       17781.534847   \n",
       "4      1    9              5.330213          6.242199       24773.262411   \n",
       "\n",
       "   LDSA (um2/cm3)    PN (#/cm3)  PM2.5 (ug/m3)  LDSA-1 (um2/cm3)  \\\n",
       "0       18.414542  15219.329315       0.730545         16.451731   \n",
       "1       32.124031  26518.546435       1.272886         31.562399   \n",
       "2       21.880371  18043.211771       0.866051         21.463685   \n",
       "3       22.469759  18535.636573       0.889713         24.862926   \n",
       "4       39.979660  33010.235552       1.584459         40.841777   \n",
       "\n",
       "   PN-1 (#/cm3)  PM2.5-1 (ug/m3)  LDSA-2 (um2/cm3)  PN-2 (#/cm3)  \\\n",
       "0  12230.657245         0.587071         16.528423  13922.157675   \n",
       "1  23460.140199         1.126079         30.042996  25295.531879   \n",
       "2  16100.999698         0.772842         20.141753  17066.103185   \n",
       "3  18672.276890         0.896259         21.020603  17764.601557   \n",
       "4  30579.735018         1.467826         39.738922  33718.990271   \n",
       "\n",
       "   PM2.5-2 (ug/m3)  \n",
       "0         0.668281  \n",
       "1         1.214171  \n",
       "2         0.819165  \n",
       "3         0.852701  \n",
       "4         1.618503  "
      ]
     },
     "execution_count": 177,
     "metadata": {},
     "output_type": "execute_result"
    }
   ],
   "source": [
    "daily.head()"
   ]
  },
  {
   "cell_type": "code",
   "execution_count": 178,
   "metadata": {
    "collapsed": false
   },
   "outputs": [],
   "source": [
    "daily['date']=''"
   ]
  },
  {
   "cell_type": "code",
   "execution_count": 179,
   "metadata": {
    "collapsed": false
   },
   "outputs": [
    {
     "name": "stderr",
     "output_type": "stream",
     "text": [
      "/Users/stella/anaconda/lib/python3.5/site-packages/ipykernel/__main__.py:3: SettingWithCopyWarning: \n",
      "A value is trying to be set on a copy of a slice from a DataFrame\n",
      "\n",
      "See the caveats in the documentation: http://pandas.pydata.org/pandas-docs/stable/indexing.html#indexing-view-versus-copy\n",
      "  app.launch_new_instance()\n"
     ]
    }
   ],
   "source": [
    "for i in range(0,len(daily)):\n",
    "    cur_date=datetime.date(2017,daily['month'][i],daily['day'][i])\n",
    "    daily['date'][i]=cur_date"
   ]
  },
  {
   "cell_type": "code",
   "execution_count": 180,
   "metadata": {
    "collapsed": false
   },
   "outputs": [
    {
     "data": {
      "text/html": [
       "<div>\n",
       "<table border=\"1\" class=\"dataframe\">\n",
       "  <thead>\n",
       "    <tr style=\"text-align: right;\">\n",
       "      <th></th>\n",
       "      <th>month</th>\n",
       "      <th>day</th>\n",
       "      <th>PM2.5_FEM_MC (ug/m3)</th>\n",
       "      <th>PM2.5_MC (ug/m3)</th>\n",
       "      <th>Ultrafine (#/cm3)</th>\n",
       "      <th>LDSA (um2/cm3)</th>\n",
       "      <th>PN (#/cm3)</th>\n",
       "      <th>PM2.5 (ug/m3)</th>\n",
       "      <th>LDSA-1 (um2/cm3)</th>\n",
       "      <th>PN-1 (#/cm3)</th>\n",
       "      <th>PM2.5-1 (ug/m3)</th>\n",
       "      <th>LDSA-2 (um2/cm3)</th>\n",
       "      <th>PN-2 (#/cm3)</th>\n",
       "      <th>PM2.5-2 (ug/m3)</th>\n",
       "      <th>date</th>\n",
       "    </tr>\n",
       "  </thead>\n",
       "  <tbody>\n",
       "    <tr>\n",
       "      <th>0</th>\n",
       "      <td>1</td>\n",
       "      <td>5</td>\n",
       "      <td>5.045756</td>\n",
       "      <td>5.952952</td>\n",
       "      <td>14435.571956</td>\n",
       "      <td>18.414542</td>\n",
       "      <td>15219.329315</td>\n",
       "      <td>0.730545</td>\n",
       "      <td>16.451731</td>\n",
       "      <td>12230.657245</td>\n",
       "      <td>0.587071</td>\n",
       "      <td>16.528423</td>\n",
       "      <td>13922.157675</td>\n",
       "      <td>0.668281</td>\n",
       "      <td>2017-01-05</td>\n",
       "    </tr>\n",
       "    <tr>\n",
       "      <th>1</th>\n",
       "      <td>1</td>\n",
       "      <td>6</td>\n",
       "      <td>7.770787</td>\n",
       "      <td>8.933216</td>\n",
       "      <td>26484.646067</td>\n",
       "      <td>32.124031</td>\n",
       "      <td>26518.546435</td>\n",
       "      <td>1.272886</td>\n",
       "      <td>31.562399</td>\n",
       "      <td>23460.140199</td>\n",
       "      <td>1.126079</td>\n",
       "      <td>30.042996</td>\n",
       "      <td>25295.531879</td>\n",
       "      <td>1.214171</td>\n",
       "      <td>2017-01-06</td>\n",
       "    </tr>\n",
       "    <tr>\n",
       "      <th>2</th>\n",
       "      <td>1</td>\n",
       "      <td>7</td>\n",
       "      <td>5.892842</td>\n",
       "      <td>6.870049</td>\n",
       "      <td>11457.748436</td>\n",
       "      <td>21.880371</td>\n",
       "      <td>18043.211771</td>\n",
       "      <td>0.866051</td>\n",
       "      <td>21.463685</td>\n",
       "      <td>16100.999698</td>\n",
       "      <td>0.772842</td>\n",
       "      <td>20.141753</td>\n",
       "      <td>17066.103185</td>\n",
       "      <td>0.819165</td>\n",
       "      <td>2017-01-07</td>\n",
       "    </tr>\n",
       "    <tr>\n",
       "      <th>3</th>\n",
       "      <td>1</td>\n",
       "      <td>8</td>\n",
       "      <td>5.008222</td>\n",
       "      <td>5.907283</td>\n",
       "      <td>17781.534847</td>\n",
       "      <td>22.469759</td>\n",
       "      <td>18535.636573</td>\n",
       "      <td>0.889713</td>\n",
       "      <td>24.862926</td>\n",
       "      <td>18672.276890</td>\n",
       "      <td>0.896259</td>\n",
       "      <td>21.020603</td>\n",
       "      <td>17764.601557</td>\n",
       "      <td>0.852701</td>\n",
       "      <td>2017-01-08</td>\n",
       "    </tr>\n",
       "    <tr>\n",
       "      <th>4</th>\n",
       "      <td>1</td>\n",
       "      <td>9</td>\n",
       "      <td>5.330213</td>\n",
       "      <td>6.242199</td>\n",
       "      <td>24773.262411</td>\n",
       "      <td>39.979660</td>\n",
       "      <td>33010.235552</td>\n",
       "      <td>1.584459</td>\n",
       "      <td>40.841777</td>\n",
       "      <td>30579.735018</td>\n",
       "      <td>1.467826</td>\n",
       "      <td>39.738922</td>\n",
       "      <td>33718.990271</td>\n",
       "      <td>1.618503</td>\n",
       "      <td>2017-01-09</td>\n",
       "    </tr>\n",
       "  </tbody>\n",
       "</table>\n",
       "</div>"
      ],
      "text/plain": [
       "   month  day  PM2.5_FEM_MC (ug/m3)  PM2.5_MC (ug/m3)  Ultrafine (#/cm3)  \\\n",
       "0      1    5              5.045756          5.952952       14435.571956   \n",
       "1      1    6              7.770787          8.933216       26484.646067   \n",
       "2      1    7              5.892842          6.870049       11457.748436   \n",
       "3      1    8              5.008222          5.907283       17781.534847   \n",
       "4      1    9              5.330213          6.242199       24773.262411   \n",
       "\n",
       "   LDSA (um2/cm3)    PN (#/cm3)  PM2.5 (ug/m3)  LDSA-1 (um2/cm3)  \\\n",
       "0       18.414542  15219.329315       0.730545         16.451731   \n",
       "1       32.124031  26518.546435       1.272886         31.562399   \n",
       "2       21.880371  18043.211771       0.866051         21.463685   \n",
       "3       22.469759  18535.636573       0.889713         24.862926   \n",
       "4       39.979660  33010.235552       1.584459         40.841777   \n",
       "\n",
       "   PN-1 (#/cm3)  PM2.5-1 (ug/m3)  LDSA-2 (um2/cm3)  PN-2 (#/cm3)  \\\n",
       "0  12230.657245         0.587071         16.528423  13922.157675   \n",
       "1  23460.140199         1.126079         30.042996  25295.531879   \n",
       "2  16100.999698         0.772842         20.141753  17066.103185   \n",
       "3  18672.276890         0.896259         21.020603  17764.601557   \n",
       "4  30579.735018         1.467826         39.738922  33718.990271   \n",
       "\n",
       "   PM2.5-2 (ug/m3)        date  \n",
       "0         0.668281  2017-01-05  \n",
       "1         1.214171  2017-01-06  \n",
       "2         0.819165  2017-01-07  \n",
       "3         0.852701  2017-01-08  \n",
       "4         1.618503  2017-01-09  "
      ]
     },
     "execution_count": 180,
     "metadata": {},
     "output_type": "execute_result"
    }
   ],
   "source": [
    "daily.head()"
   ]
  },
  {
   "cell_type": "code",
   "execution_count": 181,
   "metadata": {
    "collapsed": true
   },
   "outputs": [],
   "source": [
    "daily2=daily.copy(False)"
   ]
  },
  {
   "cell_type": "code",
   "execution_count": 182,
   "metadata": {
    "collapsed": false
   },
   "outputs": [],
   "source": [
    "del daily2['month'],daily2['day'],daily2['LDSA (um2/cm3)'],daily2['PN (#/cm3)'],daily2['PM2.5 (ug/m3)']"
   ]
  },
  {
   "cell_type": "code",
   "execution_count": 202,
   "metadata": {
    "collapsed": true
   },
   "outputs": [],
   "source": [
    "del daily2['LDSA-1 (um2/cm3)'],daily2['LDSA-2 (um2/cm3)']"
   ]
  },
  {
   "cell_type": "code",
   "execution_count": 203,
   "metadata": {
    "collapsed": false
   },
   "outputs": [
    {
     "data": {
      "text/html": [
       "<div>\n",
       "<table border=\"1\" class=\"dataframe\">\n",
       "  <thead>\n",
       "    <tr style=\"text-align: right;\">\n",
       "      <th></th>\n",
       "      <th>PM2.5_FEM_MC (ug/m3)</th>\n",
       "      <th>PM2.5_MC (ug/m3)</th>\n",
       "      <th>Ultrafine (#/cm3)</th>\n",
       "      <th>PN-1 (#/cm3)</th>\n",
       "      <th>PM2.5-1 (ug/m3)</th>\n",
       "      <th>PN-2 (#/cm3)</th>\n",
       "      <th>PM2.5-2 (ug/m3)</th>\n",
       "      <th>date</th>\n",
       "    </tr>\n",
       "  </thead>\n",
       "  <tbody>\n",
       "    <tr>\n",
       "      <th>0</th>\n",
       "      <td>5.045756</td>\n",
       "      <td>5.952952</td>\n",
       "      <td>14435.571956</td>\n",
       "      <td>12230.657245</td>\n",
       "      <td>0.587071</td>\n",
       "      <td>13922.157675</td>\n",
       "      <td>0.668281</td>\n",
       "      <td>2017-01-05</td>\n",
       "    </tr>\n",
       "    <tr>\n",
       "      <th>1</th>\n",
       "      <td>7.770787</td>\n",
       "      <td>8.933216</td>\n",
       "      <td>26484.646067</td>\n",
       "      <td>23460.140199</td>\n",
       "      <td>1.126079</td>\n",
       "      <td>25295.531879</td>\n",
       "      <td>1.214171</td>\n",
       "      <td>2017-01-06</td>\n",
       "    </tr>\n",
       "    <tr>\n",
       "      <th>2</th>\n",
       "      <td>5.892842</td>\n",
       "      <td>6.870049</td>\n",
       "      <td>11457.748436</td>\n",
       "      <td>16100.999698</td>\n",
       "      <td>0.772842</td>\n",
       "      <td>17066.103185</td>\n",
       "      <td>0.819165</td>\n",
       "      <td>2017-01-07</td>\n",
       "    </tr>\n",
       "    <tr>\n",
       "      <th>3</th>\n",
       "      <td>5.008222</td>\n",
       "      <td>5.907283</td>\n",
       "      <td>17781.534847</td>\n",
       "      <td>18672.276890</td>\n",
       "      <td>0.896259</td>\n",
       "      <td>17764.601557</td>\n",
       "      <td>0.852701</td>\n",
       "      <td>2017-01-08</td>\n",
       "    </tr>\n",
       "    <tr>\n",
       "      <th>4</th>\n",
       "      <td>5.330213</td>\n",
       "      <td>6.242199</td>\n",
       "      <td>24773.262411</td>\n",
       "      <td>30579.735018</td>\n",
       "      <td>1.467826</td>\n",
       "      <td>33718.990271</td>\n",
       "      <td>1.618503</td>\n",
       "      <td>2017-01-09</td>\n",
       "    </tr>\n",
       "  </tbody>\n",
       "</table>\n",
       "</div>"
      ],
      "text/plain": [
       "   PM2.5_FEM_MC (ug/m3)  PM2.5_MC (ug/m3)  Ultrafine (#/cm3)  PN-1 (#/cm3)  \\\n",
       "0              5.045756          5.952952       14435.571956  12230.657245   \n",
       "1              7.770787          8.933216       26484.646067  23460.140199   \n",
       "2              5.892842          6.870049       11457.748436  16100.999698   \n",
       "3              5.008222          5.907283       17781.534847  18672.276890   \n",
       "4              5.330213          6.242199       24773.262411  30579.735018   \n",
       "\n",
       "   PM2.5-1 (ug/m3)  PN-2 (#/cm3)  PM2.5-2 (ug/m3)        date  \n",
       "0         0.587071  13922.157675         0.668281  2017-01-05  \n",
       "1         1.126079  25295.531879         1.214171  2017-01-06  \n",
       "2         0.772842  17066.103185         0.819165  2017-01-07  \n",
       "3         0.896259  17764.601557         0.852701  2017-01-08  \n",
       "4         1.467826  33718.990271         1.618503  2017-01-09  "
      ]
     },
     "execution_count": 203,
     "metadata": {},
     "output_type": "execute_result"
    }
   ],
   "source": [
    "daily2.head()"
   ]
  },
  {
   "cell_type": "code",
   "execution_count": 250,
   "metadata": {
    "collapsed": false
   },
   "outputs": [
    {
     "name": "stdout",
     "output_type": "stream",
     "text": [
      "r-squared: 0.499699461588\n",
      "y = 0.06x + 0.49\n",
      "7.551292393655115\n"
     ]
    },
    {
     "data": {
      "image/png": "[encoded data removed]",
      "text/plain": [
       "<matplotlib.figure.Figure at 0x11b863b00>"
      ]
     },
     "metadata": {},
     "output_type": "display_data"
    }
   ],
   "source": [
    "x=daily2['PM2.5_FEM_MC (ug/m3)']\n",
    "y=daily2['PM2.5-1 (ug/m3)']\n",
    "slope, intercept, r_value, p_value, std_err = stats.linregress(x,y)\n",
    "print(\"r-squared:\", r_value**2)\n",
    "print('y = %sx + %s' % (round(slope,2),round(intercept,2)))\n",
    "plt.figure(figsize=(5,5))\n",
    "plt.xlim(0,20)\n",
    "plt.ylim(0,20)\n",
    "plt.scatter(x,y*(x/y).mean())\n",
    "plt.plot([0,20], [0, 20], color='k', linestyle='-', linewidth=0.5)\n",
    "\n",
    "print((x/y).mean())"
   ]
  },
  {
   "cell_type": "code",
   "execution_count": 252,
   "metadata": {
    "collapsed": false
   },
   "outputs": [
    {
     "name": "stdout",
     "output_type": "stream",
     "text": [
      "r-squared: 0.508238477733\n",
      "y = 0.08x + 0.55\n",
      "6.302404483951551\n"
     ]
    },
    {
     "data": {
      "text/plain": [
       "[<matplotlib.lines.Line2D at 0x11ca17358>]"
      ]
     },
     "execution_count": 252,
     "metadata": {},
     "output_type": "execute_result"
    },
    {
     "data": {
      "image/png": "[encoded data removed]",
      "text/plain": [
       "<matplotlib.figure.Figure at 0x11b2fdc50>"
      ]
     },
     "metadata": {},
     "output_type": "display_data"
    }
   ],
   "source": [
    "x=daily2['PM2.5_FEM_MC (ug/m3)']\n",
    "y=daily2['PM2.5-2 (ug/m3)']\n",
    "slope, intercept, r_value, p_value, std_err = stats.linregress(x,y)\n",
    "print(\"r-squared:\", r_value**2)\n",
    "print('y = %sx + %s' % (round(slope,2),round(intercept,2)))\n",
    "plt.figure(figsize=(5,5))\n",
    "plt.xlim(0,20)\n",
    "plt.ylim(0,20)\n",
    "plt.scatter(x,y*(x/y).mean())\n",
    "print((x/y).mean())\n",
    "plt.plot([0,20], [0, 20], color='k', linestyle='-', linewidth=0.5)"
   ]
  },
  {
   "cell_type": "code",
   "execution_count": 225,
   "metadata": {
    "collapsed": false
   },
   "outputs": [
    {
     "name": "stdout",
     "output_type": "stream",
     "text": [
      "r-squared: 0.278403680052\n",
      "y = 0.67x + 6780.28\n"
     ]
    },
    {
     "data": {
      "text/plain": [
       "[<matplotlib.lines.Line2D at 0x11d53e828>]"
      ]
     },
     "execution_count": 225,
     "metadata": {},
     "output_type": "execute_result"
    },
    {
     "data": {
      "image/png": "[encoded data removed]",
      "text/plain": [
       "<matplotlib.figure.Figure at 0x11c7f08d0>"
      ]
     },
     "metadata": {},
     "output_type": "display_data"
    }
   ],
   "source": [
    "x=daily2['Ultrafine (#/cm3)']\n",
    "y=daily2['PN-1 (#/cm3)']\n",
    "slope, intercept, r_value, p_value, std_err = stats.linregress(x,y)\n",
    "print(\"r-squared:\", r_value**2)\n",
    "print('y = %sx + %s' % (round(slope,2),round(intercept,2)))\n",
    "plt.figure(figsize=(5,5))\n",
    "plt.xlim(0,40000)\n",
    "plt.ylim(0,40000)\n",
    "plt.scatter(x,y)\n",
    "plt.plot([0,40000], [0, 40000], color='k', linestyle='-', linewidth=0.5)"
   ]
  },
  {
   "cell_type": "code",
   "execution_count": 226,
   "metadata": {
    "collapsed": false
   },
   "outputs": [
    {
     "name": "stdout",
     "output_type": "stream",
     "text": [
      "r-squared: 0.258610041712\n",
      "y = 0.83x + 7668.6\n"
     ]
    },
    {
     "data": {
      "text/plain": [
       "[<matplotlib.lines.Line2D at 0x11bc8a8d0>]"
      ]
     },
     "execution_count": 226,
     "metadata": {},
     "output_type": "execute_result"
    },
    {
     "data": {
      "image/png": "[encoded data removed]",
      "text/plain": [
       "<matplotlib.figure.Figure at 0x11c78f3c8>"
      ]
     },
     "metadata": {},
     "output_type": "display_data"
    }
   ],
   "source": [
    "x=daily2['Ultrafine (#/cm3)']\n",
    "y=daily2['PN-2 (#/cm3)']\n",
    "slope, intercept, r_value, p_value, std_err = stats.linregress(x,y)\n",
    "print(\"r-squared:\", r_value**2)\n",
    "print('y = %sx + %s' % (round(slope,2),round(intercept,2)))\n",
    "plt.figure(figsize=(5,5))\n",
    "plt.xlim(0,55000)\n",
    "plt.ylim(0,55000)\n",
    "plt.scatter(x,y)\n",
    "plt.plot([0,55000], [0, 55000], color='k', linestyle='-', linewidth=0.5)"
   ]
  },
  {
   "cell_type": "code",
   "execution_count": null,
   "metadata": {
    "collapsed": true
   },
   "outputs": [],
   "source": []
  },
  {
   "cell_type": "code",
   "execution_count": null,
   "metadata": {
    "collapsed": true
   },
   "outputs": [],
   "source": []
  },
  {
   "cell_type": "code",
   "execution_count": 254,
   "metadata": {
    "collapsed": false
   },
   "outputs": [],
   "source": [
    "df2=df.copy(False)"
   ]
  },
  {
   "cell_type": "code",
   "execution_count": 256,
   "metadata": {
    "collapsed": false
   },
   "outputs": [],
   "source": [
    "del df2['LDSA (um2/cm3)'], df2['PN (#/cm3)'], df2['PM2.5 (ug/m3)']"
   ]
  },
  {
   "cell_type": "code",
   "execution_count": 258,
   "metadata": {
    "collapsed": false
   },
   "outputs": [],
   "source": [
    "del df2['LDSA-2 (um2/cm3)'], df2['PN-2 (#/cm3)'], df2['PM2.5-2 (ug/m3)']"
   ]
  },
  {
   "cell_type": "code",
   "execution_count": 260,
   "metadata": {
    "collapsed": false
   },
   "outputs": [],
   "source": [
    "del df2['LDSA-1 (um2/cm3)']"
   ]
  },
  {
   "cell_type": "code",
   "execution_count": null,
   "metadata": {
    "collapsed": false
   },
   "outputs": [],
   "source": []
  },
  {
   "cell_type": "code",
   "execution_count": 265,
   "metadata": {
    "collapsed": false
   },
   "outputs": [],
   "source": [
    "df_count=df2.groupby([df['Datetime'].apply(lambda x: x.month),df['Datetime'].apply(lambda x: x.day)]).count()"
   ]
  },
  {
   "cell_type": "code",
   "execution_count": 267,
   "metadata": {
    "collapsed": false
   },
   "outputs": [],
   "source": [
    "df_count.index.names = ['month', 'day']"
   ]
  },
  {
   "cell_type": "code",
   "execution_count": 270,
   "metadata": {
    "collapsed": false
   },
   "outputs": [],
   "source": [
    "df_count=df_count.reset_index()"
   ]
  },
  {
   "cell_type": "code",
   "execution_count": 272,
   "metadata": {
    "collapsed": false
   },
   "outputs": [],
   "source": [
    "del df_count['PM2.5-1 (ug/m3)'],df_count['PM2.5_FEM_MC (ug/m3)'],df2['Ultrafine (#/cm3)']"
   ]
  },
  {
   "cell_type": "code",
   "execution_count": 274,
   "metadata": {
    "collapsed": false
   },
   "outputs": [],
   "source": [
    "del df_count['PM2.5_MC (ug/m3)'],df_count['PN-1 (#/cm3)']"
   ]
  },
  {
   "cell_type": "code",
   "execution_count": 276,
   "metadata": {
    "collapsed": false
   },
   "outputs": [],
   "source": [
    "del df_count['Ultrafine (#/cm3)']"
   ]
  },
  {
   "cell_type": "code",
   "execution_count": 279,
   "metadata": {
    "collapsed": true
   },
   "outputs": [],
   "source": [
    "df_count['date']=''"
   ]
  },
  {
   "cell_type": "code",
   "execution_count": 280,
   "metadata": {
    "collapsed": false
   },
   "outputs": [
    {
     "name": "stderr",
     "output_type": "stream",
     "text": [
      "/Users/stella/anaconda/lib/python3.5/site-packages/ipykernel/__main__.py:3: SettingWithCopyWarning: \n",
      "A value is trying to be set on a copy of a slice from a DataFrame\n",
      "\n",
      "See the caveats in the documentation: http://pandas.pydata.org/pandas-docs/stable/indexing.html#indexing-view-versus-copy\n",
      "  app.launch_new_instance()\n"
     ]
    }
   ],
   "source": [
    "for i in range(0,len(df_count)):\n",
    "    cur_date=datetime.date(2017,df_count['month'][i],df_count['day'][i])\n",
    "    df_count['date'][i]=cur_date"
   ]
  },
  {
   "cell_type": "code",
   "execution_count": 282,
   "metadata": {
    "collapsed": false
   },
   "outputs": [],
   "source": [
    "del df_count['month'],df_count['day']"
   ]
  },
  {
   "cell_type": "code",
   "execution_count": 284,
   "metadata": {
    "collapsed": false
   },
   "outputs": [],
   "source": [
    "df_count['pct']=df_count['Datetime']/1440"
   ]
  },
  {
   "cell_type": "code",
   "execution_count": 336,
   "metadata": {
    "collapsed": false
   },
   "outputs": [
    {
     "data": {
      "text/plain": [
       "[<matplotlib.lines.Line2D at 0x11a2fe358>]"
      ]
     },
     "execution_count": 336,
     "metadata": {},
     "output_type": "execute_result"
    },
    {
     "data": {
      "image/png": "[encoded data removed]",
      "text/plain": [
       "<matplotlib.figure.Figure at 0x11a2e9e48>"
      ]
     },
     "metadata": {},
     "output_type": "display_data"
    }
   ],
   "source": [
    "plt.plot(df_count['date'],df_count['pct'],'.-')\n",
    "#plt.ylim([0,1])"
   ]
  },
  {
   "cell_type": "code",
   "execution_count": 297,
   "metadata": {
    "collapsed": false
   },
   "outputs": [],
   "source": [
    "daily2['pct']=df_count['pct']"
   ]
  },
  {
   "cell_type": "code",
   "execution_count": null,
   "metadata": {
    "collapsed": true
   },
   "outputs": [],
   "source": []
  },
  {
   "cell_type": "code",
   "execution_count": 342,
   "metadata": {
    "collapsed": false
   },
   "outputs": [
    {
     "data": {
      "text/html": [
       "<div>\n",
       "<table border=\"1\" class=\"dataframe\">\n",
       "  <thead>\n",
       "    <tr style=\"text-align: right;\">\n",
       "      <th></th>\n",
       "      <th>PM2.5_FEM_MC (ug/m3)</th>\n",
       "      <th>PM2.5_MC (ug/m3)</th>\n",
       "      <th>Ultrafine (#/cm3)</th>\n",
       "      <th>PN-1 (#/cm3)</th>\n",
       "      <th>PM2.5-1 (ug/m3)</th>\n",
       "      <th>PN-2 (#/cm3)</th>\n",
       "      <th>PM2.5-2 (ug/m3)</th>\n",
       "      <th>date</th>\n",
       "      <th>pct</th>\n",
       "    </tr>\n",
       "  </thead>\n",
       "  <tbody>\n",
       "    <tr>\n",
       "      <th>0</th>\n",
       "      <td>5.045756</td>\n",
       "      <td>5.952952</td>\n",
       "      <td>14435.571956</td>\n",
       "      <td>12230.657245</td>\n",
       "      <td>0.587071</td>\n",
       "      <td>13922.157675</td>\n",
       "      <td>0.668281</td>\n",
       "      <td>2017-01-05</td>\n",
       "      <td>0.752778</td>\n",
       "    </tr>\n",
       "    <tr>\n",
       "      <th>1</th>\n",
       "      <td>7.770787</td>\n",
       "      <td>8.933216</td>\n",
       "      <td>26484.646067</td>\n",
       "      <td>23460.140199</td>\n",
       "      <td>1.126079</td>\n",
       "      <td>25295.531879</td>\n",
       "      <td>1.214171</td>\n",
       "      <td>2017-01-06</td>\n",
       "      <td>0.988889</td>\n",
       "    </tr>\n",
       "    <tr>\n",
       "      <th>2</th>\n",
       "      <td>5.892842</td>\n",
       "      <td>6.870049</td>\n",
       "      <td>11457.748436</td>\n",
       "      <td>16100.999698</td>\n",
       "      <td>0.772842</td>\n",
       "      <td>17066.103185</td>\n",
       "      <td>0.819165</td>\n",
       "      <td>2017-01-07</td>\n",
       "      <td>0.999306</td>\n",
       "    </tr>\n",
       "    <tr>\n",
       "      <th>3</th>\n",
       "      <td>5.008222</td>\n",
       "      <td>5.907283</td>\n",
       "      <td>17781.534847</td>\n",
       "      <td>18672.276890</td>\n",
       "      <td>0.896259</td>\n",
       "      <td>17764.601557</td>\n",
       "      <td>0.852701</td>\n",
       "      <td>2017-01-08</td>\n",
       "      <td>0.886806</td>\n",
       "    </tr>\n",
       "    <tr>\n",
       "      <th>4</th>\n",
       "      <td>5.330213</td>\n",
       "      <td>6.242199</td>\n",
       "      <td>24773.262411</td>\n",
       "      <td>30579.735018</td>\n",
       "      <td>1.467826</td>\n",
       "      <td>33718.990271</td>\n",
       "      <td>1.618503</td>\n",
       "      <td>2017-01-09</td>\n",
       "      <td>0.979167</td>\n",
       "    </tr>\n",
       "    <tr>\n",
       "      <th>5</th>\n",
       "      <td>5.641845</td>\n",
       "      <td>6.609963</td>\n",
       "      <td>25525.726937</td>\n",
       "      <td>27654.340297</td>\n",
       "      <td>1.327405</td>\n",
       "      <td>31479.962892</td>\n",
       "      <td>1.511054</td>\n",
       "      <td>2017-01-10</td>\n",
       "      <td>0.940972</td>\n",
       "    </tr>\n",
       "    <tr>\n",
       "      <th>6</th>\n",
       "      <td>9.080912</td>\n",
       "      <td>10.324652</td>\n",
       "      <td>26784.533230</td>\n",
       "      <td>30375.449978</td>\n",
       "      <td>1.458003</td>\n",
       "      <td>36064.848991</td>\n",
       "      <td>1.731125</td>\n",
       "      <td>2017-01-11</td>\n",
       "      <td>0.898611</td>\n",
       "    </tr>\n",
       "    <tr>\n",
       "      <th>7</th>\n",
       "      <td>7.197220</td>\n",
       "      <td>8.318902</td>\n",
       "      <td>21925.059069</td>\n",
       "      <td>26721.555188</td>\n",
       "      <td>1.282642</td>\n",
       "      <td>32234.275771</td>\n",
       "      <td>1.547234</td>\n",
       "      <td>2017-01-12</td>\n",
       "      <td>0.999306</td>\n",
       "    </tr>\n",
       "    <tr>\n",
       "      <th>8</th>\n",
       "      <td>3.548123</td>\n",
       "      <td>4.250881</td>\n",
       "      <td>26919.141762</td>\n",
       "      <td>16026.836313</td>\n",
       "      <td>0.769282</td>\n",
       "      <td>16565.859166</td>\n",
       "      <td>0.795167</td>\n",
       "      <td>2017-01-13</td>\n",
       "      <td>0.906250</td>\n",
       "    </tr>\n",
       "    <tr>\n",
       "      <th>9</th>\n",
       "      <td>4.639005</td>\n",
       "      <td>5.466372</td>\n",
       "      <td>12287.788925</td>\n",
       "      <td>16341.092234</td>\n",
       "      <td>0.784371</td>\n",
       "      <td>18561.669239</td>\n",
       "      <td>0.890950</td>\n",
       "      <td>2017-01-14</td>\n",
       "      <td>0.865278</td>\n",
       "    </tr>\n",
       "    <tr>\n",
       "      <th>10</th>\n",
       "      <td>8.597284</td>\n",
       "      <td>9.855641</td>\n",
       "      <td>29976.427577</td>\n",
       "      <td>26524.237253</td>\n",
       "      <td>1.273153</td>\n",
       "      <td>29276.234123</td>\n",
       "      <td>1.405265</td>\n",
       "      <td>2017-01-15</td>\n",
       "      <td>0.997222</td>\n",
       "    </tr>\n",
       "    <tr>\n",
       "      <th>11</th>\n",
       "      <td>11.605972</td>\n",
       "      <td>13.052986</td>\n",
       "      <td>21360.788194</td>\n",
       "      <td>30725.136000</td>\n",
       "      <td>1.474798</td>\n",
       "      <td>35516.795477</td>\n",
       "      <td>1.704794</td>\n",
       "      <td>2017-01-16</td>\n",
       "      <td>1.000000</td>\n",
       "    </tr>\n",
       "    <tr>\n",
       "      <th>12</th>\n",
       "      <td>19.976778</td>\n",
       "      <td>21.743863</td>\n",
       "      <td>15509.919805</td>\n",
       "      <td>32354.387687</td>\n",
       "      <td>1.553008</td>\n",
       "      <td>37277.142338</td>\n",
       "      <td>1.789297</td>\n",
       "      <td>2017-01-17</td>\n",
       "      <td>0.995833</td>\n",
       "    </tr>\n",
       "    <tr>\n",
       "      <th>13</th>\n",
       "      <td>3.491036</td>\n",
       "      <td>4.197869</td>\n",
       "      <td>15990.602498</td>\n",
       "      <td>12470.303703</td>\n",
       "      <td>0.598572</td>\n",
       "      <td>14696.880054</td>\n",
       "      <td>0.705444</td>\n",
       "      <td>2017-01-18</td>\n",
       "      <td>0.945139</td>\n",
       "    </tr>\n",
       "    <tr>\n",
       "      <th>14</th>\n",
       "      <td>5.213354</td>\n",
       "      <td>6.097496</td>\n",
       "      <td>27671.183612</td>\n",
       "      <td>23651.849960</td>\n",
       "      <td>1.135295</td>\n",
       "      <td>28164.349603</td>\n",
       "      <td>1.351908</td>\n",
       "      <td>2017-01-19</td>\n",
       "      <td>0.915278</td>\n",
       "    </tr>\n",
       "    <tr>\n",
       "      <th>15</th>\n",
       "      <td>6.258819</td>\n",
       "      <td>7.283589</td>\n",
       "      <td>17170.835890</td>\n",
       "      <td>20059.630374</td>\n",
       "      <td>0.962873</td>\n",
       "      <td>24127.562198</td>\n",
       "      <td>1.158121</td>\n",
       "      <td>2017-01-20</td>\n",
       "      <td>0.905556</td>\n",
       "    </tr>\n",
       "    <tr>\n",
       "      <th>16</th>\n",
       "      <td>15.904263</td>\n",
       "      <td>17.574773</td>\n",
       "      <td>10305.152341</td>\n",
       "      <td>21070.505440</td>\n",
       "      <td>1.011375</td>\n",
       "      <td>25205.598015</td>\n",
       "      <td>1.209882</td>\n",
       "      <td>2017-01-21</td>\n",
       "      <td>0.993750</td>\n",
       "    </tr>\n",
       "    <tr>\n",
       "      <th>17</th>\n",
       "      <td>11.875053</td>\n",
       "      <td>13.331184</td>\n",
       "      <td>7062.314646</td>\n",
       "      <td>14602.196733</td>\n",
       "      <td>0.700917</td>\n",
       "      <td>17508.290392</td>\n",
       "      <td>0.840388</td>\n",
       "      <td>2017-01-22</td>\n",
       "      <td>0.990972</td>\n",
       "    </tr>\n",
       "    <tr>\n",
       "      <th>18</th>\n",
       "      <td>2.588845</td>\n",
       "      <td>3.162818</td>\n",
       "      <td>4386.659491</td>\n",
       "      <td>2726.553515</td>\n",
       "      <td>0.130866</td>\n",
       "      <td>3250.830966</td>\n",
       "      <td>0.156041</td>\n",
       "      <td>2017-01-23</td>\n",
       "      <td>0.709722</td>\n",
       "    </tr>\n",
       "    <tr>\n",
       "      <th>19</th>\n",
       "      <td>1.772917</td>\n",
       "      <td>2.222106</td>\n",
       "      <td>20926.342593</td>\n",
       "      <td>11996.240233</td>\n",
       "      <td>0.575815</td>\n",
       "      <td>11732.976160</td>\n",
       "      <td>0.563174</td>\n",
       "      <td>2017-01-24</td>\n",
       "      <td>0.600000</td>\n",
       "    </tr>\n",
       "    <tr>\n",
       "      <th>20</th>\n",
       "      <td>3.678599</td>\n",
       "      <td>4.386443</td>\n",
       "      <td>22205.817212</td>\n",
       "      <td>18236.405051</td>\n",
       "      <td>0.875353</td>\n",
       "      <td>21623.128345</td>\n",
       "      <td>1.037897</td>\n",
       "      <td>2017-01-25</td>\n",
       "      <td>0.911806</td>\n",
       "    </tr>\n",
       "    <tr>\n",
       "      <th>21</th>\n",
       "      <td>7.699661</td>\n",
       "      <td>8.783545</td>\n",
       "      <td>20118.731976</td>\n",
       "      <td>28571.931848</td>\n",
       "      <td>1.371460</td>\n",
       "      <td>35326.518508</td>\n",
       "      <td>1.695664</td>\n",
       "      <td>2017-01-26</td>\n",
       "      <td>0.818750</td>\n",
       "    </tr>\n",
       "    <tr>\n",
       "      <th>22</th>\n",
       "      <td>1.860630</td>\n",
       "      <td>2.309055</td>\n",
       "      <td>12697.588583</td>\n",
       "      <td>8177.800404</td>\n",
       "      <td>0.392553</td>\n",
       "      <td>10003.065614</td>\n",
       "      <td>0.480138</td>\n",
       "      <td>2017-01-27</td>\n",
       "      <td>0.705556</td>\n",
       "    </tr>\n",
       "    <tr>\n",
       "      <th>23</th>\n",
       "      <td>4.015314</td>\n",
       "      <td>4.790614</td>\n",
       "      <td>10339.573042</td>\n",
       "      <td>9295.301377</td>\n",
       "      <td>0.446171</td>\n",
       "      <td>10986.800795</td>\n",
       "      <td>0.527359</td>\n",
       "      <td>2017-01-28</td>\n",
       "      <td>0.984028</td>\n",
       "    </tr>\n",
       "    <tr>\n",
       "      <th>24</th>\n",
       "      <td>7.649234</td>\n",
       "      <td>8.776323</td>\n",
       "      <td>13014.777159</td>\n",
       "      <td>16248.957465</td>\n",
       "      <td>0.779948</td>\n",
       "      <td>19166.122018</td>\n",
       "      <td>0.919966</td>\n",
       "      <td>2017-01-29</td>\n",
       "      <td>0.997222</td>\n",
       "    </tr>\n",
       "    <tr>\n",
       "      <th>25</th>\n",
       "      <td>5.157657</td>\n",
       "      <td>6.081439</td>\n",
       "      <td>22630.088167</td>\n",
       "      <td>16415.476787</td>\n",
       "      <td>0.787951</td>\n",
       "      <td>18103.325231</td>\n",
       "      <td>0.868969</td>\n",
       "      <td>2017-01-30</td>\n",
       "      <td>0.598611</td>\n",
       "    </tr>\n",
       "    <tr>\n",
       "      <th>26</th>\n",
       "      <td>9.159952</td>\n",
       "      <td>10.441607</td>\n",
       "      <td>19182.134293</td>\n",
       "      <td>25063.942550</td>\n",
       "      <td>1.203055</td>\n",
       "      <td>29620.556906</td>\n",
       "      <td>1.421771</td>\n",
       "      <td>2017-01-31</td>\n",
       "      <td>0.579167</td>\n",
       "    </tr>\n",
       "    <tr>\n",
       "      <th>27</th>\n",
       "      <td>7.124510</td>\n",
       "      <td>8.154031</td>\n",
       "      <td>16196.328400</td>\n",
       "      <td>18329.819258</td>\n",
       "      <td>0.879819</td>\n",
       "      <td>22205.129570</td>\n",
       "      <td>1.065858</td>\n",
       "      <td>2017-02-01</td>\n",
       "      <td>0.985417</td>\n",
       "    </tr>\n",
       "    <tr>\n",
       "      <th>28</th>\n",
       "      <td>3.850374</td>\n",
       "      <td>4.597119</td>\n",
       "      <td>21642.467672</td>\n",
       "      <td>17079.627047</td>\n",
       "      <td>0.819828</td>\n",
       "      <td>19577.819574</td>\n",
       "      <td>0.939745</td>\n",
       "      <td>2017-02-02</td>\n",
       "      <td>0.966667</td>\n",
       "    </tr>\n",
       "    <tr>\n",
       "      <th>29</th>\n",
       "      <td>5.118813</td>\n",
       "      <td>6.001619</td>\n",
       "      <td>22457.735075</td>\n",
       "      <td>20331.950885</td>\n",
       "      <td>0.975952</td>\n",
       "      <td>21727.641645</td>\n",
       "      <td>1.042948</td>\n",
       "      <td>2017-02-03</td>\n",
       "      <td>0.930556</td>\n",
       "    </tr>\n",
       "    <tr>\n",
       "      <th>30</th>\n",
       "      <td>4.471524</td>\n",
       "      <td>5.276376</td>\n",
       "      <td>13493.824042</td>\n",
       "      <td>14320.328934</td>\n",
       "      <td>0.687368</td>\n",
       "      <td>16256.710655</td>\n",
       "      <td>0.780314</td>\n",
       "      <td>2017-02-04</td>\n",
       "      <td>0.797222</td>\n",
       "    </tr>\n",
       "    <tr>\n",
       "      <th>31</th>\n",
       "      <td>10.090264</td>\n",
       "      <td>11.457561</td>\n",
       "      <td>11272.610841</td>\n",
       "      <td>20105.441136</td>\n",
       "      <td>0.965065</td>\n",
       "      <td>24310.095473</td>\n",
       "      <td>1.166890</td>\n",
       "      <td>2017-02-05</td>\n",
       "      <td>0.999306</td>\n",
       "    </tr>\n",
       "    <tr>\n",
       "      <th>32</th>\n",
       "      <td>11.500968</td>\n",
       "      <td>12.936511</td>\n",
       "      <td>23363.718663</td>\n",
       "      <td>21285.076353</td>\n",
       "      <td>1.021683</td>\n",
       "      <td>26169.366033</td>\n",
       "      <td>1.256127</td>\n",
       "      <td>2017-02-06</td>\n",
       "      <td>0.997222</td>\n",
       "    </tr>\n",
       "    <tr>\n",
       "      <th>33</th>\n",
       "      <td>15.099882</td>\n",
       "      <td>16.701169</td>\n",
       "      <td>15983.757829</td>\n",
       "      <td>23525.339850</td>\n",
       "      <td>1.129206</td>\n",
       "      <td>28872.824285</td>\n",
       "      <td>1.385898</td>\n",
       "      <td>2017-02-07</td>\n",
       "      <td>0.997917</td>\n",
       "    </tr>\n",
       "    <tr>\n",
       "      <th>34</th>\n",
       "      <td>9.015947</td>\n",
       "      <td>10.175036</td>\n",
       "      <td>23428.120516</td>\n",
       "      <td>21392.688039</td>\n",
       "      <td>1.026849</td>\n",
       "      <td>28039.932900</td>\n",
       "      <td>1.345933</td>\n",
       "      <td>2017-02-08</td>\n",
       "      <td>0.968056</td>\n",
       "    </tr>\n",
       "    <tr>\n",
       "      <th>35</th>\n",
       "      <td>2.455190</td>\n",
       "      <td>3.003152</td>\n",
       "      <td>11259.278566</td>\n",
       "      <td>9665.201255</td>\n",
       "      <td>0.463923</td>\n",
       "      <td>10160.317183</td>\n",
       "      <td>0.487679</td>\n",
       "      <td>2017-02-09</td>\n",
       "      <td>0.929861</td>\n",
       "    </tr>\n",
       "    <tr>\n",
       "      <th>36</th>\n",
       "      <td>4.699576</td>\n",
       "      <td>5.520342</td>\n",
       "      <td>17706.583643</td>\n",
       "      <td>17049.993458</td>\n",
       "      <td>0.818385</td>\n",
       "      <td>20795.038231</td>\n",
       "      <td>0.998149</td>\n",
       "      <td>2017-02-10</td>\n",
       "      <td>0.934028</td>\n",
       "    </tr>\n",
       "    <tr>\n",
       "      <th>37</th>\n",
       "      <td>14.646469</td>\n",
       "      <td>16.144815</td>\n",
       "      <td>22777.099407</td>\n",
       "      <td>35076.587064</td>\n",
       "      <td>1.683682</td>\n",
       "      <td>44540.752135</td>\n",
       "      <td>2.137957</td>\n",
       "      <td>2017-02-11</td>\n",
       "      <td>0.936111</td>\n",
       "    </tr>\n",
       "    <tr>\n",
       "      <th>38</th>\n",
       "      <td>8.837917</td>\n",
       "      <td>9.951079</td>\n",
       "      <td>13921.212054</td>\n",
       "      <td>20603.265336</td>\n",
       "      <td>0.988960</td>\n",
       "      <td>24969.420255</td>\n",
       "      <td>1.198533</td>\n",
       "      <td>2017-02-12</td>\n",
       "      <td>0.933333</td>\n",
       "    </tr>\n",
       "    <tr>\n",
       "      <th>39</th>\n",
       "      <td>3.509700</td>\n",
       "      <td>4.202099</td>\n",
       "      <td>23066.711479</td>\n",
       "      <td>11133.898472</td>\n",
       "      <td>0.534445</td>\n",
       "      <td>10794.742651</td>\n",
       "      <td>0.518131</td>\n",
       "      <td>2017-02-13</td>\n",
       "      <td>0.671528</td>\n",
       "    </tr>\n",
       "    <tr>\n",
       "      <th>40</th>\n",
       "      <td>7.060508</td>\n",
       "      <td>8.170412</td>\n",
       "      <td>29055.577631</td>\n",
       "      <td>24944.490100</td>\n",
       "      <td>1.197338</td>\n",
       "      <td>30098.110792</td>\n",
       "      <td>1.444699</td>\n",
       "      <td>2017-02-14</td>\n",
       "      <td>0.943750</td>\n",
       "    </tr>\n",
       "    <tr>\n",
       "      <th>41</th>\n",
       "      <td>10.109458</td>\n",
       "      <td>11.370135</td>\n",
       "      <td>21912.284424</td>\n",
       "      <td>28086.485070</td>\n",
       "      <td>1.348172</td>\n",
       "      <td>35818.079193</td>\n",
       "      <td>1.719266</td>\n",
       "      <td>2017-02-15</td>\n",
       "      <td>0.922917</td>\n",
       "    </tr>\n",
       "    <tr>\n",
       "      <th>42</th>\n",
       "      <td>3.195958</td>\n",
       "      <td>3.854057</td>\n",
       "      <td>22852.365400</td>\n",
       "      <td>11508.375771</td>\n",
       "      <td>0.552404</td>\n",
       "      <td>11408.601350</td>\n",
       "      <td>0.547624</td>\n",
       "      <td>2017-02-16</td>\n",
       "      <td>0.895139</td>\n",
       "    </tr>\n",
       "    <tr>\n",
       "      <th>43</th>\n",
       "      <td>5.333824</td>\n",
       "      <td>6.282143</td>\n",
       "      <td>21020.007003</td>\n",
       "      <td>14841.504679</td>\n",
       "      <td>0.712385</td>\n",
       "      <td>18002.625461</td>\n",
       "      <td>0.864120</td>\n",
       "      <td>2017-02-17</td>\n",
       "      <td>0.991667</td>\n",
       "    </tr>\n",
       "    <tr>\n",
       "      <th>44</th>\n",
       "      <td>10.098277</td>\n",
       "      <td>11.437860</td>\n",
       "      <td>18860.430855</td>\n",
       "      <td>25540.551396</td>\n",
       "      <td>1.225953</td>\n",
       "      <td>33588.159415</td>\n",
       "      <td>1.612231</td>\n",
       "      <td>2017-02-18</td>\n",
       "      <td>0.999306</td>\n",
       "    </tr>\n",
       "    <tr>\n",
       "      <th>45</th>\n",
       "      <td>7.277050</td>\n",
       "      <td>8.373927</td>\n",
       "      <td>18731.493180</td>\n",
       "      <td>21404.436816</td>\n",
       "      <td>1.027423</td>\n",
       "      <td>29240.172036</td>\n",
       "      <td>1.403522</td>\n",
       "      <td>2017-02-19</td>\n",
       "      <td>0.967361</td>\n",
       "    </tr>\n",
       "    <tr>\n",
       "      <th>46</th>\n",
       "      <td>5.664718</td>\n",
       "      <td>6.164958</td>\n",
       "      <td>25096.429344</td>\n",
       "      <td>12543.383213</td>\n",
       "      <td>0.602053</td>\n",
       "      <td>16608.141615</td>\n",
       "      <td>0.797188</td>\n",
       "      <td>2017-02-20</td>\n",
       "      <td>0.899306</td>\n",
       "    </tr>\n",
       "    <tr>\n",
       "      <th>47</th>\n",
       "      <td>3.479935</td>\n",
       "      <td>4.166892</td>\n",
       "      <td>22924.776241</td>\n",
       "      <td>14760.762224</td>\n",
       "      <td>0.708504</td>\n",
       "      <td>19375.459421</td>\n",
       "      <td>0.930041</td>\n",
       "      <td>2017-02-21</td>\n",
       "      <td>0.853472</td>\n",
       "    </tr>\n",
       "    <tr>\n",
       "      <th>48</th>\n",
       "      <td>7.657448</td>\n",
       "      <td>8.793112</td>\n",
       "      <td>27133.380597</td>\n",
       "      <td>29596.905205</td>\n",
       "      <td>1.420644</td>\n",
       "      <td>39791.574606</td>\n",
       "      <td>1.909988</td>\n",
       "      <td>2017-02-22</td>\n",
       "      <td>0.930556</td>\n",
       "    </tr>\n",
       "    <tr>\n",
       "      <th>49</th>\n",
       "      <td>15.523322</td>\n",
       "      <td>17.123969</td>\n",
       "      <td>25469.280641</td>\n",
       "      <td>37919.372609</td>\n",
       "      <td>1.820123</td>\n",
       "      <td>50815.247659</td>\n",
       "      <td>2.439131</td>\n",
       "      <td>2017-02-23</td>\n",
       "      <td>0.997222</td>\n",
       "    </tr>\n",
       "    <tr>\n",
       "      <th>50</th>\n",
       "      <td>4.899449</td>\n",
       "      <td>5.749750</td>\n",
       "      <td>24150.304699</td>\n",
       "      <td>20599.622302</td>\n",
       "      <td>0.988797</td>\n",
       "      <td>28869.221885</td>\n",
       "      <td>1.385722</td>\n",
       "      <td>2017-02-24</td>\n",
       "      <td>0.945833</td>\n",
       "    </tr>\n",
       "    <tr>\n",
       "      <th>51</th>\n",
       "      <td>3.988936</td>\n",
       "      <td>4.703699</td>\n",
       "      <td>22454.395649</td>\n",
       "      <td>12999.853153</td>\n",
       "      <td>0.623985</td>\n",
       "      <td>20095.628951</td>\n",
       "      <td>0.964600</td>\n",
       "      <td>2017-02-25</td>\n",
       "      <td>0.861806</td>\n",
       "    </tr>\n",
       "    <tr>\n",
       "      <th>52</th>\n",
       "      <td>1.962187</td>\n",
       "      <td>2.435891</td>\n",
       "      <td>10707.287465</td>\n",
       "      <td>5953.515816</td>\n",
       "      <td>0.285769</td>\n",
       "      <td>7543.777597</td>\n",
       "      <td>0.362096</td>\n",
       "      <td>2017-02-26</td>\n",
       "      <td>0.736806</td>\n",
       "    </tr>\n",
       "    <tr>\n",
       "      <th>53</th>\n",
       "      <td>7.483521</td>\n",
       "      <td>8.638160</td>\n",
       "      <td>17797.895833</td>\n",
       "      <td>17260.332172</td>\n",
       "      <td>0.828496</td>\n",
       "      <td>24754.401854</td>\n",
       "      <td>1.188229</td>\n",
       "      <td>2017-02-27</td>\n",
       "      <td>1.000000</td>\n",
       "    </tr>\n",
       "    <tr>\n",
       "      <th>54</th>\n",
       "      <td>7.347163</td>\n",
       "      <td>8.469111</td>\n",
       "      <td>21370.437544</td>\n",
       "      <td>19668.989912</td>\n",
       "      <td>0.944109</td>\n",
       "      <td>30317.857700</td>\n",
       "      <td>1.455248</td>\n",
       "      <td>2017-02-28</td>\n",
       "      <td>0.984028</td>\n",
       "    </tr>\n",
       "  </tbody>\n",
       "</table>\n",
       "</div>"
      ],
      "text/plain": [
       "    PM2.5_FEM_MC (ug/m3)  PM2.5_MC (ug/m3)  Ultrafine (#/cm3)  PN-1 (#/cm3)  \\\n",
       "0               5.045756          5.952952       14435.571956  12230.657245   \n",
       "1               7.770787          8.933216       26484.646067  23460.140199   \n",
       "2               5.892842          6.870049       11457.748436  16100.999698   \n",
       "3               5.008222          5.907283       17781.534847  18672.276890   \n",
       "4               5.330213          6.242199       24773.262411  30579.735018   \n",
       "5               5.641845          6.609963       25525.726937  27654.340297   \n",
       "6               9.080912         10.324652       26784.533230  30375.449978   \n",
       "7               7.197220          8.318902       21925.059069  26721.555188   \n",
       "8               3.548123          4.250881       26919.141762  16026.836313   \n",
       "9               4.639005          5.466372       12287.788925  16341.092234   \n",
       "10              8.597284          9.855641       29976.427577  26524.237253   \n",
       "11             11.605972         13.052986       21360.788194  30725.136000   \n",
       "12             19.976778         21.743863       15509.919805  32354.387687   \n",
       "13              3.491036          4.197869       15990.602498  12470.303703   \n",
       "14              5.213354          6.097496       27671.183612  23651.849960   \n",
       "15              6.258819          7.283589       17170.835890  20059.630374   \n",
       "16             15.904263         17.574773       10305.152341  21070.505440   \n",
       "17             11.875053         13.331184        7062.314646  14602.196733   \n",
       "18              2.588845          3.162818        4386.659491   2726.553515   \n",
       "19              1.772917          2.222106       20926.342593  11996.240233   \n",
       "20              3.678599          4.386443       22205.817212  18236.405051   \n",
       "21              7.699661          8.783545       20118.731976  28571.931848   \n",
       "22              1.860630          2.309055       12697.588583   8177.800404   \n",
       "23              4.015314          4.790614       10339.573042   9295.301377   \n",
       "24              7.649234          8.776323       13014.777159  16248.957465   \n",
       "25              5.157657          6.081439       22630.088167  16415.476787   \n",
       "26              9.159952         10.441607       19182.134293  25063.942550   \n",
       "27              7.124510          8.154031       16196.328400  18329.819258   \n",
       "28              3.850374          4.597119       21642.467672  17079.627047   \n",
       "29              5.118813          6.001619       22457.735075  20331.950885   \n",
       "30              4.471524          5.276376       13493.824042  14320.328934   \n",
       "31             10.090264         11.457561       11272.610841  20105.441136   \n",
       "32             11.500968         12.936511       23363.718663  21285.076353   \n",
       "33             15.099882         16.701169       15983.757829  23525.339850   \n",
       "34              9.015947         10.175036       23428.120516  21392.688039   \n",
       "35              2.455190          3.003152       11259.278566   9665.201255   \n",
       "36              4.699576          5.520342       17706.583643  17049.993458   \n",
       "37             14.646469         16.144815       22777.099407  35076.587064   \n",
       "38              8.837917          9.951079       13921.212054  20603.265336   \n",
       "39              3.509700          4.202099       23066.711479  11133.898472   \n",
       "40              7.060508          8.170412       29055.577631  24944.490100   \n",
       "41             10.109458         11.370135       21912.284424  28086.485070   \n",
       "42              3.195958          3.854057       22852.365400  11508.375771   \n",
       "43              5.333824          6.282143       21020.007003  14841.504679   \n",
       "44             10.098277         11.437860       18860.430855  25540.551396   \n",
       "45              7.277050          8.373927       18731.493180  21404.436816   \n",
       "46              5.664718          6.164958       25096.429344  12543.383213   \n",
       "47              3.479935          4.166892       22924.776241  14760.762224   \n",
       "48              7.657448          8.793112       27133.380597  29596.905205   \n",
       "49             15.523322         17.123969       25469.280641  37919.372609   \n",
       "50              4.899449          5.749750       24150.304699  20599.622302   \n",
       "51              3.988936          4.703699       22454.395649  12999.853153   \n",
       "52              1.962187          2.435891       10707.287465   5953.515816   \n",
       "53              7.483521          8.638160       17797.895833  17260.332172   \n",
       "54              7.347163          8.469111       21370.437544  19668.989912   \n",
       "\n",
       "    PM2.5-1 (ug/m3)  PN-2 (#/cm3)  PM2.5-2 (ug/m3)        date       pct  \n",
       "0          0.587071  13922.157675         0.668281  2017-01-05  0.752778  \n",
       "1          1.126079  25295.531879         1.214171  2017-01-06  0.988889  \n",
       "2          0.772842  17066.103185         0.819165  2017-01-07  0.999306  \n",
       "3          0.896259  17764.601557         0.852701  2017-01-08  0.886806  \n",
       "4          1.467826  33718.990271         1.618503  2017-01-09  0.979167  \n",
       "5          1.327405  31479.962892         1.511054  2017-01-10  0.940972  \n",
       "6          1.458003  36064.848991         1.731125  2017-01-11  0.898611  \n",
       "7          1.282642  32234.275771         1.547234  2017-01-12  0.999306  \n",
       "8          0.769282  16565.859166         0.795167  2017-01-13  0.906250  \n",
       "9          0.784371  18561.669239         0.890950  2017-01-14  0.865278  \n",
       "10         1.273153  29276.234123         1.405265  2017-01-15  0.997222  \n",
       "11         1.474798  35516.795477         1.704794  2017-01-16  1.000000  \n",
       "12         1.553008  37277.142338         1.789297  2017-01-17  0.995833  \n",
       "13         0.598572  14696.880054         0.705444  2017-01-18  0.945139  \n",
       "14         1.135295  28164.349603         1.351908  2017-01-19  0.915278  \n",
       "15         0.962873  24127.562198         1.158121  2017-01-20  0.905556  \n",
       "16         1.011375  25205.598015         1.209882  2017-01-21  0.993750  \n",
       "17         0.700917  17508.290392         0.840388  2017-01-22  0.990972  \n",
       "18         0.130866   3250.830966         0.156041  2017-01-23  0.709722  \n",
       "19         0.575815  11732.976160         0.563174  2017-01-24  0.600000  \n",
       "20         0.875353  21623.128345         1.037897  2017-01-25  0.911806  \n",
       "21         1.371460  35326.518508         1.695664  2017-01-26  0.818750  \n",
       "22         0.392553  10003.065614         0.480138  2017-01-27  0.705556  \n",
       "23         0.446171  10986.800795         0.527359  2017-01-28  0.984028  \n",
       "24         0.779948  19166.122018         0.919966  2017-01-29  0.997222  \n",
       "25         0.787951  18103.325231         0.868969  2017-01-30  0.598611  \n",
       "26         1.203055  29620.556906         1.421771  2017-01-31  0.579167  \n",
       "27         0.879819  22205.129570         1.065858  2017-02-01  0.985417  \n",
       "28         0.819828  19577.819574         0.939745  2017-02-02  0.966667  \n",
       "29         0.975952  21727.641645         1.042948  2017-02-03  0.930556  \n",
       "30         0.687368  16256.710655         0.780314  2017-02-04  0.797222  \n",
       "31         0.965065  24310.095473         1.166890  2017-02-05  0.999306  \n",
       "32         1.021683  26169.366033         1.256127  2017-02-06  0.997222  \n",
       "33         1.129206  28872.824285         1.385898  2017-02-07  0.997917  \n",
       "34         1.026849  28039.932900         1.345933  2017-02-08  0.968056  \n",
       "35         0.463923  10160.317183         0.487679  2017-02-09  0.929861  \n",
       "36         0.818385  20795.038231         0.998149  2017-02-10  0.934028  \n",
       "37         1.683682  44540.752135         2.137957  2017-02-11  0.936111  \n",
       "38         0.988960  24969.420255         1.198533  2017-02-12  0.933333  \n",
       "39         0.534445  10794.742651         0.518131  2017-02-13  0.671528  \n",
       "40         1.197338  30098.110792         1.444699  2017-02-14  0.943750  \n",
       "41         1.348172  35818.079193         1.719266  2017-02-15  0.922917  \n",
       "42         0.552404  11408.601350         0.547624  2017-02-16  0.895139  \n",
       "43         0.712385  18002.625461         0.864120  2017-02-17  0.991667  \n",
       "44         1.225953  33588.159415         1.612231  2017-02-18  0.999306  \n",
       "45         1.027423  29240.172036         1.403522  2017-02-19  0.967361  \n",
       "46         0.602053  16608.141615         0.797188  2017-02-20  0.899306  \n",
       "47         0.708504  19375.459421         0.930041  2017-02-21  0.853472  \n",
       "48         1.420644  39791.574606         1.909988  2017-02-22  0.930556  \n",
       "49         1.820123  50815.247659         2.439131  2017-02-23  0.997222  \n",
       "50         0.988797  28869.221885         1.385722  2017-02-24  0.945833  \n",
       "51         0.623985  20095.628951         0.964600  2017-02-25  0.861806  \n",
       "52         0.285769   7543.777597         0.362096  2017-02-26  0.736806  \n",
       "53         0.828496  24754.401854         1.188229  2017-02-27  1.000000  \n",
       "54         0.944109  30317.857700         1.455248  2017-02-28  0.984028  "
      ]
     },
     "execution_count": 342,
     "metadata": {},
     "output_type": "execute_result"
    }
   ],
   "source": [
    "daily2"
   ]
  },
  {
   "cell_type": "code",
   "execution_count": null,
   "metadata": {
    "collapsed": true
   },
   "outputs": [],
   "source": []
  },
  {
   "cell_type": "code",
   "execution_count": null,
   "metadata": {
    "collapsed": true
   },
   "outputs": [],
   "source": []
  },
  {
   "cell_type": "code",
   "execution_count": 312,
   "metadata": {
    "collapsed": false
   },
   "outputs": [],
   "source": [
    "pct=.9"
   ]
  },
  {
   "cell_type": "code",
   "execution_count": 341,
   "metadata": {
    "collapsed": false
   },
   "outputs": [
    {
     "name": "stdout",
     "output_type": "stream",
     "text": [
      "r-squared: 0.367364790637\n",
      "y = 0.05x + 0.66\n",
      "38 out of 55\n",
      "7.7679805560254245\n"
     ]
    },
    {
     "data": {
      "text/plain": [
       "<matplotlib.legend.Legend at 0x11add3ef0>"
      ]
     },
     "execution_count": 341,
     "metadata": {},
     "output_type": "execute_result"
    },
    {
     "data": {
      "image/png": "[encoded data removed]",
      "text/plain": [
       "<matplotlib.figure.Figure at 0x118b8d358>"
      ]
     },
     "metadata": {},
     "output_type": "display_data"
    },
    {
     "data": {
      "image/png": "[encoded data removed]",
      "text/plain": [
       "<matplotlib.figure.Figure at 0x11add3400>"
      ]
     },
     "metadata": {},
     "output_type": "display_data"
    }
   ],
   "source": [
    "x=daily2['PM2.5_FEM_MC (ug/m3)'][daily2['pct']>pct]\n",
    "y=daily2['PM2.5-1 (ug/m3)'][daily2['pct']>pct]\n",
    "slope, intercept, r_value, p_value, std_err = stats.linregress(x,y)\n",
    "print(\"r-squared:\", r_value**2)\n",
    "print('y = %sx + %s' % (round(slope,2),round(intercept,2)))\n",
    "plt.figure(figsize=(5,5))\n",
    "plt.xlim(0,20)\n",
    "plt.ylim(0,20)\n",
    "plt.scatter(x,y*(x/y).mean())\n",
    "plt.plot([0,20], [0, 20], color='k', linestyle='-', linewidth=0.5)\n",
    "print(len(x),'out of',len(daily2))\n",
    "print((x/y).mean())\n",
    "plt.figure(figsize=(10,5))\n",
    "plt.plot(daily2['date'][daily2['pct']>pct],(daily2['PM2.5-1 (ug/m3)'][daily2['pct']>pct]*7.7),'.-',label='Pegasor')\n",
    "plt.plot(daily2['date'][daily2['pct']>pct],daily2['PM2.5_FEM_MC (ug/m3)'][daily2['pct']>pct],'.--',label='TEOM')\n",
    "plt.legend()"
   ]
  },
  {
   "cell_type": "code",
   "execution_count": 384,
   "metadata": {
    "collapsed": false
   },
   "outputs": [
    {
     "name": "stdout",
     "output_type": "stream",
     "text": [
      "r-squared: 0.372219469629\n",
      "y = 0.06x + 0.77\n",
      "38 out of 55\n",
      "6.4073968212161745\n"
     ]
    },
    {
     "data": {
      "text/plain": [
       "<matplotlib.legend.Legend at 0x11ad02240>"
      ]
     },
     "execution_count": 384,
     "metadata": {},
     "output_type": "execute_result"
    },
    {
     "data": {
      "image/png": "[encoded data removed]",
      "text/plain": [
       "<matplotlib.figure.Figure at 0x11afacb38>"
      ]
     },
     "metadata": {},
     "output_type": "display_data"
    },
    {
     "data": {
      "image/png": "[encoded data removed]",
      "text/plain": [
       "<matplotlib.figure.Figure at 0x11ad02978>"
      ]
     },
     "metadata": {},
     "output_type": "display_data"
    }
   ],
   "source": [
    "x=daily2['PM2.5_FEM_MC (ug/m3)'][daily2['pct']>pct]\n",
    "y=daily2['PM2.5-2 (ug/m3)'][daily2['pct']>pct]\n",
    "slope, intercept, r_value, p_value, std_err = stats.linregress(x,y)\n",
    "print(\"r-squared:\", r_value**2)\n",
    "print('y = %sx + %s' % (round(slope,2),round(intercept,2)))\n",
    "plt.figure(figsize=(5,5))\n",
    "plt.xlim(0,20)\n",
    "plt.ylim(0,20)\n",
    "plt.scatter(x,y*(x/y).mean())\n",
    "plt.plot([0,20], [0, 20], color='k', linestyle='-', linewidth=0.5)\n",
    "print(len(x),'out of',len(daily2))\n",
    "print((x/y).mean())\n",
    "plt.figure(figsize=(10,5))\n",
    "plt.plot(daily2['date'][daily2['pct']>pct],(daily2['PM2.5-2 (ug/m3)'][daily2['pct']>pct]*6.4),'.-',label='Pegasor')\n",
    "plt.plot(daily2['date'][daily2['pct']>pct],daily2['PM2.5_FEM_MC (ug/m3)'][daily2['pct']>pct],'.--',label='TEOM')\n",
    "plt.legend()"
   ]
  },
  {
   "cell_type": "code",
   "execution_count": null,
   "metadata": {
    "collapsed": true
   },
   "outputs": [],
   "source": []
  },
  {
   "cell_type": "code",
   "execution_count": null,
   "metadata": {
    "collapsed": true
   },
   "outputs": [],
   "source": []
  },
  {
   "cell_type": "code",
   "execution_count": null,
   "metadata": {
    "collapsed": true
   },
   "outputs": [],
   "source": []
  },
  {
   "cell_type": "code",
   "execution_count": 340,
   "metadata": {
    "collapsed": false
   },
   "outputs": [
    {
     "name": "stdout",
     "output_type": "stream",
     "text": [
      "r-squared: 0.282662470197\n",
      "y = 0.59x + 10065.61\n"
     ]
    },
    {
     "data": {
      "text/plain": [
       "<matplotlib.legend.Legend at 0x11956d2b0>"
      ]
     },
     "execution_count": 340,
     "metadata": {},
     "output_type": "execute_result"
    },
    {
     "data": {
      "image/png": "[encoded data removed]",
      "text/plain": [
       "<matplotlib.figure.Figure at 0x11c5b3978>"
      ]
     },
     "metadata": {},
     "output_type": "display_data"
    },
    {
     "data": {
      "image/png": "[encoded data removed]",
      "text/plain": [
       "<matplotlib.figure.Figure at 0x11d9f0b38>"
      ]
     },
     "metadata": {},
     "output_type": "display_data"
    }
   ],
   "source": [
    "x=daily2['Ultrafine (#/cm3)'][daily2['pct']>pct]\n",
    "y=daily2['PN-1 (#/cm3)'][daily2['pct']>pct]\n",
    "slope, intercept, r_value, p_value, std_err = stats.linregress(x,y)\n",
    "print(\"r-squared:\", r_value**2)\n",
    "print('y = %sx + %s' % (round(slope,2),round(intercept,2)))\n",
    "plt.figure(figsize=(5,5))\n",
    "plt.xlim(0,40000)\n",
    "plt.ylim(0,40000)\n",
    "plt.scatter(x,y)\n",
    "plt.plot([0,40000], [0, 40000], color='k', linestyle='-', linewidth=0.5)\n",
    "\n",
    "plt.figure(figsize=(10,5))\n",
    "plt.plot(daily2['date'][daily2['pct']>pct],(daily2['PN-1 (#/cm3)'][daily2['pct']>pct]),'.-',label='Pegasor')\n",
    "plt.plot(daily2['date'][daily2['pct']>pct],daily2['Ultrafine (#/cm3)'][daily2['pct']>pct],'.--',label='CPC')\n",
    "plt.legend()"
   ]
  },
  {
   "cell_type": "code",
   "execution_count": null,
   "metadata": {
    "collapsed": true
   },
   "outputs": [],
   "source": []
  }
 ],
 "metadata": {
  "anaconda-cloud": {},
  "kernelspec": {
   "display_name": "Python [default]",
   "language": "python",
   "name": "python3"
  },
  "language_info": {
   "codemirror_mode": {
    "name": "ipython",
    "version": 3
   },
   "file_extension": ".py",
   "mimetype": "text/x-python",
   "name": "python",
   "nbconvert_exporter": "python",
   "pygments_lexer": "ipython3",
   "version": "3.5.2"
  }
 },
 "nbformat": 4,
 "nbformat_minor": 1
}
